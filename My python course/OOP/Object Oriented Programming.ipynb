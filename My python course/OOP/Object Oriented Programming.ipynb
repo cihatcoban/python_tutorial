{
 "cells": [
  {
   "cell_type": "markdown",
   "id": "f71a0a56",
   "metadata": {},
   "source": [
    "<h1>Python ile Nesne Tabanlı Programlama(Object Oriented Programming)</h1>\n",
    "<p>Nesne Tabanlı Programlama gerçek hayattaki nesneleri yazılım dünyasına aktarma çabasıdır. Örneğin yeni bir araba üretecek bir firmayı düşünelim. Somut olarak üretilecek olan arabanın tüm <b>özellik (attributes)</b> ve <b>fonksiyonlarını (method)</b> ilk olarak yazılıma aktarmak gerekiyor. Bu aktarım aşamasının kendisi aslında arabanın tüm özellik ve fonksiyonlarını içerecek olan bir <b>sınıfın (class)</b> oluşturmasıdır. Sınıf tanımlanmasından sonra ise sınıfın tüm özellik ve yeteneklerine sahip olacak her kopyaya ise <b>nesne (object)</b> diyoruz.</p>\n",
    "\n",
    "<p>Nesne tabanlı programlama kapsamındaki kullandığımız terimler <b>class (sınıf), object (nesne), attributes (özellik) ve metod</b> kavramlarıdır.</p>"
   ]
  },
  {
   "cell_type": "markdown",
   "id": "fecde1fc",
   "metadata": {},
   "source": [
    "<h1>Obje Nedir ?</h1>\n",
    "<p>Etrafımıza baktığımızda aslında her bir eşyanın bir <b>obje</b> olduğunu görüyoruz. Örneğin, bir Bilgisayar düşünelim. Bu Bilgisayarın kendi içinde değişik <b>özellikleri (attribute)</b> ve <b>fonksiyonları (metod)</b> bulunuyor.Örneğin, Bilgisayarın markası , CPU , GPU, SSD,KLAVYE,EKRAN vb. bu Bilgisayarın <b>özellikleridir(attribute)</b>. Power tuşuna bastığımızda bilgisayarın açılması veya kapanması gibi özelikleri metodlardır. Bunun gibi pythondaki her şey aslında bir <b>objedir</b>.</p>"
   ]
  },
  {
   "cell_type": "code",
   "execution_count": 1,
   "id": "17be9e76",
   "metadata": {},
   "outputs": [
    {
     "name": "stdout",
     "output_type": "stream",
     "text": [
      "[10, 20, 30, 40, 50]\n"
     ]
    }
   ],
   "source": [
    "liste=[10,20,30,40] #liste objesi\n",
    "liste.append(50) # append metodu\n",
    "print(liste)"
   ]
  },
  {
   "cell_type": "code",
   "execution_count": 2,
   "id": "a506ad59",
   "metadata": {},
   "outputs": [
    {
     "data": {
      "text/plain": [
       "dict"
      ]
     },
     "execution_count": 2,
     "metadata": {},
     "output_type": "execute_result"
    }
   ],
   "source": [
    "sözlük={\"armut\":\"meyve\",\"lahan\":\"sebze\",\"telefon\":\"obje\"} #dictionary objesi\n",
    "type(sözlük)"
   ]
  },
  {
   "cell_type": "code",
   "execution_count": 3,
   "id": "3e2ac536",
   "metadata": {},
   "outputs": [
    {
     "data": {
      "text/plain": [
       "35"
      ]
     },
     "execution_count": 3,
     "metadata": {},
     "output_type": "execute_result"
    }
   ],
   "source": [
    "def çarpma(i,j): #fonksiyon objesi\n",
    "    return i*j\n",
    "çarpma(5,7)\n"
   ]
  },
  {
   "cell_type": "code",
   "execution_count": null,
   "id": "7d9c5d91",
   "metadata": {},
   "outputs": [],
   "source": []
  },
  {
   "cell_type": "code",
   "execution_count": null,
   "id": "70b56d6c",
   "metadata": {},
   "outputs": [],
   "source": []
  },
  {
   "cell_type": "markdown",
   "id": "a77dfaa4",
   "metadata": {},
   "source": [
    "<h1>Class (Sınıf) Nedir ?</h1>\n",
    "<p>Gerçek hayattaki bir nesneyi yazılım dünyasında temsil edecek olan yapıya <b>class</b> denir. Tabi ki bu terim nesne tabanlı programlamayı daha somut bir şekilde anlamamız için söyleyebileceğimiz bir açıklamadır.</p>\n",
    "\n",
    "<p>Biz zaten bu aşamaya kadar nesne tabanlı programlama ile alakalı bir çok sınıfı zaten kullandık. Örneğin, python ile birlikte gelen <b>list, dict vs.</b>gibi yapıların bir class olduğunu zaten biliyoruz. Peki class bize ne fayda sağlar ?</p>"
   ]
  },
  {
   "cell_type": "code",
   "execution_count": 4,
   "id": "9b6bcff1",
   "metadata": {},
   "outputs": [],
   "source": [
    "# yeni bir bilgisayar veri tipi oluşturuyoruz\n",
    "class Bilgisayar():\n",
    "    marka=\"Asus\"\n",
    "    renk=\"siyah\"           #sınıf özellikleri (attributes)\n",
    "    ssd=512\n",
    "    ram=16\n",
    "    "
   ]
  },
  {
   "cell_type": "code",
   "execution_count": 5,
   "id": "0f0a323d",
   "metadata": {},
   "outputs": [
    {
     "data": {
      "text/plain": [
       "<__main__.Bilgisayar at 0x1e8498a0fa0>"
      ]
     },
     "execution_count": 5,
     "metadata": {},
     "output_type": "execute_result"
    }
   ],
   "source": [
    "#bilgisayar adlı veriyi aşğıdaki adrese kayıt etmiş.\n",
    "aygıt=Bilgisayar()\n",
    "aygıt"
   ]
  },
  {
   "cell_type": "code",
   "execution_count": 6,
   "id": "02c759f9",
   "metadata": {},
   "outputs": [
    {
     "data": {
      "text/plain": [
       "<__main__.Bilgisayar at 0x1e8498a0dc0>"
      ]
     },
     "execution_count": 6,
     "metadata": {},
     "output_type": "execute_result"
    }
   ],
   "source": [
    "#gördüğünüz üzere sonraki veri için adres değişti\n",
    "aygıt1=Bilgisayar()\n",
    "aygıt1"
   ]
  },
  {
   "cell_type": "code",
   "execution_count": 7,
   "id": "3fb6048b",
   "metadata": {},
   "outputs": [
    {
     "data": {
      "text/plain": [
       "'Asus'"
      ]
     },
     "execution_count": 7,
     "metadata": {},
     "output_type": "execute_result"
    }
   ],
   "source": [
    "aygıt.marka"
   ]
  },
  {
   "cell_type": "code",
   "execution_count": 8,
   "id": "9a7eeceb",
   "metadata": {},
   "outputs": [
    {
     "data": {
      "text/plain": [
       "'Asus'"
      ]
     },
     "execution_count": 8,
     "metadata": {},
     "output_type": "execute_result"
    }
   ],
   "source": [
    "#gördüğümüz üzere özelikler class da olduğu için aynı özeliklere sahip birden fazla aygıt olabiliyor.\n",
    "aygıt1.marka"
   ]
  },
  {
   "cell_type": "markdown",
   "id": "4e62dcfa",
   "metadata": {},
   "source": [
    "<p>Bizim her bir objeyi başlangıçta faklı değerlerle oluşturmamız için her bir objeyi oluştururken objenin değerlerini görmemiz gerekiyor.Bunun için de özel bir metodu kulanmamız gerekiyor.</p>\n",
    "\n",
    "                     _init_() \n",
    "                    \n",
    "<p>Peki bu method ne anlama geliyor? isterseniz ilk olarak <b>dir()</b> fonksiyonu yardımıyla <b>aygıt</b> objemizde neler var bakalım.</p>"
   ]
  },
  {
   "cell_type": "code",
   "execution_count": 9,
   "id": "48306eb6",
   "metadata": {},
   "outputs": [
    {
     "data": {
      "text/plain": [
       "['__class__',\n",
       " '__delattr__',\n",
       " '__dict__',\n",
       " '__dir__',\n",
       " '__doc__',\n",
       " '__eq__',\n",
       " '__format__',\n",
       " '__ge__',\n",
       " '__getattribute__',\n",
       " '__gt__',\n",
       " '__hash__',\n",
       " '__init__',\n",
       " '__init_subclass__',\n",
       " '__le__',\n",
       " '__lt__',\n",
       " '__module__',\n",
       " '__ne__',\n",
       " '__new__',\n",
       " '__reduce__',\n",
       " '__reduce_ex__',\n",
       " '__repr__',\n",
       " '__setattr__',\n",
       " '__sizeof__',\n",
       " '__str__',\n",
       " '__subclasshook__',\n",
       " '__weakref__',\n",
       " 'marka',\n",
       " 'ram',\n",
       " 'renk',\n",
       " 'ssd']"
      ]
     },
     "execution_count": 9,
     "metadata": {},
     "output_type": "execute_result"
    }
   ],
   "source": [
    "dir(aygıt)"
   ]
  },
  {
   "cell_type": "markdown",
   "id": "92f736cc",
   "metadata": {},
   "source": [
    "<p>Burada objemizin tüm özelliklerini ve metodlarını görüyoruz. Ancak biz herhangi bir metod tanımlamamıştır. Buradaki metodlar Python tarafından bir obje oluşturulduğunda özel olarak tanımlanan metodlardır ve biz eğer özel olarak bunları tanımlamazsak Python kendisi bunları varsayılan tanımlıyor. Burada aynı zamanda <b>init</b> metodunu da görüyoruz. Eğer biz bu metodu kendimiz tanımlarsak objelerimizi farklı değerlerle başlatabiliriz.</p>\n",
    "\n",
    "<p>Aslında <b>init</b> metodu Pythonda <b>yapıcı(constructor ) fonksiyon</b> olarak tanımlanmaktadır.<b> Bu metod objelerimiz oluşturulurken otomatik olarak ilk çağrılan fonksiyondur.</b> Bu metodu özel olarak tanımlayarak objelerimizi farklı değerlerle oluşturabiliriz.</p>"
   ]
  },
  {
   "cell_type": "code",
   "execution_count": 10,
   "id": "29a5048d",
   "metadata": {},
   "outputs": [
    {
     "name": "stdout",
     "output_type": "stream",
     "text": [
      "init fonksiyonu çağrıldı\n"
     ]
    }
   ],
   "source": [
    "#Bilgisayar veri tipi\n",
    "class Bilgisayar():\n",
    "    #şimdilik attributes(özelliklere) ihtiyacımız yok\n",
    "    def __init__(self):\n",
    "        print(\"init fonksiyonu çağrıldı\")\n",
    "\n",
    "\n",
    "aygıt=Bilgisayar()#aygıt objesi oluştululurken otomatik olarak init metodu çağrılıyor."
   ]
  },
  {
   "cell_type": "markdown",
   "id": "b49f31d5",
   "metadata": {},
   "source": [
    "<p>Peki burada <b>self</b> ne anlama geliyor ? <b>self</b> anahtar kelimesi objeyi oluşturduğumuz zaman o objeyi gösteren bir referanstır ve metodlarımızda en başta bulunması gereken bir parametredir. Yani biz bir objenin bütün özelliklerini ve metodlarını bu referans üzerinden kullanabiliriz.</p>\n",
    "\n",
    "<p><b>Objeler oluşturulurken, Python bu referansı metodlara otomatik olarak kendisi gönderir. Özel olarak self referansını göndermemize gerek yoktur.</b></p>\n",
    "\n",
    "<p><b>init metodunu ve self'i</b> iyi anlamak için objelerimize özellikler ekleyelim.</p>"
   ]
  },
  {
   "cell_type": "code",
   "execution_count": 11,
   "id": "698c24b7",
   "metadata": {},
   "outputs": [],
   "source": [
    "class Bilgisayar():\n",
    "    \n",
    "    def __init__(self,marka,renk,ssd,ram): # Parametrelerimizin değerlerini objelerimizi oluştururken göndereceğiz.\n",
    "        print(\"işlem kayıt altına alındı\")\n",
    "        self.marka=marka # self.özellik_ismi = parametre değeri şeklinde objemizin marka özelliğine değeri atıyoruz.\n",
    "        self.renk=renk # self.özellik_ismi = parametre değeri şeklinde objemizin renk özelliğine değeri atıyoruz.\n",
    "        self.ssd=ssd # self.özellik_ismi = parametre değeri şeklinde objemizin ssd özelliğine değeri atıyoruz.\n",
    "        self.ram=ram # self.özellik_ismi = parametre değeri şeklinde objemizin ram özelliğine değeri atıyoruz."
   ]
  },
  {
   "cell_type": "code",
   "execution_count": 12,
   "id": "f16f1a5f",
   "metadata": {},
   "outputs": [
    {
     "name": "stdout",
     "output_type": "stream",
     "text": [
      "işlem kayıt altına alındı\n"
     ]
    }
   ],
   "source": [
    "aygıt=Bilgisayar(\"asus\",\"siyah\",512,16)"
   ]
  },
  {
   "cell_type": "code",
   "execution_count": 13,
   "id": "7c487972",
   "metadata": {},
   "outputs": [
    {
     "name": "stdout",
     "output_type": "stream",
     "text": [
      "işlem kayıt altına alındı\n"
     ]
    }
   ],
   "source": [
    "aygıt1=Bilgisayar(\"lenova\",\"gümüş\",512,32)"
   ]
  },
  {
   "cell_type": "code",
   "execution_count": 14,
   "id": "be3f30e9",
   "metadata": {},
   "outputs": [
    {
     "data": {
      "text/plain": [
       "'asus'"
      ]
     },
     "execution_count": 14,
     "metadata": {},
     "output_type": "execute_result"
    }
   ],
   "source": [
    "aygıt.marka"
   ]
  },
  {
   "cell_type": "code",
   "execution_count": 15,
   "id": "3d39260b",
   "metadata": {},
   "outputs": [
    {
     "data": {
      "text/plain": [
       "'lenova'"
      ]
     },
     "execution_count": 15,
     "metadata": {},
     "output_type": "execute_result"
    }
   ],
   "source": [
    "#gördüğümüz üzere spesifik özeliklere sahit farklı aygıtlarımız oluştu.\n",
    "aygıt1.marka"
   ]
  },
  {
   "cell_type": "code",
   "execution_count": 16,
   "id": "195c96ed",
   "metadata": {},
   "outputs": [],
   "source": [
    "class Bilgisayar():\n",
    "    \n",
    "    def __init__(self,marka=\"bilinmiyor\",renk=\"bilinmiyor\",ssd=128,ram=8):\n",
    "        print(\"hazır durumda\")\n",
    "        self.marka=marka\n",
    "        self.renk=renk\n",
    "        self.ram=ram\n",
    "        self.ssd=ssd"
   ]
  },
  {
   "cell_type": "code",
   "execution_count": 17,
   "id": "0e3af70d",
   "metadata": {},
   "outputs": [
    {
     "name": "stdout",
     "output_type": "stream",
     "text": [
      "hazır durumda\n"
     ]
    }
   ],
   "source": [
    "aygıt=Bilgisayar(ram=16)"
   ]
  },
  {
   "cell_type": "code",
   "execution_count": 18,
   "id": "c17d4377",
   "metadata": {},
   "outputs": [
    {
     "name": "stdout",
     "output_type": "stream",
     "text": [
      "marka: bilinmiyor ram: 16 renk: bilinmiyor ssd: 128\n"
     ]
    }
   ],
   "source": [
    "print(\"marka:\",aygıt.marka,\"ram:\",aygıt.ram,\"renk:\",aygıt.renk,\"ssd:\",aygıt.ssd)"
   ]
  },
  {
   "cell_type": "markdown",
   "id": "0558e599",
   "metadata": {},
   "source": [
    "<h1>Metodlar</h1>\n",
    "<p>class içine metod eklemeyi öğreneceğiz</p>"
   ]
  },
  {
   "cell_type": "code",
   "execution_count": 19,
   "id": "df92a79f",
   "metadata": {},
   "outputs": [],
   "source": [
    "class Asker():\n",
    "    \n",
    "    def __init__(self,isim,soyisim,yaş,şafak,özellik):\n",
    "        self.isim=isim\n",
    "        self.soyisim=soyisim\n",
    "        self.yaş=yaş                          #asker bilgileri\n",
    "        self.şafak=şafak\n",
    "        self.özellik=özellik\n",
    "    def bilgiler(self):\n",
    "        print(\"Asker bilgileri\\nisim : {}\\nsoyisim : {}\\nyaş : {}\\nşafak : {}\\nözellik : {} \".format(self.isim,self.soyisim,self.yaş,self.şafak,self.özellik))\n",
    "    "
   ]
  },
  {
   "cell_type": "code",
   "execution_count": 20,
   "id": "3a6d5b74",
   "metadata": {},
   "outputs": [
    {
     "data": {
      "text/plain": [
       "<__main__.Asker at 0x1e8498ee460>"
      ]
     },
     "execution_count": 20,
     "metadata": {},
     "output_type": "execute_result"
    }
   ],
   "source": [
    "# kisi objesi\n",
    "kisi = Asker(\"cihat\",\"çoban\",24,124,\"536\")\n",
    "kisi"
   ]
  },
  {
   "cell_type": "code",
   "execution_count": 21,
   "id": "10767f94",
   "metadata": {},
   "outputs": [
    {
     "name": "stdout",
     "output_type": "stream",
     "text": [
      "Asker bilgileri\n",
      "isim : cihat\n",
      "soyisim : çoban\n",
      "yaş : 24\n",
      "şafak : 124\n",
      "özellik : 536 \n"
     ]
    }
   ],
   "source": [
    "kisi.bilgiler()"
   ]
  },
  {
   "cell_type": "code",
   "execution_count": 22,
   "id": "0cb178e3",
   "metadata": {},
   "outputs": [],
   "source": [
    "class Yazget():\n",
    "    \n",
    "    def __init__(self,isim,soyisim,yaş,öğrenci_num,aldığı_not,özellik):\n",
    "        self.isim = isim\n",
    "        self.soyisim = soyisim\n",
    "        self.öğrenci_num = öğrenci_num\n",
    "        self.yaş = yaş\n",
    "        self.aldığı_not = aldığı_not\n",
    "        self.özellik=özellik\n",
    "    def bilgilerigöster(self):\n",
    "        print(\"\"\"\n",
    "        üye bilgileri\n",
    "        \n",
    "        İsim : {}\n",
    "        \n",
    "        Soyisim : {}\n",
    "        \n",
    "        yaş: {}\n",
    "        \n",
    "        öğrenci numarası : {}\n",
    "        \n",
    "        aldığı not : {}\n",
    "        \n",
    "        özellik : {}\n",
    "        \n",
    "        \"\"\".format(self.isim,self.soyisim,self.yaş,self.öğrenci_num,self.aldığı_not,self.özellik))\n",
    "    def puan_ekle(self,eklenen_puan):\n",
    "        print(\"ekleme yapılıyor...\")\n",
    "        \n",
    "        self.aldığı_not += eklenen_puan\n",
    "    def özellik_ekle(self,yeni_özellik):\n",
    "        print(\"özellik ekleniyor..\")\n",
    "        self.özellik.append(yeni_özellik)"
   ]
  },
  {
   "cell_type": "code",
   "execution_count": 23,
   "id": "3a843cda",
   "metadata": {},
   "outputs": [
    {
     "data": {
      "text/plain": [
       "<__main__.Yazget at 0x1e8498f1340>"
      ]
     },
     "execution_count": 23,
     "metadata": {},
     "output_type": "execute_result"
    }
   ],
   "source": [
    "üye=Yazget(\"cihat\",\"çoban\",24,54216,75,[\"özgüvenli\"])\n",
    "üye"
   ]
  },
  {
   "cell_type": "code",
   "execution_count": 24,
   "id": "91648655",
   "metadata": {},
   "outputs": [
    {
     "name": "stdout",
     "output_type": "stream",
     "text": [
      "ekleme yapılıyor...\n",
      "\n",
      "        üye bilgileri\n",
      "        \n",
      "        İsim : cihat\n",
      "        \n",
      "        Soyisim : çoban\n",
      "        \n",
      "        yaş: 24\n",
      "        \n",
      "        öğrenci numarası : 54216\n",
      "        \n",
      "        aldığı not : 87\n",
      "        \n",
      "        özellik : ['özgüvenli']\n",
      "        \n",
      "        \n"
     ]
    }
   ],
   "source": [
    "üye.puan_ekle(12)\n",
    "üye.bilgilerigöster()"
   ]
  },
  {
   "cell_type": "code",
   "execution_count": 25,
   "id": "54239ccd",
   "metadata": {
    "scrolled": true
   },
   "outputs": [
    {
     "name": "stdout",
     "output_type": "stream",
     "text": [
      "özellik ekleniyor..\n",
      "\n",
      "        üye bilgileri\n",
      "        \n",
      "        İsim : cihat\n",
      "        \n",
      "        Soyisim : çoban\n",
      "        \n",
      "        yaş: 24\n",
      "        \n",
      "        öğrenci numarası : 54216\n",
      "        \n",
      "        aldığı not : 87\n",
      "        \n",
      "        özellik : ['özgüvenli', 'dobra']\n",
      "        \n",
      "        \n"
     ]
    }
   ],
   "source": [
    "üye.özellik_ekle(\"dobra\")\n",
    "üye.bilgilerigöster()"
   ]
  },
  {
   "cell_type": "markdown",
   "id": "f0dee896",
   "metadata": {},
   "source": [
    "<h1> Kalıtım (Inheritance) </h1>\n",
    "    <p>Şimdi de <b> Nesne Tabanlı Programlamadaki inheritance(kalıtım veya miras alma) </b>konseptini öğrenmeye çalışacağız. Inheritance veya kalıtım bir sınıfın başka bir sınıftan<b> özelliklerini(attribute )</b> ve metodlarını miras almasıdır.</p>\n",
    "    <p> Örneğin, yazılım geliştirme topluluğunu tasarlamak için classlar oluşturuyoruz. Bunun için yönetici,eğitmen,üye gibi classlar oluşturmamız gerekiyor. Olaya biraz detaylı baktığımızda ortak metodlar ve özellikler olduğunu görürüz ve bunları tekrar tekrar yazmamak için de bir class tanımlarız ve diğer kılasların da bu classda ki  metod ve özellikleri kulanmasını isteriz. <b>Inheritance'ın veya türkçe adıyla kalıtım'ın</b> temel mantığı budur.</p> "
   ]
  },
  {
   "cell_type": "code",
   "execution_count": 26,
   "id": "81ab4247",
   "metadata": {},
   "outputs": [],
   "source": [
    "# person adlı class olsun\n",
    "class person():\n",
    "    def __init__(self,name,surname,department,salary):\n",
    "        print(\"init function for person\")\n",
    "        self.name=name\n",
    "        self.surname=surname\n",
    "        self.department=department\n",
    "        self.salary=salary\n",
    "    \n",
    "    def show_info(self):\n",
    "        print(\"information of person\")\n",
    "        \n",
    "        print(\"Name : {}\\nSurname : {}\\nDepartment : {}\\nSalary : {}\".format(self.name,self.surname,self.department,self.salary))\n",
    "    def change_department(self,new_dep):\n",
    "        print(\"new departman is okey\")\n",
    "        self.department=new_dep\n",
    "    def new_raise(self,new_salary):\n",
    "        print(\"new salary\")\n",
    "        self.salary+=new_salary"
   ]
  },
  {
   "cell_type": "code",
   "execution_count": 27,
   "id": "483760d8",
   "metadata": {},
   "outputs": [],
   "source": [
    "# manager adlı class person adlı classtan veri alsın istiyoruz\n",
    "class manager(person):\n",
    "    pass    # bu ifade şimdilik boş kalsın anlamı taşır"
   ]
  },
  {
   "cell_type": "code",
   "execution_count": 28,
   "id": "570df91d",
   "metadata": {},
   "outputs": [
    {
     "name": "stdout",
     "output_type": "stream",
     "text": [
      "init function for person\n"
     ]
    }
   ],
   "source": [
    "manager=manager(\"CİHAT\",\"ÇOBAN\",\"HEAD\",0)"
   ]
  },
  {
   "cell_type": "code",
   "execution_count": 29,
   "id": "0eadec28",
   "metadata": {
    "scrolled": true
   },
   "outputs": [
    {
     "name": "stdout",
     "output_type": "stream",
     "text": [
      "information of person\n",
      "Name : CİHAT\n",
      "Surname : ÇOBAN\n",
      "Department : HEAD\n",
      "Salary : 0\n"
     ]
    }
   ],
   "source": [
    "manager.show_info()"
   ]
  },
  {
   "cell_type": "code",
   "execution_count": 30,
   "id": "8b4456a0",
   "metadata": {},
   "outputs": [],
   "source": [
    "#eğitmen sınıfını tanımladık yine veriler miras geliyor.\n",
    "class instructor(person):\n",
    "    pass"
   ]
  },
  {
   "cell_type": "code",
   "execution_count": 31,
   "id": "451e6f55",
   "metadata": {},
   "outputs": [
    {
     "name": "stdout",
     "output_type": "stream",
     "text": [
      "init function for person\n",
      "information of person\n",
      "Name : Elon\n",
      "Surname : Musk\n",
      "Department : commutication\n",
      "Salary : 0\n"
     ]
    }
   ],
   "source": [
    "instructor=instructor(\"Elon\",\"Musk\",\"commutication\",0)\n",
    "instructor.show_info()"
   ]
  },
  {
   "cell_type": "code",
   "execution_count": 32,
   "id": "33a7bf96",
   "metadata": {},
   "outputs": [
    {
     "name": "stdout",
     "output_type": "stream",
     "text": [
      "new departman is okey\n",
      "information of person\n",
      "Name : Elon\n",
      "Surname : Musk\n",
      "Department : Finance expert\n",
      "Salary : 0\n"
     ]
    }
   ],
   "source": [
    "instructor.change_department(\"Finance expert\")\n",
    "instructor.show_info()"
   ]
  },
  {
   "cell_type": "code",
   "execution_count": 33,
   "id": "42d982d9",
   "metadata": {},
   "outputs": [
    {
     "data": {
      "text/plain": [
       "['__class__',\n",
       " '__delattr__',\n",
       " '__dict__',\n",
       " '__dir__',\n",
       " '__doc__',\n",
       " '__eq__',\n",
       " '__format__',\n",
       " '__ge__',\n",
       " '__getattribute__',\n",
       " '__gt__',\n",
       " '__hash__',\n",
       " '__init__',\n",
       " '__init_subclass__',\n",
       " '__le__',\n",
       " '__lt__',\n",
       " '__module__',\n",
       " '__ne__',\n",
       " '__new__',\n",
       " '__reduce__',\n",
       " '__reduce_ex__',\n",
       " '__repr__',\n",
       " '__setattr__',\n",
       " '__sizeof__',\n",
       " '__str__',\n",
       " '__subclasshook__',\n",
       " '__weakref__',\n",
       " 'change_department',\n",
       " 'department',\n",
       " 'name',\n",
       " 'new_raise',\n",
       " 'salary',\n",
       " 'show_info',\n",
       " 'surname']"
      ]
     },
     "execution_count": 33,
     "metadata": {},
     "output_type": "execute_result"
    }
   ],
   "source": [
    "# şimdi de dir() ile manager objesinin içine bakalım neler tanımlı görelim.\n",
    "dir(manager)"
   ]
  },
  {
   "cell_type": "markdown",
   "id": "1aa274a2",
   "metadata": {},
   "source": [
    "<h1>Overriding (iptal etme)</h1>\n",
    "<p>Eğer mirs aldığımız metodları <b>aynı isimle</b> kendi sınıfımıza tekrar tanımlarsak , artık metodu çağırdığımız zaman <b>miras aldığımız değil kendi metodumuz çalışacaktır.</b> Bu Nesne Tabanlı Programlamada bir metodu override etme denir.</p>\n",
    "<p>örneğin artık person sınıfını <b>_init_</b> etmek yerine manager adlı sınıfıda <b>_init_</b> metodunu override edebiliriz. Böylelikle manager sınıfına eksra özelikler ekleme şansını elde ederiz.</p>"
   ]
  },
  {
   "cell_type": "code",
   "execution_count": null,
   "id": "a5b49a83",
   "metadata": {},
   "outputs": [],
   "source": []
  },
  {
   "cell_type": "code",
   "execution_count": 38,
   "id": "7b356833",
   "metadata": {},
   "outputs": [],
   "source": [
    "# person adlı class olsun\n",
    "class person():\n",
    "    def __init__(self,name,surname,salary,department):\n",
    "        print(\"init function for person\")\n",
    "        self.name=name\n",
    "        self.surname=surname\n",
    "        self.department=department\n",
    "        self.salary=salary\n",
    "    \n",
    "    def show_info(self):\n",
    "        print(\"information of person\")\n",
    "        \n",
    "        print(\"Name : {}\\nSurname : {}\\nDepartment : {}\\nSalary : {}\".format(self.name,self.surname,self.department,self.salary))\n",
    "    def change_department(self,new_dep):\n",
    "        print(\"new departman is okey\")\n",
    "        self.department=new_dep\n",
    "    def new_raise(self,new_salary):\n",
    "        print(\"new salary\")\n",
    "        self.salary+=new_salary"
   ]
  },
  {
   "cell_type": "code",
   "execution_count": 39,
   "id": "c28b927c",
   "metadata": {},
   "outputs": [],
   "source": [
    "# manager adlı class olsun\n",
    "class manager(person):\n",
    "    def __init__(self,name,surname,salary,department,number_of_employees):\n",
    "        print(\"init function for manager\")\n",
    "        self.name=name\n",
    "        self.surname=surname\n",
    "        self.department=department\n",
    "        self.salary=salary\n",
    "        self.number_of_employees=number_of_employees\n",
    "    \n",
    "    def show_info(self):\n",
    "        print(\"information of manager\")\n",
    "        \n",
    "        print(\"Name : {}\\nSurname : {}\\nDepartment : {}\\nSalary : {}\\n number of employees\".format(self.name,self.surname,self.department,self.salary,self.number_of_employees))\n",
    "    def change_department(self,new_dep):\n",
    "        print(\"new departman is okey\")\n",
    "        self.department=new_dep\n",
    "    def new_raise(self,new_salary):\n",
    "        print(\"new salary\")\n",
    "        self.salary+=new_salary"
   ]
  },
  {
   "cell_type": "code",
   "execution_count": 40,
   "id": "6db73d7e",
   "metadata": {},
   "outputs": [
    {
     "name": "stdout",
     "output_type": "stream",
     "text": [
      "init function for person\n"
     ]
    }
   ],
   "source": [
    "person = person(\"cihat\",\"çoban\",20000,\"IT\")"
   ]
  },
  {
   "cell_type": "code",
   "execution_count": 41,
   "id": "afb1d6d2",
   "metadata": {},
   "outputs": [
    {
     "name": "stdout",
     "output_type": "stream",
     "text": [
      "information of person\n",
      "Name : cihat\n",
      "Surname : çoban\n",
      "Department : IT\n",
      "Salary : 20000\n"
     ]
    }
   ],
   "source": [
    "person.show_info()"
   ]
  },
  {
   "cell_type": "code",
   "execution_count": 42,
   "id": "a754f6c7",
   "metadata": {},
   "outputs": [
    {
     "name": "stdout",
     "output_type": "stream",
     "text": [
      "init function for manager\n"
     ]
    }
   ],
   "source": [
    "manager=manager(\"x\",\"x\",50000,\"IT\",50)"
   ]
  },
  {
   "cell_type": "markdown",
   "id": "ff2f3bc9",
   "metadata": {},
   "source": [
    "<h1>Super Anahtar Kelimesi</h1>\n",
    "<p><b>super</b> anahtar kelimesi özellikle override ettiğimiz bir metodun içinde aynı zamanda miras aldığımız bir metodu kullanmak istersek , yani <b>super</b> en genel anlamıyla miras aldığımız sınıfı kullanmamızı sağlar.</p>"
   ]
  },
  {
   "cell_type": "code",
   "execution_count": 44,
   "id": "b9894e06",
   "metadata": {},
   "outputs": [],
   "source": [
    "class person():\n",
    "    def __init__(self,name,surname,salary,department):\n",
    "        print(\"init function for person\")\n",
    "        self.name=name\n",
    "        self.surname=surname\n",
    "        self.department=department\n",
    "        self.salary=salary\n",
    "    \n",
    "    def show_info(self):\n",
    "        print(\"information of person\")\n",
    "        \n",
    "        print(\"Name : {}\\nSurname : {}\\nDepartment : {}\\nSalary : {}\".format(self.name,self.surname,self.department,self.salary))\n",
    "    def change_department(self,new_dep):\n",
    "        print(\"new departman is okey\")\n",
    "        self.department=new_dep\n",
    "    def new_raise(self,new_salary):\n",
    "        print(\"new salary\")\n",
    "        self.salary+=new_salary"
   ]
  },
  {
   "cell_type": "code",
   "execution_count": 47,
   "id": "b477ba06",
   "metadata": {},
   "outputs": [],
   "source": [
    "class manager(person):\n",
    "    def __init__(self,name,surname,salary,department,number_of_employees):\n",
    "        super()._init_(name,surname,salary,department) # gördüğünüz üzere birden fazla satır yazmamıza gerek kalmadı.\n",
    "        \n",
    "        print(\"init function for manager\")\n",
    "       \n",
    "        self.number_of_employees=number_of_employees\n",
    "    \n",
    "    def show_info(self):\n",
    "        print(\"information of manager\")\n",
    "        \n",
    "        print(\"Name : {}\\nSurname : {}\\nDepartment : {}\\nSalary : {}\\n number of employees\".format(self.name,self.surname,self.department,self.salary,self.number_of_employees))\n",
    "    def change_department(self,new_dep):\n",
    "        print(\"new departman is okey\")\n",
    "        self.department=new_dep\n",
    "    def new_raise(self,new_salary):\n",
    "        print(\"new salary\")\n",
    "        self.salary+=new_salary"
   ]
  },
  {
   "cell_type": "markdown",
   "id": "e4b86868",
   "metadata": {},
   "source": [
    "<h1>özel metodlar</h1>\n",
    "<p>Bu bölümde özel metodları kendimiz nasıl yazarız bunu göreceğiz...\n",
    "    Özel metodlar; bizim özel olarak çağırmadığımız ancak her classa ait metodlardır. Bunların çoğu biz tanımlamasak\n",
    "    bile python tarafından varsayılan olarak tanımlanır. Ancak bu metodların bazılarını da <b>özel olarak bizim tanımlamamız </b> gerekmektedir. Daha önce gördüğümüz _init_ metodu buna en güzel örneklerden biridir.</p> "
   ]
  },
  {
   "cell_type": "code",
   "execution_count": 49,
   "id": "7303d04a",
   "metadata": {},
   "outputs": [],
   "source": [
    "class computer():\n",
    "    pass"
   ]
  },
  {
   "cell_type": "code",
   "execution_count": 50,
   "id": "6cb883ee",
   "metadata": {},
   "outputs": [],
   "source": [
    "computer1=computer() # _init_ metodu çağrılıyor"
   ]
  },
  {
   "cell_type": "code",
   "execution_count": 51,
   "id": "9a9977d6",
   "metadata": {},
   "outputs": [
    {
     "ename": "TypeError",
     "evalue": "object of type 'computer' has no len()",
     "output_type": "error",
     "traceback": [
      "\u001b[1;31m---------------------------------------------------------------------------\u001b[0m",
      "\u001b[1;31mTypeError\u001b[0m                                 Traceback (most recent call last)",
      "\u001b[1;32m~\\AppData\\Local\\Temp/ipykernel_1308/656027194.py\u001b[0m in \u001b[0;36m<module>\u001b[1;34m\u001b[0m\n\u001b[1;32m----> 1\u001b[1;33m \u001b[0mlen\u001b[0m\u001b[1;33m(\u001b[0m\u001b[0mcomputer1\u001b[0m\u001b[1;33m)\u001b[0m \u001b[1;31m# bu özelik tanımlı değil bizim eklememiz gerekiyor\u001b[0m\u001b[1;33m\u001b[0m\u001b[1;33m\u001b[0m\u001b[0m\n\u001b[0m",
      "\u001b[1;31mTypeError\u001b[0m: object of type 'computer' has no len()"
     ]
    }
   ],
   "source": [
    "len(computer1) # bu özelik tanımlı değil bizim eklememiz gerekiyor"
   ]
  },
  {
   "cell_type": "code",
   "execution_count": 52,
   "id": "0d1f841f",
   "metadata": {},
   "outputs": [
    {
     "name": "stdout",
     "output_type": "stream",
     "text": [
      "<__main__.computer object at 0x000001E84B044670>\n"
     ]
    }
   ],
   "source": [
    "print(computer1) # _str_ metodu çağrılıyor"
   ]
  },
  {
   "cell_type": "code",
   "execution_count": 53,
   "id": "baeba3f7",
   "metadata": {},
   "outputs": [],
   "source": [
    "del computer #_del_ metodu çağrılıyor"
   ]
  },
  {
   "cell_type": "code",
   "execution_count": 55,
   "id": "90bec2f8",
   "metadata": {},
   "outputs": [
    {
     "ename": "NameError",
     "evalue": "name 'computer' is not defined",
     "output_type": "error",
     "traceback": [
      "\u001b[1;31m---------------------------------------------------------------------------\u001b[0m",
      "\u001b[1;31mNameError\u001b[0m                                 Traceback (most recent call last)",
      "\u001b[1;32m~\\AppData\\Local\\Temp/ipykernel_1308/1838490169.py\u001b[0m in \u001b[0;36m<module>\u001b[1;34m\u001b[0m\n\u001b[1;32m----> 1\u001b[1;33m \u001b[0mcomputer\u001b[0m \u001b[1;31m# artık böyle birşeyin varlığından basedemeyiz :(\u001b[0m\u001b[1;33m\u001b[0m\u001b[1;33m\u001b[0m\u001b[0m\n\u001b[0m",
      "\u001b[1;31mNameError\u001b[0m: name 'computer' is not defined"
     ]
    }
   ],
   "source": [
    "computer # artık böyle birşeyin varlığından basedemeyiz :("
   ]
  },
  {
   "cell_type": "code",
   "execution_count": 70,
   "id": "844e61eb",
   "metadata": {},
   "outputs": [],
   "source": [
    "class computer ():\n",
    "    def __init__(self,brand,processor,ram,ssd):\n",
    "        print(\"init function\")\n",
    "        self.brand=brand\n",
    "        self.processor=processor\n",
    "        self.ram=ram\n",
    "        self.ssd=ssd\n",
    "    def show_detail(self):\n",
    "        print(\"---------Device information---------\")\n",
    "        \n",
    "        print(\"brand:{}\\nprocessor:{}\\nram:{}\\nssd:{}\".format(self.brand,self.processor,self.ram,self.ssd))"
   ]
  },
  {
   "cell_type": "code",
   "execution_count": 72,
   "id": "f07ccc70",
   "metadata": {},
   "outputs": [
    {
     "name": "stdout",
     "output_type": "stream",
     "text": [
      "init function\n"
     ]
    }
   ],
   "source": [
    "computer=computer(\"asus\",\"intel i7\",\"32 GB\",\"1 TB\")"
   ]
  },
  {
   "cell_type": "code",
   "execution_count": 73,
   "id": "a3f68711",
   "metadata": {},
   "outputs": [
    {
     "name": "stdout",
     "output_type": "stream",
     "text": [
      "---------Device information---------\n",
      "brand:asus\n",
      "processor:intel i7\n",
      "ram:32 GB\n",
      "ssd:1 TB\n"
     ]
    }
   ],
   "source": [
    "computer.show_detail()"
   ]
  },
  {
   "cell_type": "code",
   "execution_count": 74,
   "id": "6f672fd8",
   "metadata": {},
   "outputs": [],
   "source": [
    "class computer ():\n",
    "    def __init__(self,brand,processor,ram,ssd):\n",
    "        print(\"init function\")\n",
    "        self.brand=brand\n",
    "        self.processor=processor\n",
    "        self.ram=ram\n",
    "        self.ssd=ssd\n",
    "    def __str__(self): # çıkan karmaşık adres çubuğu yerine isteklerimize göre şekilendirelim.\n",
    "        return \"brand:{}\\tprocessor:{}\\tram:{}\\tssd:{}\".format(self.brand,self.processor,self.ram,self.ssd)"
   ]
  },
  {
   "cell_type": "code",
   "execution_count": 75,
   "id": "e5e8c19e",
   "metadata": {},
   "outputs": [
    {
     "name": "stdout",
     "output_type": "stream",
     "text": [
      "init function\n"
     ]
    }
   ],
   "source": [
    "computer=computer(\"hp\",\"intel i5\",\"16GB\",\"512GB\")"
   ]
  },
  {
   "cell_type": "code",
   "execution_count": 76,
   "id": "77a92768",
   "metadata": {
    "scrolled": true
   },
   "outputs": [
    {
     "name": "stdout",
     "output_type": "stream",
     "text": [
      "brand:hp\tprocessor:intel i5\tram:16GB\tssd:512GB\n"
     ]
    }
   ],
   "source": [
    "print(computer)"
   ]
  },
  {
   "cell_type": "code",
   "execution_count": 88,
   "id": "bd74fee6",
   "metadata": {},
   "outputs": [],
   "source": [
    "class computer ():\n",
    "    def __init__(self,brand,processor,ram,ssd):\n",
    "        print(\"init function\")\n",
    "        self.brand=brand\n",
    "        self.processor=processor\n",
    "        self.ram=ram\n",
    "        self.ssd=ssd\n",
    "    def __str__(self):\n",
    "        return \"brand:{}\\tprocessor:{}\\tram:{}\\tssd:{}\".format(self.brand,self.processor,self.ram,self.ssd)\n",
    "    \n",
    "    # python da tanımlı olmayan bir metodu yazalım.\n",
    "    def __len__(self):\n",
    "        return self.ssd"
   ]
  },
  {
   "cell_type": "code",
   "execution_count": 90,
   "id": "121b23f8",
   "metadata": {},
   "outputs": [
    {
     "name": "stdout",
     "output_type": "stream",
     "text": [
      "init function\n"
     ]
    }
   ],
   "source": [
    "computer=computer(\"lenova\",\"intel i5\",\"12GB\",500)"
   ]
  },
  {
   "cell_type": "code",
   "execution_count": 91,
   "id": "ea11722a",
   "metadata": {},
   "outputs": [
    {
     "data": {
      "text/plain": [
       "500"
      ]
     },
     "execution_count": 91,
     "metadata": {},
     "output_type": "execute_result"
    }
   ],
   "source": [
    "len(computer)"
   ]
  },
  {
   "cell_type": "code",
   "execution_count": 92,
   "id": "fc25c1d8",
   "metadata": {},
   "outputs": [],
   "source": [
    "class computer ():\n",
    "    def __init__(self,brand,processor,ram,ssd):\n",
    "        print(\"init function\")\n",
    "        self.brand=brand\n",
    "        self.processor=processor\n",
    "        self.ram=ram\n",
    "        self.ssd=ssd\n",
    "    def __str__(self):\n",
    "        return \"brand:{}\\tprocessor:{}\\tram:{}\\tssd:{}\".format(self.brand,self.processor,self.ram,self.ssd)\n",
    "    \n",
    "    # python da tanımlı olmayan bir metodu yazalım.\n",
    "    def __len__(self):\n",
    "        return self.ssd\n",
    "    def __del__(self):# m\n",
    "        print(\"delet....\")"
   ]
  },
  {
   "cell_type": "code",
   "execution_count": 93,
   "id": "fa9129f0",
   "metadata": {},
   "outputs": [
    {
     "name": "stdout",
     "output_type": "stream",
     "text": [
      "init function\n"
     ]
    }
   ],
   "source": [
    "computer=computer(\"lenova\",\"intel i5\",\"12GB\",500)"
   ]
  },
  {
   "cell_type": "code",
   "execution_count": 94,
   "id": "6bd0a83c",
   "metadata": {},
   "outputs": [
    {
     "name": "stdout",
     "output_type": "stream",
     "text": [
      "delet....\n"
     ]
    }
   ],
   "source": [
    "del computer"
   ]
  },
  {
   "cell_type": "markdown",
   "id": "03919ed8",
   "metadata": {},
   "source": [
    "<p> evet arkadaşlar elimden geldiğince birkaç bilgi kırıntısının mantığını sizinle paylaşmaya çalıştım umarım faydalı olmuştur. daha fazla özel metoda erişmek isterseniz bu linkten ulaşabilirsiniz.👇</p>\n",
    "<a herf=\"https://diveintopython3.net/special-method-names.html\"> daha fazla içerik için tıklayınız</a>"
   ]
  }
 ],
 "metadata": {
  "kernelspec": {
   "display_name": "Python 3 (ipykernel)",
   "language": "python",
   "name": "python3"
  },
  "language_info": {
   "codemirror_mode": {
    "name": "ipython",
    "version": 3
   },
   "file_extension": ".py",
   "mimetype": "text/x-python",
   "name": "python",
   "nbconvert_exporter": "python",
   "pygments_lexer": "ipython3",
   "version": "3.9.7"
  }
 },
 "nbformat": 4,
 "nbformat_minor": 5
}
