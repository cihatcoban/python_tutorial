{
 "cells": [
  {
   "cell_type": "code",
   "execution_count": null,
   "id": "0fd85a14",
   "metadata": {},
   "outputs": [],
   "source": [
    "#for dögüsü\n",
    "#in operatörü"
   ]
  },
  {
   "cell_type": "code",
   "execution_count": 1,
   "id": "6fcb19aa",
   "metadata": {},
   "outputs": [
    {
     "data": {
      "text/plain": [
       "True"
      ]
     },
     "execution_count": 1,
     "metadata": {},
     "output_type": "execute_result"
    }
   ],
   "source": [
    "4 in (1,2,3,4,5,6)"
   ]
  },
  {
   "cell_type": "code",
   "execution_count": 4,
   "id": "aa67a398",
   "metadata": {},
   "outputs": [
    {
     "data": {
      "text/plain": [
       "True"
      ]
     },
     "execution_count": 4,
     "metadata": {},
     "output_type": "execute_result"
    }
   ],
   "source": [
    "\"hi\" in \"hikaye\""
   ]
  },
  {
   "cell_type": "code",
   "execution_count": 5,
   "id": "239a4d87",
   "metadata": {},
   "outputs": [
    {
     "data": {
      "text/plain": [
       "False"
      ]
     },
     "execution_count": 5,
     "metadata": {},
     "output_type": "execute_result"
    }
   ],
   "source": [
    "\"f\" in \"haklı\""
   ]
  },
  {
   "cell_type": "code",
   "execution_count": 6,
   "id": "0d95dfed",
   "metadata": {},
   "outputs": [
    {
     "name": "stdout",
     "output_type": "stream",
     "text": [
      " 1\n",
      " 2\n",
      " 3\n",
      " 4\n",
      " 5\n",
      " 6\n",
      " 7\n",
      " 8\n",
      " 9\n"
     ]
    }
   ],
   "source": [
    "liste=(1,2,3,4,5,6,7,8,9)\n",
    "for i in liste:\n",
    "    print(\"\",i)"
   ]
  },
  {
   "cell_type": "code",
   "execution_count": 10,
   "id": "5a1dc114",
   "metadata": {
    "scrolled": true
   },
   "outputs": [
    {
     "name": "stdout",
     "output_type": "stream",
     "text": [
      "i: 1  tolam: 13\n",
      "i: 2  tolam: 15\n",
      "i: 3  tolam: 18\n",
      "i: 4  tolam: 22\n",
      "i: 5  tolam: 27\n",
      "i: 6  tolam: 33\n",
      "i: 7  tolam: 40\n",
      "i: 8  tolam: 48\n",
      "i: 9  tolam: 57\n"
     ]
    }
   ],
   "source": [
    "toplam=12\n",
    "liste=(1,2,3,4,5,6,7,8,9)\n",
    "for i in liste :\n",
    "    toplam=toplam+i\n",
    "    print(\"i: {}  tolam: {}\".format(i,toplam))"
   ]
  },
  {
   "cell_type": "code",
   "execution_count": 11,
   "id": "20edfea8",
   "metadata": {},
   "outputs": [
    {
     "name": "stdout",
     "output_type": "stream",
     "text": [
      "3\n",
      "6\n",
      "9\n",
      "12\n",
      "15\n",
      "18\n",
      "21\n"
     ]
    }
   ],
   "source": [
    "liste=(1,2,3,4,5,6,7,8,9,10,11,12,13,14,15,16,17,18,19,20,21)\n",
    "for i in liste:\n",
    "    if i%3==0:\n",
    "        print(i)"
   ]
  },
  {
   "cell_type": "code",
   "execution_count": 13,
   "id": "ba3bfa84",
   "metadata": {
    "scrolled": true
   },
   "outputs": [
    {
     "name": "stdout",
     "output_type": "stream",
     "text": [
      "(1, 2)\n",
      "(3, 4)\n",
      "(5, 6)\n",
      "(7, 8)\n",
      "(9, 10)\n",
      "(11, 12)\n",
      "(13, 14)\n",
      "(15, 16)\n",
      "(17, 18)\n",
      "(19, 20)\n",
      "(21, 22)\n"
     ]
    }
   ],
   "source": [
    "liste=[(1,2),(3,4),(5,6),(7,8),(9,10),(11,12),(13,14),(15,16),(17,18),(19,20),(21,22)]\n",
    "for i in liste:\n",
    "       print(i)\n",
    "       "
   ]
  },
  {
   "cell_type": "code",
   "execution_count": 14,
   "id": "9b978b61",
   "metadata": {},
   "outputs": [
    {
     "name": "stdout",
     "output_type": "stream",
     "text": [
      "i: 1 j: 2\n",
      "i: 3 j: 4\n",
      "i: 5 j: 6\n",
      "i: 7 j: 8\n",
      "i: 9 j: 10\n",
      "i: 11 j: 12\n",
      "i: 13 j: 14\n",
      "i: 15 j: 16\n",
      "i: 17 j: 18\n",
      "i: 19 j: 20\n",
      "i: 21 j: 22\n"
     ]
    }
   ],
   "source": [
    "liste=[(1,2),(3,4),(5,6),(7,8),(9,10),(11,12),(13,14),(15,16),(17,18),(19,20),(21,22)]\n",
    "for i,j in liste:\n",
    "       print(\"i: {} j: {}\".format(i,j))\n",
    "       "
   ]
  },
  {
   "cell_type": "code",
   "execution_count": 17,
   "id": "bbbaded7",
   "metadata": {},
   "outputs": [
    {
     "name": "stdout",
     "output_type": "stream",
     "text": [
      "1 2 3 4\n",
      "5 6 7 8\n",
      "9 10 11 12\n",
      "13 14 15 16\n",
      "17 18 19 20\n",
      "21 22 23 24\n"
     ]
    }
   ],
   "source": [
    "liste=[(1,2,3,4),(5,6,7,8),(9,10,11,12),(13,14,15,16),(17,18,19,20),(21,22,23,24)]\n",
    "for (i,j,k,l) in liste:\n",
    "    print(i,j,k,l)"
   ]
  },
  {
   "cell_type": "code",
   "execution_count": 19,
   "id": "d0d23ea6",
   "metadata": {},
   "outputs": [
    {
     "name": "stdout",
     "output_type": "stream",
     "text": [
      "32\n",
      "11197440\n",
      "10800000000000\n",
      "32358163876024942592\n",
      "240800017420814809961594880\n",
      "3785752304214466452414018871099392\n"
     ]
    }
   ],
   "source": [
    "liste=[(1,2,3,4),(5,6,7,8),(9,10,11,12),(13,14,15,16),(17,18,19,20),(21,22,23,24)]\n",
    "for (i,j,k,l) in liste:\n",
    "    print(i*j**k*l)"
   ]
  },
  {
   "cell_type": "code",
   "execution_count": null,
   "id": "19a98630",
   "metadata": {},
   "outputs": [],
   "source": [
    "#sözlük üstünde gezinme\n",
    "#dict_keys() bize sözcükleri verir\n",
    "#dict_values() bize değerleri verir\n",
    "#dict_items() bize demetleri verir"
   ]
  },
  {
   "cell_type": "code",
   "execution_count": 24,
   "id": "8a440b22",
   "metadata": {},
   "outputs": [
    {
     "name": "stdout",
     "output_type": "stream",
     "text": [
      "bir\n",
      "iki\n",
      "üç\n",
      "dört\n",
      "beş\n"
     ]
    }
   ],
   "source": [
    "#keys()\n",
    "sözlük={\"bir\":1,\"iki\":2,\"üç\":3,\"dört\":4,\"beş\":5}\n",
    "for i in sözlük:\n",
    "    print(i)\n"
   ]
  },
  {
   "cell_type": "code",
   "execution_count": 28,
   "id": "02bbb897",
   "metadata": {
    "scrolled": true
   },
   "outputs": [
    {
     "name": "stdout",
     "output_type": "stream",
     "text": [
      "1\n",
      "2\n",
      "3\n",
      "4\n",
      "5\n"
     ]
    }
   ],
   "source": [
    "#values()\n",
    "sözlük={\"bir\":1,\"iki\":2,\"üç\":3,\"dört\":4,\"beş\":5}\n",
    "for i in sözlük.values():\n",
    "    print(i)"
   ]
  },
  {
   "cell_type": "code",
   "execution_count": 35,
   "id": "f16512c3",
   "metadata": {},
   "outputs": [
    {
     "name": "stdout",
     "output_type": "stream",
     "text": [
      "keys:  bir \tvalues:  1\n",
      "keys:  iki \tvalues:  2\n",
      "keys:  üç \tvalues:  3\n",
      "keys:  dört \tvalues:  4\n",
      "keys:  beş \tvalues:  5\n"
     ]
    }
   ],
   "source": [
    "#items()\n",
    "sözlük={\"bir\":1,\"iki\":2,\"üç\":3,\"dört\":4,\"beş\":5}\n",
    "for (i,j) in sözlük.items():\n",
    "    print(\"keys: \",i,\"\\tvalues: \",j)"
   ]
  },
  {
   "cell_type": "code",
   "execution_count": null,
   "id": "154ba8eb",
   "metadata": {},
   "outputs": [],
   "source": []
  }
 ],
 "metadata": {
  "kernelspec": {
   "display_name": "Python 3 (ipykernel)",
   "language": "python",
   "name": "python3"
  },
  "language_info": {
   "codemirror_mode": {
    "name": "ipython",
    "version": 3
   },
   "file_extension": ".py",
   "mimetype": "text/x-python",
   "name": "python",
   "nbconvert_exporter": "python",
   "pygments_lexer": "ipython3",
   "version": "3.9.7"
  }
 },
 "nbformat": 4,
 "nbformat_minor": 5
}
