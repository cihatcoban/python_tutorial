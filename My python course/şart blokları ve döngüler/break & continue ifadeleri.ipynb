{
 "cells": [
  {
   "cell_type": "code",
   "execution_count": 3,
   "id": "88b027a3",
   "metadata": {},
   "outputs": [
    {
     "name": "stdout",
     "output_type": "stream",
     "text": [
      "i 0\n",
      "i 1\n",
      "i 2\n",
      "i 3\n",
      "i 4\n",
      "i 5\n",
      "i 6\n",
      "i 7\n",
      "i 8\n",
      "i 9\n",
      "i 10\n",
      "i 11\n"
     ]
    }
   ],
   "source": [
    "i=0\n",
    "while (i<12):\n",
    "    print(\"i\",i)\n",
    "    i+=1"
   ]
  },
  {
   "cell_type": "code",
   "execution_count": 11,
   "id": "9c7b6b29",
   "metadata": {},
   "outputs": [
    {
     "name": "stdout",
     "output_type": "stream",
     "text": [
      "i 0\n",
      "i 1\n",
      "i 2\n",
      "i 3\n",
      "i 4\n",
      "i 5\n",
      "i 6\n",
      "i 7\n",
      "i 8\n"
     ]
    }
   ],
   "source": [
    "i=0\n",
    "while (i<12):\n",
    "    if i==9:\n",
    "        break\n",
    "    print(\"i\",i)\n",
    "    i+=1"
   ]
  },
  {
   "cell_type": "code",
   "execution_count": 16,
   "id": "09b7737a",
   "metadata": {},
   "outputs": [
    {
     "name": "stdout",
     "output_type": "stream",
     "text": [
      "0\n",
      "1\n",
      "2\n",
      "3\n",
      "4\n",
      "5\n",
      "6\n"
     ]
    }
   ],
   "source": [
    "liste=[0,1,2,3,4,5,6,7,8,9,10,11]\n",
    "for i in liste:\n",
    "    if i==7:\n",
    "        break\n",
    "    print(i)"
   ]
  },
  {
   "cell_type": "code",
   "execution_count": 26,
   "id": "8965669b",
   "metadata": {},
   "outputs": [
    {
     "name": "stdout",
     "output_type": "stream",
     "text": [
      "0\n",
      "4\n",
      "8\n",
      "12\n",
      "16\n",
      "20\n",
      "24\n",
      "28\n",
      "32\n",
      "36\n",
      "40\n",
      "44\n",
      "48\n",
      "52\n",
      "56\n",
      "60\n",
      "64\n",
      "68\n"
     ]
    }
   ],
   "source": [
    "for i in range(0,101,4):\n",
    "    if i==72:\n",
    "        break\n",
    "    print(i)"
   ]
  },
  {
   "cell_type": "code",
   "execution_count": 35,
   "id": "34d18e6f",
   "metadata": {},
   "outputs": [
    {
     "name": "stdout",
     "output_type": "stream",
     "text": [
      "isminiz: zaza\n",
      "soyisminiz: dayı\n",
      "isminiz:  zaza soyisminiz:  dayı\n",
      "isminiz: can \n",
      "soyisminiz: polat\n",
      "isminiz:  can  soyisminiz:  polat\n",
      "isminiz: memati\n",
      "soyisminiz: baş\n",
      "isminiz:  memati soyisminiz:  baş\n",
      "isminiz: w\n",
      "soyisminiz: kim\n",
      "sona geldik\n"
     ]
    }
   ],
   "source": [
    "while True:\n",
    "    isim=input(\"isminiz: \")\n",
    "    soyisim=input(\"soyisminiz: \")\n",
    "    if (isim==\"w\") or(soyisim==\"b\"):\n",
    "        print(\"sona geldik\")\n",
    "        break\n",
    "    print(\"isminiz: \",isim,\"soyisminiz: \",soyisim)"
   ]
  },
  {
   "cell_type": "code",
   "execution_count": 36,
   "id": "171a54c4",
   "metadata": {},
   "outputs": [
    {
     "name": "stdout",
     "output_type": "stream",
     "text": [
      "0\n",
      "1\n",
      "2\n",
      "3\n",
      "4\n",
      "5\n",
      "6\n",
      "8\n",
      "9\n",
      "10\n",
      "12\n",
      "13\n",
      "14\n",
      "15\n",
      "16\n",
      "17\n",
      "18\n",
      "19\n",
      "20\n"
     ]
    }
   ],
   "source": [
    "for i in range(21):\n",
    "    if i==7 or i==11:\n",
    "        continue\n",
    "    print(i)"
   ]
  },
  {
   "cell_type": "code",
   "execution_count": null,
   "id": "20b76b1a",
   "metadata": {},
   "outputs": [
    {
     "name": "stdout",
     "output_type": "stream",
     "text": [
      "0\n",
      "1\n",
      "2\n",
      "3\n",
      "4\n",
      "5\n"
     ]
    }
   ],
   "source": [
    "i=0\n",
    "while i<13:\n",
    "    if i==6:\n",
    "        continue\n",
    "    print(i)\n",
    "    i+=1\n",
    "    "
   ]
  },
  {
   "cell_type": "code",
   "execution_count": null,
   "id": "64592c6e",
   "metadata": {},
   "outputs": [],
   "source": []
  }
 ],
 "metadata": {
  "kernelspec": {
   "display_name": "Python 3 (ipykernel)",
   "language": "python",
   "name": "python3"
  },
  "language_info": {
   "codemirror_mode": {
    "name": "ipython",
    "version": 3
   },
   "file_extension": ".py",
   "mimetype": "text/x-python",
   "name": "python",
   "nbconvert_exporter": "python",
   "pygments_lexer": "ipython3",
   "version": "3.9.7"
  }
 },
 "nbformat": 4,
 "nbformat_minor": 5
}
