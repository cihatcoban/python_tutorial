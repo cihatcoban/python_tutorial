{
 "cells": [
  {
   "cell_type": "markdown",
   "id": "fc2092d1",
   "metadata": {},
   "source": [
    "<h1>Hata Yakalama</h1>\n",
    "<p>  Şimdiye kadar yazdığımız bütün programlar, dikkat ettiyseniz tek bir ortak varsayım üzerine kurulu. Buna göre biz, yazdığımız programın kullanıcı tarafından nasıl kullanılmasını istiyorsak, her zaman o şekilde kullanılacağını varsayıyoruz. Örneğin sayıları toplayan bir program yazdığımızda, kullanıcının her zaman sayı değerli bir veri gireceğini düşünüyoruz. Ancak bütün iyi niyetimize rağmen, yazdığımız programlarda işler her zaman beklediğimiz gibi gitmeyebilir. Örneğin, dediğimiz gibi, yazdığımız programı, kullanıcının bir sayı girmesi temeli üzerine kurgulamışsak, kullanıcının her zaman sayı değerli bir veri gireceğinden emin olamayız.</p>\n"
   ]
  },
  {
   "cell_type": "markdown",
   "id": "6d914d1a",
   "metadata": {},
   "source": [
    "https://docs.python.org/3/tutorial/errors.html\n",
    "\n",
    "<p>bu link de pythonda bulunan hatalar ve istisnaları pythonun kendi sitesinde daha geniş kapsamda görebilirsiniz</p>"
   ]
  },
  {
   "cell_type": "code",
   "execution_count": 1,
   "id": "64fc1214",
   "metadata": {},
   "outputs": [
    {
     "name": "stdout",
     "output_type": "stream",
     "text": [
      "--------------çarpma işlemi----------------\n",
      "lütfen bir sayı giriniz: 5\n",
      "lütfen çarpmak istediğiniz sayıyı giriniz: 7\n",
      "5 x 7 = 35\n"
     ]
    }
   ],
   "source": [
    "print(\"--------------çarpma işlemi----------------\")\n",
    "\n",
    "a=int(input(\"lütfen bir sayı giriniz: \"))\n",
    "b=int(input(\"lütfen çarpmak istediğiniz sayıyı giriniz: \"))\n",
    "print(\"{} x {} = {}\".format(a,b,a*b))"
   ]
  },
  {
   "cell_type": "markdown",
   "id": "a0cc0ca2",
   "metadata": {},
   "source": [
    "<p> Evet gördüğümüz üzere kulanıcı istediğimiz tam sayı değerlerini anlayıp girdi ve program tam da istediğimiz gibi çalıştı. A bu durum her zaman böyle olmaz</p>"
   ]
  },
  {
   "cell_type": "code",
   "execution_count": 2,
   "id": "448cb67e",
   "metadata": {},
   "outputs": [
    {
     "name": "stdout",
     "output_type": "stream",
     "text": [
      "--------------çarpma işlemi----------------\n",
      "lütfen bir sayı giriniz: 6\n",
      "lütfen çarpmak istediğiniz sayıyı giriniz: g\n"
     ]
    },
    {
     "ename": "ValueError",
     "evalue": "invalid literal for int() with base 10: 'g'",
     "output_type": "error",
     "traceback": [
      "\u001b[1;31m---------------------------------------------------------------------------\u001b[0m",
      "\u001b[1;31mValueError\u001b[0m                                Traceback (most recent call last)",
      "\u001b[1;32m~\\AppData\\Local\\Temp/ipykernel_11756/2719214558.py\u001b[0m in \u001b[0;36m<module>\u001b[1;34m\u001b[0m\n\u001b[0;32m      4\u001b[0m \u001b[1;33m\u001b[0m\u001b[0m\n\u001b[0;32m      5\u001b[0m \u001b[0ma\u001b[0m\u001b[1;33m=\u001b[0m\u001b[0mint\u001b[0m\u001b[1;33m(\u001b[0m\u001b[0minput\u001b[0m\u001b[1;33m(\u001b[0m\u001b[1;34m\"lütfen bir sayı giriniz: \"\u001b[0m\u001b[1;33m)\u001b[0m\u001b[1;33m)\u001b[0m\u001b[1;33m\u001b[0m\u001b[1;33m\u001b[0m\u001b[0m\n\u001b[1;32m----> 6\u001b[1;33m \u001b[0mb\u001b[0m\u001b[1;33m=\u001b[0m\u001b[0mint\u001b[0m\u001b[1;33m(\u001b[0m\u001b[0minput\u001b[0m\u001b[1;33m(\u001b[0m\u001b[1;34m\"lütfen çarpmak istediğiniz sayıyı giriniz: \"\u001b[0m\u001b[1;33m)\u001b[0m\u001b[1;33m)\u001b[0m\u001b[1;33m\u001b[0m\u001b[1;33m\u001b[0m\u001b[0m\n\u001b[0m\u001b[0;32m      7\u001b[0m \u001b[0mprint\u001b[0m\u001b[1;33m(\u001b[0m\u001b[1;34m\"{} x {} = {}\"\u001b[0m\u001b[1;33m.\u001b[0m\u001b[0mformat\u001b[0m\u001b[1;33m(\u001b[0m\u001b[0ma\u001b[0m\u001b[1;33m,\u001b[0m\u001b[0mb\u001b[0m\u001b[1;33m,\u001b[0m\u001b[0ma\u001b[0m\u001b[1;33m*\u001b[0m\u001b[0mb\u001b[0m\u001b[1;33m)\u001b[0m\u001b[1;33m)\u001b[0m\u001b[1;33m\u001b[0m\u001b[1;33m\u001b[0m\u001b[0m\n",
      "\u001b[1;31mValueError\u001b[0m: invalid literal for int() with base 10: 'g'"
     ]
    }
   ],
   "source": [
    "# şimdi aynı kodu yine çalıştıralım ama tam sayı yerine başka bir ifade girelim.\n",
    "\n",
    "print(\"--------------çarpma işlemi----------------\")\n",
    "\n",
    "a=int(input(\"lütfen bir sayı giriniz: \"))\n",
    "b=int(input(\"lütfen çarpmak istediğiniz sayıyı giriniz: \"))\n",
    "print(\"{} x {} = {}\".format(a,b,a*b))"
   ]
  },
  {
   "cell_type": "markdown",
   "id": "e3055512",
   "metadata": {},
   "source": [
    "\n",
    "<p>Yazdığınız programların bu tür hatalar vermesi normaldir. Ancak son kullanıcı açısından düşündüğümüzde,\n",
    "kullanıcının yukarıdaki gibi bir hata mesajı görmesi yerine, hatanın neden kaynaklandığını ya da \n",
    "neyi yanlış yaptığını daha açık bir şekilde ifade eden bir mesaj alması çok daha mantıklı olacaktır. \n",
    "Zira yukarıdaki hata mesajı programcılar açısından anlamlı olabilir, ancak son kullanıcı açısından büsbütün anlaşılmazdır!\n",
    "</p>\n",
    "\n",
    "<p>Dediğimiz gibi, programınızın çalışma esnasında bu tür hatalar vermesi normal. Çünkü yapmaya çalıştığınız işlem,\n",
    "kullanıcının belli tipte bir veri girmesine bağlı. Burada sizin bir programcı olarak göreviniz, yazdığınız programın\n",
    "çalışma esnasında vermesi muhtemel hataları önceden kestirip, programınızda buna göre bazı önlemler almanızdır. \n",
    "İşte biz de bu bölümde bu önlemleri nasıl alacağımızı anlamaya çalışacağız.</p>"
   ]
  },
  {
   "cell_type": "markdown",
   "id": "4fb26314",
   "metadata": {},
   "source": [
    "<h1>Hata Türleri</h1>\n",
    "<p>Biz bu bölümde hatalardan bahsedeceğimizi söylemiştik. Ancak her şeyden önce ‘hata’ kavramının çok boyutlu olduğunu hatırlatmakta fayda var. Özellikle programcılık açısından hata kavramının ne anlama geldiğini biraz incelememiz gerekiyor.</p>\n",
    "\n",
    "<p><b>Biz bu bölümde hataları üç farklı başlık altında ele alacağız:</b>\n",
    "\n",
    "    Programcı Hataları (Error)\n",
    "    Program Kusurları (Bug)\n",
    "    İstisnalar (Exception)\n",
    "    \n",
    "Öncelikle programcı hatalarından bahsedelim.</p>\n",
    "<h2>Programcı Hataları (Error)</h2>"
   ]
  },
  {
   "cell_type": "code",
   "execution_count": 3,
   "id": "66587709",
   "metadata": {
    "scrolled": true
   },
   "outputs": [
    {
     "ename": "SyntaxError",
     "evalue": "unexpected EOF while parsing (Temp/ipykernel_11756/2809270681.py, line 2)",
     "output_type": "error",
     "traceback": [
      "\u001b[1;36m  File \u001b[1;32m\"C:\\Users\\cihat\\AppData\\Local\\Temp/ipykernel_11756/2809270681.py\"\u001b[1;36m, line \u001b[1;32m2\u001b[0m\n\u001b[1;33m    print(x\u001b[0m\n\u001b[1;37m           ^\u001b[0m\n\u001b[1;31mSyntaxError\u001b[0m\u001b[1;31m:\u001b[0m unexpected EOF while parsing\n"
     ]
    }
   ],
   "source": [
    "x=\"python\"\n",
    "print(x"
   ]
  },
  {
   "cell_type": "markdown",
   "id": "75bfae40",
   "metadata": {},
   "source": [
    "<p>Bu hata mesajında bizi ilgilendiren kısım son cümlede yer alıyor: <b>SyntaxError</b>, yani Söz dizimi hatası.</p>\n",
    "\n",
    "<p>Bu hatalar, programlama diline ilişkin bir özelliğin yanlış kullanımından veya en basit şekilde programcının yaptığı yazım hatalarından kaynaklanır. Programcının hataları genellikle <b>SyntaxError </b>şeklinde ortaya çıkar. Bu hatalar çoğunlukla programcı tarafından farkedilir ve program kullanıcıya ulaşmadan önce programcı tarafından düzeltilir. Bu tür hataların tespiti diğer hatalara kıyasla kolaydır. Çünkü bu tür hatalar programınızın çalışmasını engellediği için bunları farketmemek pek mümkün değildir…</p>"
   ]
  },
  {
   "cell_type": "markdown",
   "id": "45841eec",
   "metadata": {},
   "source": [
    "<h1>Program Kusurları (Bug)</h1>\n",
    "<p>Program kusurları, başka bir deyişle<b> bug’lar</b> ise çok daha karmaşıktır. Kusurlu programlar çoğu zaman herhangi bir hata vermeden çalışır. Ancak programın ürettiği çıktılar beklediğiniz gibi değildir. Örneğin yazdığınız programda bir formül hatası yapmış olabilirsiniz. Bu durumda programınız hiçbir şey yokmuş gibi çalışır, ancak formül hatalı olduğu için hesaplamaların sonuçları yanlıştır. Örneğin aşağıda yazdığımız şu program yukarıdaki gibi bir kusur içerir:</p>"
   ]
  },
  {
   "cell_type": "code",
   "execution_count": 4,
   "id": "7da83faa",
   "metadata": {},
   "outputs": [
    {
     "name": "stdout",
     "output_type": "stream",
     "text": [
      "Toplama işlemi için ilk sayıyı girin: 4\n",
      "Toplama işlemi için ikinci sayıyı girin: 8\n",
      "4 + 8 = 48\n"
     ]
    }
   ],
   "source": [
    "sayı1 = input(\"Toplama işlemi için ilk sayıyı girin: \")\n",
    "sayı2 = input(\"Toplama işlemi için ikinci sayıyı girin: \")\n",
    "\n",
    "print(sayı1, \"+\", sayı2, \"=\", sayı1 + sayı2)"
   ]
  },
  {
   "cell_type": "markdown",
   "id": "823b8101",
   "metadata": {},
   "source": [
    "<p>Bu programda kullanıcı veri girdiği zaman, programımız toplama işlemi değil karakter dizisi birleştirme işlemi yapacaktır. Böyle bir program çalışma sırasında hata vermeyeceği için buradaki sorunu tespit etmek, özellikle büyük programlarda çok güçtür. Yani sizin düzgün çalıştığını zannettiğiniz program aslında gizliden gizliye bir bug barındırıyor olabilir.</p>"
   ]
  },
  {
   "cell_type": "markdown",
   "id": "35f9bf0c",
   "metadata": {},
   "source": [
    "<h1>İstisnalar (Exception)</h1>"
   ]
  },
  {
   "cell_type": "code",
   "execution_count": 5,
   "id": "63faf8cf",
   "metadata": {},
   "outputs": [
    {
     "name": "stdout",
     "output_type": "stream",
     "text": [
      "ilk sayı giriniz: 7\n",
      "ikinci sayı giriniz: 9\n",
      "7 / 9 = 0.7777777777777778\n"
     ]
    }
   ],
   "source": [
    "ilksayı = input(\"ilk sayı giriniz: \")\n",
    "ikincisayı = input(\"ikinci sayı giriniz: \")\n",
    "\n",
    "ilksayı = int(ilksayı)\n",
    "ikincisayı = int(ikincisayı)\n",
    "\n",
    "print(ilksayı, \"/\", ikincisayı, \"=\", ilksayı / ikincisayı)"
   ]
  },
  {
   "cell_type": "markdown",
   "id": "d7c0a9e1",
   "metadata": {},
   "source": [
    " <p>Burada ilk sayıyı ikinci sayıya bölen bir program yazdık. Bu program her türlü bölme işlemini yapabilir. Ama burada hesaba katmamız gereken iki şey var:\n",
    "\n",
    "    1.Kullanıcı sayı yerine, sayı değerli olmayan bir veri tipi girebilir. Mesela ilk sayıya karşılık 23, ikinci sayıya karşılık ‘fdsfd’ gibi bir şey yazabilir.\n",
    "    2.Kullanıcı bir sayıyı 0’a bölmeye çalışabilir. Mesela ilk sayıya karşılık 23, ikinci sayıya karşılık 0 yazabilir.\n",
    "İlk durumda programımız şöyle bir hata verir:</p>"
   ]
  },
  {
   "cell_type": "code",
   "execution_count": 6,
   "id": "e2bdb700",
   "metadata": {},
   "outputs": [
    {
     "name": "stdout",
     "output_type": "stream",
     "text": [
      "ilk sayı giriniz: 23\n",
      "ikinci sayı giriniz: fdsfd\n"
     ]
    },
    {
     "ename": "ValueError",
     "evalue": "invalid literal for int() with base 10: 'fdsfd'",
     "output_type": "error",
     "traceback": [
      "\u001b[1;31m---------------------------------------------------------------------------\u001b[0m",
      "\u001b[1;31mValueError\u001b[0m                                Traceback (most recent call last)",
      "\u001b[1;32m~\\AppData\\Local\\Temp/ipykernel_11756/3232570160.py\u001b[0m in \u001b[0;36m<module>\u001b[1;34m\u001b[0m\n\u001b[0;32m      3\u001b[0m \u001b[1;33m\u001b[0m\u001b[0m\n\u001b[0;32m      4\u001b[0m \u001b[0milksayı\u001b[0m \u001b[1;33m=\u001b[0m \u001b[0mint\u001b[0m\u001b[1;33m(\u001b[0m\u001b[0milksayı\u001b[0m\u001b[1;33m)\u001b[0m\u001b[1;33m\u001b[0m\u001b[1;33m\u001b[0m\u001b[0m\n\u001b[1;32m----> 5\u001b[1;33m \u001b[0mikincisayı\u001b[0m \u001b[1;33m=\u001b[0m \u001b[0mint\u001b[0m\u001b[1;33m(\u001b[0m\u001b[0mikincisayı\u001b[0m\u001b[1;33m)\u001b[0m\u001b[1;33m\u001b[0m\u001b[1;33m\u001b[0m\u001b[0m\n\u001b[0m\u001b[0;32m      6\u001b[0m \u001b[1;33m\u001b[0m\u001b[0m\n\u001b[0;32m      7\u001b[0m \u001b[0mprint\u001b[0m\u001b[1;33m(\u001b[0m\u001b[0milksayı\u001b[0m\u001b[1;33m,\u001b[0m \u001b[1;34m\"/\"\u001b[0m\u001b[1;33m,\u001b[0m \u001b[0mikincisayı\u001b[0m\u001b[1;33m,\u001b[0m \u001b[1;34m\"=\"\u001b[0m\u001b[1;33m,\u001b[0m \u001b[0milksayı\u001b[0m \u001b[1;33m/\u001b[0m \u001b[0mikincisayı\u001b[0m\u001b[1;33m)\u001b[0m\u001b[1;33m\u001b[0m\u001b[1;33m\u001b[0m\u001b[0m\n",
      "\u001b[1;31mValueError\u001b[0m: invalid literal for int() with base 10: 'fdsfd'"
     ]
    }
   ],
   "source": [
    "ilksayı = input(\"ilk sayı giriniz: \")\n",
    "ikincisayı = input(\"ikinci sayı giriniz: \")\n",
    "\n",
    "ilksayı = int(ilksayı)\n",
    "ikincisayı = int(ikincisayı)\n",
    "\n",
    "print(ilksayı, \"/\", ikincisayı, \"=\", ilksayı / ikincisayı)"
   ]
  },
  {
   "cell_type": "markdown",
   "id": "96737e05",
   "metadata": {},
   "source": [
    "<p>Buradaki sorun, sayı değerli olmayan bir verinin, int() fonksiyonu aracılığıyla sayıya çevrilmeye çalışılıyor olması.</p>\n",
    "\n",
    "<p>İkinci durumda ise programımız şöyle bir hata verir:</p>"
   ]
  },
  {
   "cell_type": "code",
   "execution_count": 7,
   "id": "88ee9bc5",
   "metadata": {},
   "outputs": [
    {
     "name": "stdout",
     "output_type": "stream",
     "text": [
      "ilk sayı giriniz: 23\n",
      "ikinci sayı giriniz: 0\n"
     ]
    },
    {
     "ename": "ZeroDivisionError",
     "evalue": "division by zero",
     "output_type": "error",
     "traceback": [
      "\u001b[1;31m---------------------------------------------------------------------------\u001b[0m",
      "\u001b[1;31mZeroDivisionError\u001b[0m                         Traceback (most recent call last)",
      "\u001b[1;32m~\\AppData\\Local\\Temp/ipykernel_11756/3232570160.py\u001b[0m in \u001b[0;36m<module>\u001b[1;34m\u001b[0m\n\u001b[0;32m      5\u001b[0m \u001b[0mikincisayı\u001b[0m \u001b[1;33m=\u001b[0m \u001b[0mint\u001b[0m\u001b[1;33m(\u001b[0m\u001b[0mikincisayı\u001b[0m\u001b[1;33m)\u001b[0m\u001b[1;33m\u001b[0m\u001b[1;33m\u001b[0m\u001b[0m\n\u001b[0;32m      6\u001b[0m \u001b[1;33m\u001b[0m\u001b[0m\n\u001b[1;32m----> 7\u001b[1;33m \u001b[0mprint\u001b[0m\u001b[1;33m(\u001b[0m\u001b[0milksayı\u001b[0m\u001b[1;33m,\u001b[0m \u001b[1;34m\"/\"\u001b[0m\u001b[1;33m,\u001b[0m \u001b[0mikincisayı\u001b[0m\u001b[1;33m,\u001b[0m \u001b[1;34m\"=\"\u001b[0m\u001b[1;33m,\u001b[0m \u001b[0milksayı\u001b[0m \u001b[1;33m/\u001b[0m \u001b[0mikincisayı\u001b[0m\u001b[1;33m)\u001b[0m\u001b[1;33m\u001b[0m\u001b[1;33m\u001b[0m\u001b[0m\n\u001b[0m",
      "\u001b[1;31mZeroDivisionError\u001b[0m: division by zero"
     ]
    }
   ],
   "source": [
    "ilksayı = input(\"ilk sayı giriniz: \")\n",
    "ikincisayı = input(\"ikinci sayı giriniz: \")\n",
    "\n",
    "ilksayı = int(ilksayı)\n",
    "ikincisayı = int(ikincisayı)\n",
    "\n",
    "print(ilksayı, \"/\", ikincisayı, \"=\", ilksayı / ikincisayı)"
   ]
  },
  {
   "cell_type": "markdown",
   "id": "d2c6d056",
   "metadata": {},
   "source": [
    "<p>Buradaki sorun ise, bir sayının 0’a bölünmeye çalışılıyor olması. Matematikte sayılar 0’a bölünemez.</p>\n",
    "\n",
    "<p>İşte bu iki örnekte gördüğümüz <b>ValueError ve ZeroDivisionError</b> birer istisnadır. Yani kullanıcıların, kendilerinden sayı beklenirken sayı değerli olmayan veri girmesi veya bir sayıyı 0’a bölmeye çalışması istisnai birer durumdur ve yazdığımız programların exception (istisna) üretmesine yol açar</p>\n",
    "\n",
    "<p>Konuyla ilgili temel bilgileri edindiğimize göre asıl meseleye geçebiliriz.</p>"
   ]
  },
  {
   "cell_type": "markdown",
   "id": "d699981e",
   "metadata": {},
   "source": [
    "<h1>try-except</h1>\n",
    "<p>Bir önceki bölümde hatalardan ve hataları yakalamaktan söz ettik. Peki bu hataları nasıl yakalayacağız?\n",
    "\n",
    "Python’da hata yakalama işlemleri için try-except bloklarından yararlanılır. Hemen bir örnek verelim:</p>"
   ]
  },
  {
   "cell_type": "code",
   "execution_count": null,
   "id": "f053af42",
   "metadata": {},
   "outputs": [
    {
     "name": "stdout",
     "output_type": "stream",
     "text": [
      "Bir sayı girin: 4\n",
      "16.0\n",
      "Bir sayı girin: 7.5\n",
      "56.25\n",
      "Bir sayı girin: k\n",
      "Geçersiz sayı\n"
     ]
    }
   ],
   "source": [
    "while True:\n",
    "    x = input(\"Bir sayı girin: \")\n",
    "    if not x:\n",
    "        break\n",
    "    try:\n",
    "        y = float(x)\n",
    "    except ValueError:\n",
    "        print(\"Geçersiz sayı\")\n",
    "        continue\n",
    "    print(y**2)"
   ]
  },
  {
   "cell_type": "markdown",
   "id": "0cb8b3b1",
   "metadata": {},
   "source": [
    "<p>Bu programda, hata mesajı çıkarabilecek bölümü <b>try</b>: blokunun içine aldık. Eğer <b>float(x)</b> işlemi <b>valueError</b> hatası verirse<b> except ValueError</b> bloku çalıştırılır, ve kullanıcıya bir uyarı verilerek tekrar döngünün başına dönülür. Bu sayede program durmadan hatayı yakalayıp sorunu gidermiş oluruz.\n",
    "Yukarıda Türkçeye çevirdiğimiz emri Python kodunda nasıl ifade ettiğimize dikkat edin. Temel olarak şöyle bir yapıyla karşı karşıyayız:</p>\n",
    "\n",
    "\n",
    "<p><b>try:\n",
    "    hata verebileceğini bildiğimiz kodlar\n",
    "    \n",
    "except HataAdı:\n",
    "    hata durumunda yapılacak işlem</b></p>\n",
    "    \n",
    "<p>Hatırlarsanız bir sayının 0’a bölünmesinin mümkün olmadığını, böyle bir durumda programımızın hata vereceğini söylemiştik. Bu durumu teyit etmek için etkileşimli kabukta şu kodu deneyebilirsiniz:</p>"
   ]
  },
  {
   "cell_type": "code",
   "execution_count": 1,
   "id": "62b67d54",
   "metadata": {},
   "outputs": [
    {
     "ename": "ZeroDivisionError",
     "evalue": "division by zero",
     "output_type": "error",
     "traceback": [
      "\u001b[1;31m---------------------------------------------------------------------------\u001b[0m",
      "\u001b[1;31mZeroDivisionError\u001b[0m                         Traceback (most recent call last)",
      "\u001b[1;32m~\\AppData\\Local\\Temp/ipykernel_6684/2063981331.py\u001b[0m in \u001b[0;36m<module>\u001b[1;34m\u001b[0m\n\u001b[1;32m----> 1\u001b[1;33m \u001b[1;36m7\u001b[0m\u001b[1;33m/\u001b[0m\u001b[1;36m0\u001b[0m\u001b[1;33m\u001b[0m\u001b[1;33m\u001b[0m\u001b[0m\n\u001b[0m",
      "\u001b[1;31mZeroDivisionError\u001b[0m: division by zero"
     ]
    }
   ],
   "source": [
    "7/0"
   ]
  },
  {
   "cell_type": "markdown",
   "id": "f9476758",
   "metadata": {},
   "source": [
    "<p>Daha önce de söylediğimiz gibi, bu hata mesajında bizi ilgilendiren kısım<b> ZeroDivisionError</b>. Demek ki bir sayı 0’a bölündüğünde Python ZeroDivisionError veriyormuş. O halde şöyle bir kod yazabiliriz:</p>"
   ]
  },
  {
   "cell_type": "code",
   "execution_count": 2,
   "id": "6b19e5c1",
   "metadata": {},
   "outputs": [
    {
     "name": "stdout",
     "output_type": "stream",
     "text": [
      "Bir sayı giriniz7\n",
      "Bir sayı giriniz0\n",
      "Bir sayıyı 0'a bölemezsiniz!\n"
     ]
    }
   ],
   "source": [
    "sayi=int(input(\"Bir sayı giriniz\"))\n",
    "sayi1=int(input(\"Bir sayı giriniz\"))\n",
    "try:\n",
    "   toplam=sayi/sayi1\n",
    "   print(toplam)\n",
    "except ZeroDivisionError:\n",
    "    print(\"Bir sayıyı 0'a bölemezsiniz!\")"
   ]
  },
  {
   "cell_type": "markdown",
   "id": "16e461ae",
   "metadata": {},
   "source": [
    "<h1>try- except-as</h1>\n",
    "<p>Bildiğiniz gibi, Python bir programın çalışması esnasında hata üretirken çıktıda hata türünün adıyla birlikte kısa bir hata açıklaması veriyor. Yani mesela şöyle bir çıktı üretiyor:\n",
    "\n",
    "    <b>ValueError: invalid literal for int() with base 10: 'a'</b>\n",
    "Burada ‘ValueError’ hata türünün adı, ‘invalid literal for int() with base 10: ‘a’’ ise hatanın açıklamasıdır. Eğer istersek, yazdığımız programda bu hata açıklamasına erişebiliriz. Dikkatlice bakın:</p>"
   ]
  },
  {
   "cell_type": "code",
   "execution_count": 3,
   "id": "8dad4027",
   "metadata": {},
   "outputs": [
    {
     "name": "stdout",
     "output_type": "stream",
     "text": [
      "Bir sayı giriniza\n"
     ]
    },
    {
     "ename": "ValueError",
     "evalue": "invalid literal for int() with base 10: 'a'",
     "output_type": "error",
     "traceback": [
      "\u001b[1;31m---------------------------------------------------------------------------\u001b[0m",
      "\u001b[1;31mValueError\u001b[0m                                Traceback (most recent call last)",
      "\u001b[1;32m~\\AppData\\Local\\Temp/ipykernel_6684/2519715237.py\u001b[0m in \u001b[0;36m<module>\u001b[1;34m\u001b[0m\n\u001b[1;32m----> 1\u001b[1;33m \u001b[0msayi\u001b[0m\u001b[1;33m=\u001b[0m\u001b[0mint\u001b[0m\u001b[1;33m(\u001b[0m\u001b[0minput\u001b[0m\u001b[1;33m(\u001b[0m\u001b[1;34m\"Bir sayı giriniz\"\u001b[0m\u001b[1;33m)\u001b[0m\u001b[1;33m)\u001b[0m\u001b[1;33m\u001b[0m\u001b[1;33m\u001b[0m\u001b[0m\n\u001b[0m\u001b[0;32m      2\u001b[0m \u001b[0msayi1\u001b[0m\u001b[1;33m=\u001b[0m\u001b[0mint\u001b[0m\u001b[1;33m(\u001b[0m\u001b[0minput\u001b[0m\u001b[1;33m(\u001b[0m\u001b[1;34m\"Bir sayı giriniz\"\u001b[0m\u001b[1;33m)\u001b[0m\u001b[1;33m)\u001b[0m\u001b[1;33m\u001b[0m\u001b[1;33m\u001b[0m\u001b[0m\n\u001b[0;32m      3\u001b[0m \u001b[1;32mtry\u001b[0m\u001b[1;33m:\u001b[0m\u001b[1;33m\u001b[0m\u001b[1;33m\u001b[0m\u001b[0m\n\u001b[0;32m      4\u001b[0m     \u001b[0mtoplam\u001b[0m\u001b[1;33m=\u001b[0m\u001b[0msayi\u001b[0m\u001b[1;33m/\u001b[0m\u001b[0msayi1\u001b[0m\u001b[1;33m\u001b[0m\u001b[1;33m\u001b[0m\u001b[0m\n\u001b[0;32m      5\u001b[0m     \u001b[0mprint\u001b[0m\u001b[1;33m(\u001b[0m\u001b[0mtoplam\u001b[0m\u001b[1;33m)\u001b[0m\u001b[1;33m\u001b[0m\u001b[1;33m\u001b[0m\u001b[0m\n",
      "\u001b[1;31mValueError\u001b[0m: invalid literal for int() with base 10: 'a'"
     ]
    }
   ],
   "source": [
    "sayi=int(input(\"Bir sayı giriniz\"))\n",
    "sayi1=int(input(\"Bir sayı giriniz\"))\n",
    "try:\n",
    "    toplam=sayi/sayi1\n",
    "    print(toplam)\n",
    "except ZeroDivisionError as hata:\n",
    "      print(hata)"
   ]
  },
  {
   "cell_type": "markdown",
   "id": "c1951d8a",
   "metadata": {},
   "source": [
    "<h1>Hata durumu hiyerarşisi</h1>\n",
    "<p>Hata durumları bir nesne hiyerarşisi içinde tanımlanır. Bunların en geneli<b> BaseException</b> sınıfıdır; diğer daha özelleşmiş hata durumları bunlardan türetilir.</p>\n",
    "\n",
    "\n",
    "https://docs.python.org/3/library/exceptions.html#exception-hierarchy"
   ]
  },
  {
   "cell_type": "code",
   "execution_count": 1,
   "id": "da3b88a7",
   "metadata": {},
   "outputs": [
    {
     "name": "stdout",
     "output_type": "stream",
     "text": [
      "Collecting Image\n",
      "  Using cached image-1.5.33.tar.gz (15 kB)\n",
      "Requirement already satisfied: pillow in c:\\users\\cihat\\anaconda3\\lib\\site-packages (from Image) (8.4.0)\n",
      "Collecting django\n",
      "  Downloading Django-4.1.7-py3-none-any.whl (8.1 MB)\n",
      "Requirement already satisfied: six in c:\\users\\cihat\\anaconda3\\lib\\site-packages (from Image) (1.16.0)\n",
      "Collecting tzdata\n",
      "  Downloading tzdata-2022.7-py2.py3-none-any.whl (340 kB)\n",
      "Collecting asgiref<4,>=3.5.2\n",
      "  Downloading asgiref-3.6.0-py3-none-any.whl (23 kB)\n",
      "Collecting sqlparse>=0.2.2\n",
      "  Using cached sqlparse-0.4.3-py3-none-any.whl (42 kB)\n",
      "Building wheels for collected packages: Image\n",
      "  Building wheel for Image (setup.py): started\n",
      "  Building wheel for Image (setup.py): finished with status 'done'\n",
      "  Created wheel for Image: filename=image-1.5.33-py2.py3-none-any.whl size=19494 sha256=4d894f34f1e75399a3d4222febf2cc290450d70b8203137de7b0b58257be35e0\n",
      "  Stored in directory: c:\\users\\cihat\\appdata\\local\\pip\\cache\\wheels\\14\\4c\\7c\\d9b5c35a149d3bc8c72c7e92372913ff7dac9c6bd94bd1b8c9\n",
      "Successfully built Image\n",
      "Installing collected packages: tzdata, sqlparse, asgiref, django, Image\n",
      "Successfully installed Image-1.5.33 asgiref-3.6.0 django-4.1.7 sqlparse-0.4.3 tzdata-2022.7\n",
      "Note: you may need to restart the kernel to use updated packages.\n"
     ]
    }
   ],
   "source": [
    "pip install Image"
   ]
  },
  {
   "cell_type": "code",
   "execution_count": 3,
   "id": "26051922",
   "metadata": {
    "scrolled": true
   },
   "outputs": [
    {
     "data": {
      "text/plain": [
       "'C:\\\\Users\\\\cihat'"
      ]
     },
     "execution_count": 3,
     "metadata": {},
     "output_type": "execute_result"
    }
   ],
   "source": [
    "#BaseException bir kısmını foto olarak buraya koyuyorum\n",
    "import os \n",
    "cwd =os.getcwd()\n",
    "cwd"
   ]
  },
  {
   "cell_type": "markdown",
   "id": "78066c92",
   "metadata": {},
   "source": [
    "<img src=\"exception.png\">"
   ]
  },
  {
   "cell_type": "markdown",
   "id": "17007365",
   "metadata": {},
   "source": [
    "<h1>try-excep- else</h1>\n",
    "<p>Daha önce de dediğimiz gibi, Python’da hata yakalama işlemleri için çoğunlukla <b>try... except...</b> bloklarını bilmek yeterli olacaktır. İşlerimizin büyük kısmını sadece bu blokları kullanarak halledebiliriz. Ancak Python bize bu konuda, zaman zaman işimize yarayabilecek başka araçlar da sunmaktadır. İşte<b> try... except... else... </b>blokları da bu araçlardan biridir. Bu bölümde kısaca bu blokların ne işe yaradığından söz edeceğiz.</p>\n",
    "\n",
    "<p>Öncelikle<b> try... except... else...</b> bloğunun ne işe yaradığına bakalım. Esasında biz bu <b>else</b> deyimini daha önce de <b>‘koşullu ifadeler’</b> konusunu işlerken görmüştük. Buradaki kullanımı da zaten hemen hemen aynıdır. Diyelim ki elimizde şöyle bir şey var:</p>"
   ]
  },
  {
   "cell_type": "code",
   "execution_count": 5,
   "id": "83235945",
   "metadata": {},
   "outputs": [
    {
     "name": "stdout",
     "output_type": "stream",
     "text": [
      "bölünecek sayı: 5\n",
      "bölen sayı: d\n",
      "hata!\n"
     ]
    }
   ],
   "source": [
    "try:\n",
    "    bölünen = int(input(\"bölünecek sayı: \"))\n",
    "    bölen = int(input(\"bölen sayı: \"))\n",
    "    print(bölünen/bölen)\n",
    "except ValueError:\n",
    "    print(\"hata!\")"
   ]
  },
  {
   "cell_type": "markdown",
   "id": "8669c394",
   "metadata": {},
   "source": [
    "<p>Burada eğer kullanıcı sayı yerine harf girerse<b> ValueError </b>hatası alırız. Bu hatayı <b>except ValueError</b>: ifadesiyle yakalıyoruz ve hata verildiğinde kullanıcıya bir mesaj göstererek programımızın çökmesini engelliyoruz. Ama biliyoruz ki, bu kodları çalıştırdığımızda Python’ın verebileceği tek hata<b> ValueError </b>değildir. Eğer kullanıcı bir sayıyı<b> 0’a</b> bölmeye çalışırsa Python<b> ZeroDivisionError</b> adlı hatayı verecektir. Dolayısıyla bu hatayı da yakalamak için şöyle bir şey yazabiliriz:</p>"
   ]
  },
  {
   "cell_type": "code",
   "execution_count": 6,
   "id": "e7922269",
   "metadata": {},
   "outputs": [
    {
     "name": "stdout",
     "output_type": "stream",
     "text": [
      "bölünecek sayı: 5\n",
      "bölen sayı: 0\n",
      "Bir sayıyı 0'a bölemezsiniz!\n"
     ]
    }
   ],
   "source": [
    "try:\n",
    "    bölünen = int(input(\"bölünecek sayı: \"))\n",
    "    bölen = int(input(\"bölen sayı: \"))\n",
    "except ValueError:\n",
    "    print(\"Lütfen sadece sayı girin!\")\n",
    "else:\n",
    "    try:\n",
    "        print(bölünen/bölen)\n",
    "    except ZeroDivisionError:\n",
    "        print(\"Bir sayıyı 0'a bölemezsiniz!\")"
   ]
  },
  {
   "cell_type": "markdown",
   "id": "000a4172",
   "metadata": {},
   "source": [
    "<p>Burada yaptığımız şey şu: İlk <b>try... except...</b> bloğu yardımıyla öncelikle <b>int(input())</b> fonksiyonu ile kullanıcıdan gelecek verinin sayı olup olmadığını denetliyoruz. Ardından bir <b>else...</b> bloğu açarak, bunun içinde ikinci <b>try... except... </b>bloğumuzu devreye sokuyoruz. Burada da bölme işlemini gerçekleştiriyoruz. Kullanıcının bölme işlemi sırasında 0 sayısını girmesi ihtimaline karşı da <b>except ZeroDivisionError</b> ifadesi yardımıyla olası hatayı göğüslüyoruz.</p>\n",
    "\n",
    "<p>Mesela yukarıda ilk<b> try...</b> bloğu içindeki dönüştürme işlemi yalnızca <b>ValueError</b> hatası verebilir. <b>else:</b> bloğundan sonraki <b>try...</b> bloğunda yer alan işlem ise ancak <b>ZeroDivisionError</b> verecektir. Biz yukarıda kullandığımız yapı sayesinde her bir hatayı tek tek ve yeri geldiğinde karşılıyoruz. Bu durumun aksine, bölümün ilk başında verdiğimiz<b> try... except</b> bloğunda hem<b> ValueError</b> hem de <b>ZeroDivisionError</b> hatalarının gerçekleşme ihtimali bulunuyor. Dolayısıyla biz orada bütün hataları tek bir <b>try...</b> bloğu içine sıkıştırmış oluyoruz. İşte <b>else:</b> bloğu bu sıkışıklığı gidermiş oluyor.</p>"
   ]
  },
  {
   "cell_type": "markdown",
   "id": "8619411a",
   "metadata": {},
   "source": [
    "<h1>try-except-finally</h1>\n",
    "<p><b>try... except... else... </b>yapılarının dışında, Python’ın bize sunduğu bir başka yapı da<b> try... except... finally...</b> yapılarıdır. Bunu şöyle kullanıyoruz:</p>\n",
    "\n",
    "<p>\n",
    "    try:\n",
    "    \n",
    "    ...bir takım işler...\n",
    "    \n",
    "except birHata:\n",
    "    \n",
    "    ...hata alınınca yapılacak işlemler...\n",
    "    \n",
    "finally:\n",
    "    \n",
    "    ...hata olsa da olmasa da yapılması gerekenler...\n",
    "</p>\n",
    "<p>\n",
    "    <b>finally..</b> bloğunun en önemli özelliği, programın çalışması sırasında herhangi bir hata gerçekleşse de gerçekleşmese de işletilecek olmasıdır. Eğer yazdığınız programda mutlaka ama mutlaka işletilmesi gereken bir kısım varsa, o kısmı <b>finally... bloğu </b>içine yazabilirsiniz.</p>"
   ]
  },
  {
   "cell_type": "markdown",
   "id": "94eb0961",
   "metadata": {},
   "source": [
    "<h1>Fonksiyonlarımızda hata durumu yayınlamak</h1>\n",
    "<p>Gördüğümüz gibi birçok Python fonksiyonu normal işleyişe uymayan durumlarda bir hata durumu yayınlıyor, ve programımızda bu hata durumunu yakalayarak işlem yapıyoruz. Kendi yazdığımız fonksiyonların içinde<b> raise</b> komutu kullanarak bir hata durumu yayınlanmasını sağlayabiliriz. Örnek olarak, negatif argüman aldığında<b> ValueError</b> yayınlayan bir faktöriyel fonksiyonu yazalım. Hata mesajını değiştirmemiz de mümkündür:</p>"
   ]
  },
  {
   "cell_type": "code",
   "execution_count": 7,
   "id": "45365d91",
   "metadata": {},
   "outputs": [],
   "source": [
    "def faktöryel(x):\n",
    "    x = int(x)    \n",
    "    if x<0:\n",
    "        raise ValueError(\"Negatif değer\")\n",
    "    p = 1\n",
    "    for i in range(1,x+1):\n",
    "        p *= i\n",
    "    return p"
   ]
  },
  {
   "cell_type": "code",
   "execution_count": 8,
   "id": "113f0a23",
   "metadata": {},
   "outputs": [
    {
     "name": "stdout",
     "output_type": "stream",
     "text": [
      "120\n",
      "-5 :  Negatif değer\n",
      "abc :  invalid literal for int() with base 10: 'abc'\n",
      "5040\n"
     ]
    }
   ],
   "source": [
    "#Şimdi bu fonksiyonu bir try/except bloku içinde kullanalım.\n",
    "for x in [5, -5, \"abc\", 7]:\n",
    "    try:\n",
    "        y = faktöryel(x)\n",
    "    except ValueError as e:\n",
    "        print(x,\": \", e)\n",
    "        continue\n",
    "    print(y)"
   ]
  },
  {
   "cell_type": "markdown",
   "id": "02180359",
   "metadata": {},
   "source": [
    "<h1>Yeni hata durumları yaratmak</h1>\n",
    "<p>Python’un standart hata durumlarına ek olarak, kendi hata durumlarımızı da yaratabiliriz. Yukarıda gördüğümüz hata durumu hiyerarşisi, aslında bir nesne hiyerarşisidir.</p>\n",
    "\n",
    "<p>Yeni bir hata tanımlarken varolan bir hatayı temel alırız. Söz gelişi, genel <b>Exception</b> nesne sınıfından türetilmiş bir <b>VektörBoyuHatası</b> tanımlayalım.</p>"
   ]
  },
  {
   "cell_type": "code",
   "execution_count": 9,
   "id": "77b1d682",
   "metadata": {},
   "outputs": [],
   "source": [
    "class VektörBoyuHatası(Exception):\n",
    "    pass"
   ]
  },
  {
   "cell_type": "markdown",
   "id": "e930bfbe",
   "metadata": {},
   "source": [
    "<p>Buradaki<b> pass</b> kelimesi etkisiz bir komuttur. Python sözdizimi gereğince doldurulması gereken bir yere herhangi bir kod koymak istemediğimizde kullanırız.</p>\n",
    "\n",
    "<p>Şimdi iki sayı listesinin iç çarpımını veren bir fonksiyon yazalım. Listeler aynı uzunlukta değilse iç çarpım tanımlı olmaz; bu durumda <b>VektörBoyuHatası </b>yayınlayalım.</p>"
   ]
  },
  {
   "cell_type": "code",
   "execution_count": 10,
   "id": "e3d4f19f",
   "metadata": {},
   "outputs": [],
   "source": [
    "def iç_çarpım(L1, L2):\n",
    "    if len(L1)!=len(L2):\n",
    "        raise VektörBoyuHatası(\"Parametreler aynı sayıda elemandan oluşmalı.\")\n",
    "    return sum( [a*b for (a,b) in zip(L1,L2)] )"
   ]
  },
  {
   "cell_type": "code",
   "execution_count": 11,
   "id": "c7f43f6e",
   "metadata": {},
   "outputs": [
    {
     "data": {
      "text/plain": [
       "2"
      ]
     },
     "execution_count": 11,
     "metadata": {},
     "output_type": "execute_result"
    }
   ],
   "source": [
    "iç_çarpım([1,2,3], [-1,0,1])"
   ]
  },
  {
   "cell_type": "code",
   "execution_count": 12,
   "id": "858069ef",
   "metadata": {},
   "outputs": [
    {
     "ename": "VektörBoyuHatası",
     "evalue": "Parametreler aynı sayıda elemandan oluşmalı.",
     "output_type": "error",
     "traceback": [
      "\u001b[1;31m---------------------------------------------------------------------------\u001b[0m",
      "\u001b[1;31mVektörBoyuHatası\u001b[0m                          Traceback (most recent call last)",
      "\u001b[1;32m~\\AppData\\Local\\Temp/ipykernel_6684/2865440218.py\u001b[0m in \u001b[0;36m<module>\u001b[1;34m\u001b[0m\n\u001b[1;32m----> 1\u001b[1;33m \u001b[0miç_çarpım\u001b[0m\u001b[1;33m(\u001b[0m\u001b[1;33m[\u001b[0m\u001b[1;36m1\u001b[0m\u001b[1;33m,\u001b[0m\u001b[1;36m2\u001b[0m\u001b[1;33m,\u001b[0m\u001b[1;36m3\u001b[0m\u001b[1;33m,\u001b[0m\u001b[1;36m4\u001b[0m\u001b[1;33m]\u001b[0m\u001b[1;33m,\u001b[0m \u001b[1;33m[\u001b[0m\u001b[1;33m-\u001b[0m\u001b[1;36m1\u001b[0m\u001b[1;33m,\u001b[0m\u001b[1;36m0\u001b[0m\u001b[1;33m,\u001b[0m\u001b[1;36m1\u001b[0m\u001b[1;33m]\u001b[0m\u001b[1;33m)\u001b[0m\u001b[1;33m\u001b[0m\u001b[1;33m\u001b[0m\u001b[0m\n\u001b[0m",
      "\u001b[1;32m~\\AppData\\Local\\Temp/ipykernel_6684/3389880702.py\u001b[0m in \u001b[0;36miç_çarpım\u001b[1;34m(L1, L2)\u001b[0m\n\u001b[0;32m      1\u001b[0m \u001b[1;32mdef\u001b[0m \u001b[0miç_çarpım\u001b[0m\u001b[1;33m(\u001b[0m\u001b[0mL1\u001b[0m\u001b[1;33m,\u001b[0m \u001b[0mL2\u001b[0m\u001b[1;33m)\u001b[0m\u001b[1;33m:\u001b[0m\u001b[1;33m\u001b[0m\u001b[1;33m\u001b[0m\u001b[0m\n\u001b[0;32m      2\u001b[0m     \u001b[1;32mif\u001b[0m \u001b[0mlen\u001b[0m\u001b[1;33m(\u001b[0m\u001b[0mL1\u001b[0m\u001b[1;33m)\u001b[0m\u001b[1;33m!=\u001b[0m\u001b[0mlen\u001b[0m\u001b[1;33m(\u001b[0m\u001b[0mL2\u001b[0m\u001b[1;33m)\u001b[0m\u001b[1;33m:\u001b[0m\u001b[1;33m\u001b[0m\u001b[1;33m\u001b[0m\u001b[0m\n\u001b[1;32m----> 3\u001b[1;33m         \u001b[1;32mraise\u001b[0m \u001b[0mVektörBoyuHatası\u001b[0m\u001b[1;33m(\u001b[0m\u001b[1;34m\"Parametreler aynı sayıda elemandan oluşmalı.\"\u001b[0m\u001b[1;33m)\u001b[0m\u001b[1;33m\u001b[0m\u001b[1;33m\u001b[0m\u001b[0m\n\u001b[0m\u001b[0;32m      4\u001b[0m     \u001b[1;32mreturn\u001b[0m \u001b[0msum\u001b[0m\u001b[1;33m(\u001b[0m \u001b[1;33m[\u001b[0m\u001b[0ma\u001b[0m\u001b[1;33m*\u001b[0m\u001b[0mb\u001b[0m \u001b[1;32mfor\u001b[0m \u001b[1;33m(\u001b[0m\u001b[0ma\u001b[0m\u001b[1;33m,\u001b[0m\u001b[0mb\u001b[0m\u001b[1;33m)\u001b[0m \u001b[1;32min\u001b[0m \u001b[0mzip\u001b[0m\u001b[1;33m(\u001b[0m\u001b[0mL1\u001b[0m\u001b[1;33m,\u001b[0m\u001b[0mL2\u001b[0m\u001b[1;33m)\u001b[0m\u001b[1;33m]\u001b[0m \u001b[1;33m)\u001b[0m\u001b[1;33m\u001b[0m\u001b[1;33m\u001b[0m\u001b[0m\n",
      "\u001b[1;31mVektörBoyuHatası\u001b[0m: Parametreler aynı sayıda elemandan oluşmalı."
     ]
    }
   ],
   "source": [
    "iç_çarpım([1,2,3,4], [-1,0,1])"
   ]
  },
  {
   "cell_type": "code",
   "execution_count": 13,
   "id": "0335e286",
   "metadata": {},
   "outputs": [
    {
     "name": "stdout",
     "output_type": "stream",
     "text": [
      "Parametreler aynı sayıda elemandan oluşmalı.\n"
     ]
    }
   ],
   "source": [
    "#Bu fonksiyonu bir try/except yapısı içinde kullanabiliriz:\n",
    "try:\n",
    "    iç_çarpım([1,2,3,4], [-1,0,1])\n",
    "except VektörBoyuHatası as e:\n",
    "    print(e)"
   ]
  },
  {
   "cell_type": "markdown",
   "id": "fb18653a",
   "metadata": {},
   "source": [
    "<p>gördüğünüz gibi bu hata da böyle çalışıyor...</p>\n",
    "<p>bu anlatım da sadık ortadoğanın anlatımından faydalanılmıştır</p>"
   ]
  }
 ],
 "metadata": {
  "kernelspec": {
   "display_name": "Python 3 (ipykernel)",
   "language": "python",
   "name": "python3"
  },
  "language_info": {
   "codemirror_mode": {
    "name": "ipython",
    "version": 3
   },
   "file_extension": ".py",
   "mimetype": "text/x-python",
   "name": "python",
   "nbconvert_exporter": "python",
   "pygments_lexer": "ipython3",
   "version": "3.9.7"
  }
 },
 "nbformat": 4,
 "nbformat_minor": 5
}
