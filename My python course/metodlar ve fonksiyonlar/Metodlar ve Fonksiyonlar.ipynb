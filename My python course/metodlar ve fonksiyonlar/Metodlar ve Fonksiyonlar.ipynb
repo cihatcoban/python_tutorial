{
 "cells": [
  {
   "cell_type": "markdown",
   "id": "2286933b",
   "metadata": {},
   "source": [
    "<H1>METODLAR</H1>\n",
    "    <P>Şimdiye kadar python proglamada bir çok şey öğrendik ve artık pythonda ki en önemli bölüme geldik. Fonksiyonlar bölümde gerçek hayatan benzetmeler yaparak fonksiyon kullanma mantığını anlamaya çalışacağız. ilk olarak <strong>METOD</strong> nedir anlamaya çalışalım.</P>\n",
    "<H2>METOD NEDİR</H2>\n",
    "    <P>Şimdiye kadar python da birçok veri tipi gördük ve bazı veri tipleri üzerinde bu veri tiplerinin metodlarını kullandık . Aslında bu veri tiplerinin oluşturulan her bir değişken python da <strong>obje (OBJECT)</strong> olarak dönüştürülür. python  geliştiricileri bu objelere bir çok metod tanımlamıştır. peki nedir bu metodlar ?</P>\n",
    "    <p1><strong>METODLAR</strong> bir obje üzerine belli işlemleri gerçekleştiren objelere özgü fonksiyonlardır. Objelerin üzerinde metodlar şu şekilde kullanılır.</p1>\n",
    "     <p2> obje.herhangi_bir_metod(değerler(opsiyonel))</p2>"
   ]
  },
  {
   "cell_type": "code",
   "execution_count": 1,
   "id": "994a88e2",
   "metadata": {},
   "outputs": [
    {
     "data": {
      "text/plain": [
       "['a', 'b', 'v', 'c', 'd', 'cihat', 2, 5, 6, 9]"
      ]
     },
     "execution_count": 1,
     "metadata": {},
     "output_type": "execute_result"
    }
   ],
   "source": [
    "#örneğin bir liste objesi oluşturduğumuzda bu objenin üzerinde belli metodları uygulayabiliriz.\n",
    "liste = [\"a\",\"b\",\"v\",\"c\",\"d\",2,5,6,9]\n",
    "liste.insert(5,\"cihat\")\n",
    "liste"
   ]
  },
  {
   "cell_type": "code",
   "execution_count": 2,
   "id": "dd3340a3",
   "metadata": {},
   "outputs": [],
   "source": [
    "#.append metodu listemize eleman ekler\n",
    "liste.append(\"zaza\")"
   ]
  },
  {
   "cell_type": "code",
   "execution_count": 3,
   "id": "0bedaf77",
   "metadata": {},
   "outputs": [
    {
     "data": {
      "text/plain": [
       "['a', 'b', 'v', 'c', 'd', 'cihat', 2, 5, 6, 9, 'zaza']"
      ]
     },
     "execution_count": 3,
     "metadata": {},
     "output_type": "execute_result"
    }
   ],
   "source": [
    "liste"
   ]
  },
  {
   "cell_type": "code",
   "execution_count": 4,
   "id": "20f31056",
   "metadata": {},
   "outputs": [
    {
     "data": {
      "text/plain": [
       "'zaza'"
      ]
     },
     "execution_count": 4,
     "metadata": {},
     "output_type": "execute_result"
    }
   ],
   "source": [
    "#.pop metodu listemizi sondan başlayarak boşaltır.\n",
    "liste.pop()"
   ]
  },
  {
   "cell_type": "code",
   "execution_count": 5,
   "id": "aa89eb78",
   "metadata": {},
   "outputs": [
    {
     "data": {
      "text/plain": [
       "['a', 'b', 'v', 'c', 'd', 'cihat', 2, 5, 6, 9]"
      ]
     },
     "execution_count": 5,
     "metadata": {},
     "output_type": "execute_result"
    }
   ],
   "source": [
    "liste"
   ]
  },
  {
   "cell_type": "code",
   "execution_count": 6,
   "id": "3dfd8c8c",
   "metadata": {},
   "outputs": [
    {
     "data": {
      "text/plain": [
       "9"
      ]
     },
     "execution_count": 6,
     "metadata": {},
     "output_type": "execute_result"
    }
   ],
   "source": [
    "liste.pop()"
   ]
  },
  {
   "cell_type": "code",
   "execution_count": 7,
   "id": "56841d38",
   "metadata": {},
   "outputs": [
    {
     "data": {
      "text/plain": [
       "['a', 'b', 'v', 'c', 'd', 'cihat', 2, 5, 6]"
      ]
     },
     "execution_count": 7,
     "metadata": {},
     "output_type": "execute_result"
    }
   ],
   "source": [
    "liste"
   ]
  },
  {
   "cell_type": "code",
   "execution_count": 8,
   "id": "0066e0cd",
   "metadata": {},
   "outputs": [
    {
     "name": "stdout",
     "output_type": "stream",
     "text": [
      "Help on built-in function pop:\n",
      "\n",
      "pop(index=-1, /) method of builtins.list instance\n",
      "    Remove and return item at index (default last).\n",
      "    \n",
      "    Raises IndexError if list is empty or index is out of range.\n",
      "\n"
     ]
    }
   ],
   "source": [
    "help(liste.pop)"
   ]
  },
  {
   "cell_type": "code",
   "execution_count": 9,
   "id": "7e083681",
   "metadata": {},
   "outputs": [
    {
     "name": "stdout",
     "output_type": "stream",
     "text": [
      "Help on built-in function append:\n",
      "\n",
      "append(object, /) method of builtins.list instance\n",
      "    Append object to the end of the list.\n",
      "\n"
     ]
    }
   ],
   "source": [
    "help(liste.append)"
   ]
  },
  {
   "cell_type": "code",
   "execution_count": 10,
   "id": "6820a399",
   "metadata": {},
   "outputs": [
    {
     "name": "stdout",
     "output_type": "stream",
     "text": [
      "Help on built-in function insert:\n",
      "\n",
      "insert(index, object, /) method of builtins.list instance\n",
      "    Insert object before index.\n",
      "\n"
     ]
    }
   ],
   "source": [
    "help(liste.insert)"
   ]
  },
  {
   "cell_type": "markdown",
   "id": "c0976e3b",
   "metadata": {},
   "source": [
    "<h1>FONKSİYONLAR</h1>\n",
    "<p>Fonksiyonlar programlamada belli işlevleri olan ve tekrar kullandığımız yapılardır.fonksiyonun amacı kod tekrarlarını engelemektir. örnek vermek gerekirse <b>print()</b> fonksiyonu ekrana birşeyler bastırır ve en çok kullanılan fonksiyonlardan biridir.</p>\n",
    "<p>python da çok sayıda gömülü fonksiyon vardır . bunlar arasında kullabileceğimiz veya kullanmak istemediğimiz zamanlar da kendi fonksiyonlarımızı da yazabiliriz </p>\n",
    "<h1>Fonksiyonların Tanımlanması</h1>\n",
    "<p> Fonksiyonların tanımlanma şekli şu şekildedir:\n",
    "    <b> \n",
    "        <ul>\n",
    "            <li>def fonksiyon_adı(parametre1,parametre2....(opsiyonel)):</li>\n",
    "            <li>#fonksiyon bloğu</li>\n",
    "            <li>yapılacak işler</li>\n",
    "            <li>#dönüş değerleri</li>\n",
    "        </ul>\n",
    "    </b>\n",
    "</p>    "
   ]
  },
  {
   "cell_type": "code",
   "execution_count": 11,
   "id": "92422e05",
   "metadata": {},
   "outputs": [],
   "source": [
    "def yazget():\n",
    "    print(\"yazılım geliştirme topluluğu\")\n",
    "    print(\"sıloganı ; short cut university\")\n",
    "    print(\"2022 de kurulmuştur\")\n",
    "    return"
   ]
  },
  {
   "cell_type": "code",
   "execution_count": 12,
   "id": "f9af337c",
   "metadata": {},
   "outputs": [
    {
     "data": {
      "text/plain": [
       "function"
      ]
     },
     "execution_count": 12,
     "metadata": {},
     "output_type": "execute_result"
    }
   ],
   "source": [
    "type(yazget)"
   ]
  },
  {
   "cell_type": "code",
   "execution_count": 13,
   "id": "95e4c8d4",
   "metadata": {},
   "outputs": [
    {
     "name": "stdout",
     "output_type": "stream",
     "text": [
      "yazılım geliştirme topluluğu\n",
      "sıloganı ; short cut university\n",
      "2022 de kurulmuştur\n"
     ]
    }
   ],
   "source": [
    "yazget()"
   ]
  },
  {
   "cell_type": "code",
   "execution_count": 14,
   "id": "5fc77049",
   "metadata": {},
   "outputs": [
    {
     "ename": "TypeError",
     "evalue": "yazget() takes 0 positional arguments but 1 was given",
     "output_type": "error",
     "traceback": [
      "\u001b[1;31m---------------------------------------------------------------------------\u001b[0m",
      "\u001b[1;31mTypeError\u001b[0m                                 Traceback (most recent call last)",
      "\u001b[1;32m~\\AppData\\Local\\Temp/ipykernel_11396/821116040.py\u001b[0m in \u001b[0;36m<module>\u001b[1;34m\u001b[0m\n\u001b[0;32m      1\u001b[0m \u001b[1;31m#fonksiyonumuza işlem yaptıralım\u001b[0m\u001b[1;33m\u001b[0m\u001b[1;33m\u001b[0m\u001b[0m\n\u001b[1;32m----> 2\u001b[1;33m \u001b[0myazget\u001b[0m\u001b[1;33m(\u001b[0m\u001b[1;34m\"cihat\"\u001b[0m\u001b[1;33m)\u001b[0m\u001b[1;33m\u001b[0m\u001b[1;33m\u001b[0m\u001b[0m\n\u001b[0m",
      "\u001b[1;31mTypeError\u001b[0m: yazget() takes 0 positional arguments but 1 was given"
     ]
    }
   ],
   "source": [
    "#fonksiyonumuza işlem yaptıralım\n",
    "yazget(\"cihat\")"
   ]
  },
  {
   "cell_type": "code",
   "execution_count": 1,
   "id": "b770b46f",
   "metadata": {},
   "outputs": [],
   "source": [
    "#gördüğünüz üzere işlevsel olmayan bir fonksiyon olduğu için hata aldı.\n",
    "#peki değer verdiğimizde bize sonuç dönebilen bir fonksiyon yazalım.\n",
    "def zaza(name):\n",
    "    print(\"hoş geldiniz sayın:\",name)"
   ]
  },
  {
   "cell_type": "code",
   "execution_count": 2,
   "id": "3b7bb752",
   "metadata": {},
   "outputs": [
    {
     "name": "stdout",
     "output_type": "stream",
     "text": [
      "hoş geldiniz sayın: cihat çoban\n"
     ]
    }
   ],
   "source": [
    "#deneyelim\n",
    "zaza(\"cihat çoban\")"
   ]
  },
  {
   "cell_type": "code",
   "execution_count": 3,
   "id": "ade374ce",
   "metadata": {},
   "outputs": [
    {
     "name": "stdout",
     "output_type": "stream",
     "text": [
      "hoş geldiniz sayın: kemal sunal\n"
     ]
    }
   ],
   "source": [
    "zaza(\"kemal sunal\")"
   ]
  },
  {
   "cell_type": "markdown",
   "id": "9c87b827",
   "metadata": {},
   "source": [
    "<h1>Parametreler ve Argümanlar Nedir?</h1>\n",
    "<p>Fonksiyon tanıımlarken tanımladığımız her bir değişken birer <b>parametre</b>. Fonksiyon çağrısı yaptığımızda içine gönderdiğimiz değerler ise <b>argüman</b> olmaktadır. </p>"
   ]
  },
  {
   "cell_type": "code",
   "execution_count": 17,
   "id": "12d01c7b",
   "metadata": {},
   "outputs": [],
   "source": [
    "#dörtgenlerin hacmini bullan bir fonksiyonu yazalım\n",
    "def dortgen_hacmi(x,y,z):\n",
    "    print(\"toplam:\",x*y*z,\"cm^3\")"
   ]
  },
  {
   "cell_type": "code",
   "execution_count": 18,
   "id": "5c1b8bf6",
   "metadata": {},
   "outputs": [
    {
     "name": "stdout",
     "output_type": "stream",
     "text": [
      "toplam: 78750 cm^3\n"
     ]
    }
   ],
   "source": [
    "dortgen_hacmi(25,45,70)"
   ]
  },
  {
   "cell_type": "code",
   "execution_count": 19,
   "id": "74061b41",
   "metadata": {},
   "outputs": [],
   "source": [
    "#  tek-çift işlemi yapan fonksiyonumuz olsun\n",
    "def tek_cift(sayı):\n",
    "    if (sayı%2==0):\n",
    "        print(\"çift sayı\")\n",
    "    else:\n",
    "        print(\"tek sayı\")\n",
    "    "
   ]
  },
  {
   "cell_type": "code",
   "execution_count": 20,
   "id": "aa7d1a31",
   "metadata": {},
   "outputs": [
    {
     "name": "stdout",
     "output_type": "stream",
     "text": [
      "tek sayı\n"
     ]
    }
   ],
   "source": [
    "tek_cift(97)"
   ]
  },
  {
   "cell_type": "code",
   "execution_count": 21,
   "id": "f842fd3c",
   "metadata": {},
   "outputs": [
    {
     "name": "stdout",
     "output_type": "stream",
     "text": [
      "çift sayı\n"
     ]
    }
   ],
   "source": [
    "tek_cift(60)"
   ]
  },
  {
   "cell_type": "code",
   "execution_count": 22,
   "id": "f4fbb0af",
   "metadata": {},
   "outputs": [],
   "source": [
    "#fonksiyon yardımıyla faktöriyel bulma işlemi\n",
    "def faktoriyel(i):\n",
    "    faktoriyel=1\n",
    "    if(i==0 or i==1):\n",
    "        print(\"faktöriyel: \",faktoriyel)\n",
    "    else:\n",
    "        while(i>=1):\n",
    "            faktoriyel*=i\n",
    "            i-=1\n",
    "        print(\"faktoriyel: \",faktoriyel)\n"
   ]
  },
  {
   "cell_type": "code",
   "execution_count": 23,
   "id": "ed261a72",
   "metadata": {},
   "outputs": [
    {
     "name": "stdout",
     "output_type": "stream",
     "text": [
      "faktoriyel:  5040\n"
     ]
    }
   ],
   "source": [
    "faktoriyel(7)"
   ]
  },
  {
   "cell_type": "code",
   "execution_count": 24,
   "id": "436a7e00",
   "metadata": {},
   "outputs": [
    {
     "name": "stdout",
     "output_type": "stream",
     "text": [
      "faktöriyel:  1\n"
     ]
    }
   ],
   "source": [
    "faktoriyel(1)"
   ]
  },
  {
   "cell_type": "markdown",
   "id": "dc18ceb3",
   "metadata": {},
   "source": [
    "<h1>Fonksiyonlarda Return </h1>\n",
    "<p>Return ifadesi <b>fonksiyonun işlemi bittikten sonra çağrıldığı yere değer döndürmesi anlamı taşır.</b> Böylelikle, fonksiyonda aldığımız değeri bir değişkende depolayabilir ve değeri programın başka yerlerinde kullanabiliriz.</p>"
   ]
  },
  {
   "cell_type": "code",
   "execution_count": 4,
   "id": "4236a071",
   "metadata": {},
   "outputs": [],
   "source": [
    "# return kullanımıyapılmamış iki fonksiyonu kullanalım\n",
    "def carpan(j,i): #carpan fonksiyonu içerisine aldığı iki değeri çarpar\n",
    "    print(\"{}*{} = {} \".format(j,i,j*i))\n",
    "def katla(i):\n",
    "    print(\"çarp geç=\",i*2)"
   ]
  },
  {
   "cell_type": "code",
   "execution_count": 5,
   "id": "d2a20d65",
   "metadata": {},
   "outputs": [
    {
     "name": "stdout",
     "output_type": "stream",
     "text": [
      "5*8 = 40 \n"
     ]
    },
    {
     "ename": "TypeError",
     "evalue": "unsupported operand type(s) for *: 'NoneType' and 'int'",
     "output_type": "error",
     "traceback": [
      "\u001b[1;31m---------------------------------------------------------------------------\u001b[0m",
      "\u001b[1;31mTypeError\u001b[0m                                 Traceback (most recent call last)",
      "\u001b[1;32m~\\AppData\\Local\\Temp/ipykernel_5768/1403061850.py\u001b[0m in \u001b[0;36m<module>\u001b[1;34m\u001b[0m\n\u001b[0;32m      1\u001b[0m \u001b[1;31m#carpan fonksiyonunu carp ifadesine eşitleyelim ve çıktı isteyelim\u001b[0m\u001b[1;33m\u001b[0m\u001b[1;33m\u001b[0m\u001b[0m\n\u001b[0;32m      2\u001b[0m \u001b[0mcarp\u001b[0m\u001b[1;33m=\u001b[0m\u001b[0mcarpan\u001b[0m\u001b[1;33m(\u001b[0m\u001b[1;36m5\u001b[0m\u001b[1;33m,\u001b[0m\u001b[1;36m8\u001b[0m\u001b[1;33m)\u001b[0m\u001b[1;33m\u001b[0m\u001b[1;33m\u001b[0m\u001b[0m\n\u001b[1;32m----> 3\u001b[1;33m \u001b[0mkatla\u001b[0m\u001b[1;33m(\u001b[0m\u001b[0mcarp\u001b[0m\u001b[1;33m)\u001b[0m\u001b[1;33m\u001b[0m\u001b[1;33m\u001b[0m\u001b[0m\n\u001b[0m",
      "\u001b[1;32m~\\AppData\\Local\\Temp/ipykernel_5768/2610527360.py\u001b[0m in \u001b[0;36mkatla\u001b[1;34m(i)\u001b[0m\n\u001b[0;32m      3\u001b[0m     \u001b[0mprint\u001b[0m\u001b[1;33m(\u001b[0m\u001b[1;34m\"{}*{} = {} \"\u001b[0m\u001b[1;33m.\u001b[0m\u001b[0mformat\u001b[0m\u001b[1;33m(\u001b[0m\u001b[0mj\u001b[0m\u001b[1;33m,\u001b[0m\u001b[0mi\u001b[0m\u001b[1;33m,\u001b[0m\u001b[0mj\u001b[0m\u001b[1;33m*\u001b[0m\u001b[0mi\u001b[0m\u001b[1;33m)\u001b[0m\u001b[1;33m)\u001b[0m\u001b[1;33m\u001b[0m\u001b[1;33m\u001b[0m\u001b[0m\n\u001b[0;32m      4\u001b[0m \u001b[1;32mdef\u001b[0m \u001b[0mkatla\u001b[0m\u001b[1;33m(\u001b[0m\u001b[0mi\u001b[0m\u001b[1;33m)\u001b[0m\u001b[1;33m:\u001b[0m\u001b[1;33m\u001b[0m\u001b[1;33m\u001b[0m\u001b[0m\n\u001b[1;32m----> 5\u001b[1;33m     \u001b[0mprint\u001b[0m\u001b[1;33m(\u001b[0m\u001b[1;34m\"çarp geç=\"\u001b[0m\u001b[1;33m,\u001b[0m\u001b[0mi\u001b[0m\u001b[1;33m*\u001b[0m\u001b[1;36m2\u001b[0m\u001b[1;33m)\u001b[0m\u001b[1;33m\u001b[0m\u001b[1;33m\u001b[0m\u001b[0m\n\u001b[0m",
      "\u001b[1;31mTypeError\u001b[0m: unsupported operand type(s) for *: 'NoneType' and 'int'"
     ]
    }
   ],
   "source": [
    "#carpan fonksiyonunu carp ifadesine eşitleyelim ve çıktı isteyelim\n",
    "carp=carpan(5,8)\n",
    "katla(carp)"
   ]
  },
  {
   "cell_type": "code",
   "execution_count": 27,
   "id": "fa44c7c0",
   "metadata": {},
   "outputs": [
    {
     "data": {
      "text/plain": [
       "NoneType"
      ]
     },
     "execution_count": 27,
     "metadata": {},
     "output_type": "execute_result"
    }
   ],
   "source": [
    "#atanmamış ifade\n",
    "type(carp)"
   ]
  },
  {
   "cell_type": "code",
   "execution_count": 6,
   "id": "e5342fbd",
   "metadata": {},
   "outputs": [],
   "source": [
    "#return kullanalım\n",
    "def carpım(i,j):\n",
    "    return i*j\n",
    "def katı(a):\n",
    "    return a*2"
   ]
  },
  {
   "cell_type": "code",
   "execution_count": 7,
   "id": "9a50381e",
   "metadata": {},
   "outputs": [
    {
     "data": {
      "text/plain": [
       "80"
      ]
     },
     "execution_count": 7,
     "metadata": {},
     "output_type": "execute_result"
    }
   ],
   "source": [
    "#haydi tekrar bir çıktı isteyelim\n",
    "carpı=carpım(8,5)\n",
    "katı(carpı)"
   ]
  },
  {
   "cell_type": "code",
   "execution_count": 30,
   "id": "2fd251cf",
   "metadata": {},
   "outputs": [
    {
     "data": {
      "text/plain": [
       "int"
      ]
     },
     "execution_count": 30,
     "metadata": {},
     "output_type": "execute_result"
    }
   ],
   "source": [
    "#type sorgulayalım\n",
    "type(carpı)"
   ]
  },
  {
   "cell_type": "code",
   "execution_count": 31,
   "id": "965afb8e",
   "metadata": {},
   "outputs": [],
   "source": [
    "# üç farklı fonksiyonu tanımlayalım\n",
    "def cıkar(i,j):\n",
    "    print(\"çıkarma aktif;\")\n",
    "    return i-j\n",
    "def carp(i):\n",
    "    print(\"çarpma aktif;\")\n",
    "    return i*10\n",
    "def bol(i):\n",
    "    print(\"bölme aktif;\")\n",
    "    return i/2"
   ]
  },
  {
   "cell_type": "code",
   "execution_count": 32,
   "id": "d12fa189",
   "metadata": {},
   "outputs": [
    {
     "name": "stdout",
     "output_type": "stream",
     "text": [
      "çıkarma aktif;\n",
      "bölme aktif;\n",
      "çarpma aktif;\n",
      "282.40000000000003\n"
     ]
    }
   ],
   "source": [
    "# tanımladığımız bu 3 fonk. iç içe yazarak çalıştıralım.\n",
    "#dizimin nasıl çalıştığını görelim.\n",
    "print(carp(bol(cıkar(80,23.52))))"
   ]
  },
  {
   "cell_type": "markdown",
   "id": "7bdabced",
   "metadata": {},
   "source": [
    "<b>return ifadesinden sonra işlem sonlandırılır sonrasında birşey yazarsak çalışmaz.</b>"
   ]
  },
  {
   "cell_type": "code",
   "execution_count": 33,
   "id": "6365a6e1",
   "metadata": {},
   "outputs": [],
   "source": [
    "#örnek vermek gerekirse\n",
    "def biz(a,s,d):\n",
    "    return a+s*d\n",
    "    print(\"gördüğümüz üzere bu satır çalışmaz\")"
   ]
  },
  {
   "cell_type": "code",
   "execution_count": 34,
   "id": "d7c00c0b",
   "metadata": {},
   "outputs": [
    {
     "data": {
      "text/plain": [
       "21"
      ]
     },
     "execution_count": 34,
     "metadata": {},
     "output_type": "execute_result"
    }
   ],
   "source": [
    "# görelim\n",
    "biz(5,8,2)"
   ]
  },
  {
   "cell_type": "markdown",
   "id": "17372129",
   "metadata": {},
   "source": [
    "<p>Fonksiyonlar çağrıldığı yere herhangi bir değer döndürmüyorsa\n",
    "    <b>yani return kullanılmamışsa</b> bu fonksiyonlara <b>void</b> fonksiyonlar denir.</p>"
   ]
  },
  {
   "cell_type": "markdown",
   "id": "57356f4b",
   "metadata": {},
   "source": [
    "<h2>Parametre Türleri</h2>"
   ]
  },
  {
   "cell_type": "code",
   "execution_count": 35,
   "id": "52bb2a7b",
   "metadata": {},
   "outputs": [],
   "source": [
    "# eğer kişi adı bilinmiyorsa ------ yazmasını sağlayalım\n",
    "# bildiğiniz üzere eğer birşey tanımlamazsak kişi adını girmediğmizde hata alacaktık.\n",
    "def aranan(adınız=\"--------\"):\n",
    "    print(\"arananın adı: \", adınız)"
   ]
  },
  {
   "cell_type": "code",
   "execution_count": 36,
   "id": "00ed1144",
   "metadata": {
    "scrolled": true
   },
   "outputs": [
    {
     "name": "stdout",
     "output_type": "stream",
     "text": [
      "arananın adı:  --------\n"
     ]
    }
   ],
   "source": [
    "aranan()"
   ]
  },
  {
   "cell_type": "code",
   "execution_count": 37,
   "id": "b9f17583",
   "metadata": {
    "scrolled": true
   },
   "outputs": [
    {
     "name": "stdout",
     "output_type": "stream",
     "text": [
      "arananın adı:  veli\n"
     ]
    }
   ],
   "source": [
    "aranan(\"veli\")"
   ]
  },
  {
   "cell_type": "code",
   "execution_count": 38,
   "id": "bc0f43e4",
   "metadata": {},
   "outputs": [
    {
     "name": "stdout",
     "output_type": "stream",
     "text": [
      "ID: 12 \n",
      "adı: çikilata \n",
      "üretim yeri: italy \n",
      "fiyatı: 50\n"
     ]
    }
   ],
   "source": [
    "# basit bir ürün tanımlama fonksiyonu yazalım\n",
    "def urun(a,b,c,d):\n",
    "    print(\"ID:\",a,\"\\nadı:\",b,\"\\nüretim yeri:\",c,\"\\nfiyatı:\",d)\n",
    "urun(12,\"çikilata\",\"italy\",50)"
   ]
  },
  {
   "cell_type": "code",
   "execution_count": 39,
   "id": "2f16cce9",
   "metadata": {
    "scrolled": true
   },
   "outputs": [
    {
     "name": "stdout",
     "output_type": "stream",
     "text": [
      "ID: 12 \n",
      "adı: çikilata \n",
      "üretim yeri: ? \n",
      "fiyatı: 50\n"
     ]
    }
   ],
   "source": [
    "# yukarda yazdığımız fonksiyon eğer bir değer girilmezse bize hata döner\n",
    "# ama şimdi yazacağımız fonksiyon girilmeyen değer için bize ? yazacak.\n",
    "def urun(a=\"?\",b=\"?\",c=\"?\",d=\"?\"):\n",
    "    print(\"ID:\",a,\"\\nadı:\",b,\"\\nüretim yeri:\",c,\"\\nfiyatı:\",d)\n",
    "urun(12,\"çikilata\",d=50)"
   ]
  },
  {
   "cell_type": "code",
   "execution_count": 40,
   "id": "420e1c11",
   "metadata": {
    "scrolled": true
   },
   "outputs": [
    {
     "name": "stdout",
     "output_type": "stream",
     "text": [
      "Help on built-in function print in module builtins:\n",
      "\n",
      "print(...)\n",
      "    print(value, ..., sep=' ', end='\\n', file=sys.stdout, flush=False)\n",
      "    \n",
      "    Prints the values to a stream, or to sys.stdout by default.\n",
      "    Optional keyword arguments:\n",
      "    file:  a file-like object (stream); defaults to the current sys.stdout.\n",
      "    sep:   string inserted between values, default a space.\n",
      "    end:   string appended after the last value, default a newline.\n",
      "    flush: whether to forcibly flush the stream.\n",
      "\n"
     ]
    }
   ],
   "source": [
    "#bir fonksiyonun hangi işlemleri gerçekleştirebildiğini görmek için help(fonksiyom_adı) şeklinde yazarız.b\n",
    "help(print)"
   ]
  },
  {
   "cell_type": "markdown",
   "id": "803e9654",
   "metadata": {},
   "source": [
    "<b>peki biz hep belirlediğimiz parametre addedince mi değişken gireceğiz? </b>"
   ]
  },
  {
   "cell_type": "code",
   "execution_count": 41,
   "id": "4c9efe14",
   "metadata": {},
   "outputs": [
    {
     "name": "stdout",
     "output_type": "stream",
     "text": [
      "(6, 3, 5, 961, 9)\n"
     ]
    }
   ],
   "source": [
    "# tabi ki hayır .biz onca şeyi boşuna mı öğrendik 😡\n",
    "#bakalım tuble (demetler) bizi nasıl yönlendirecek.\n",
    "def sayı(*a):\n",
    "    print(a)\n",
    "sayı(6,3,5,961,9)"
   ]
  },
  {
   "cell_type": "code",
   "execution_count": 42,
   "id": "c8feccac",
   "metadata": {},
   "outputs": [
    {
     "name": "stdout",
     "output_type": "stream",
     "text": [
      "56\n"
     ]
    }
   ],
   "source": [
    "# peki biz bu demeti nasıl kullanacağız?\n",
    "# tabi ki döngüler yardımcı olacak bu nokta da\n",
    "def say(*i):\n",
    "    toplam = 0\n",
    "    for j in i:\n",
    "        toplam +=j  \n",
    "    print(toplam)\n",
    "say(4,5,6,8,1,32)"
   ]
  },
  {
   "cell_type": "markdown",
   "id": "4e28d4a0",
   "metadata": {},
   "source": [
    "<h1>Yerel ve Global Değişkenler </h1>\n",
    "<p>Python da her bir<b> değişkenin , fonksiyonun sınıfın(class)</b> aslında bir <b>kapsamı (scope)</b> bulunur ve python herbir değişkeni bir <b>isim alanında (namespace)</b> tanımlar. değişkenlerin isim alanı ise bu değişkenin nerelerde var olduğunu ve nerelerde kullanabileceğini gösterir.</p>\n",
    "<p>python da fonkisyonlarda tanımlanan değişkenler python tarafında <b> yerel(local) değişkenler</b> olarak tanımlanır. Yani bir <b> fonksiyonun bloğuna </b> oluşturulan değişkenler <b>fonksiyona özgüdür ve fonksiyon çalışmasını</b> bittirdikten sonra bu değişkenşler <b>bellekten silinir ve yok olur.</b> Böylelikle , fonksiyon içerisinde tanımlanmış bir değişkene başka yerden <b>erişilemez</b></p>\n",
    "<p> Python da en geniş kapsam alanına sahip değişkenlere ise <b>global değişkenler</b> olarak tanımlanırlar ve global değişkenlere <b>tanımlandığı andan itibaren </b> programın her yerinde ulaşabiliriz.</p>"
   ]
  },
  {
   "cell_type": "code",
   "execution_count": 11,
   "id": "b7f8a548",
   "metadata": {},
   "outputs": [
    {
     "name": "stdout",
     "output_type": "stream",
     "text": [
      "5\n"
     ]
    },
    {
     "ename": "NameError",
     "evalue": "name 'a' is not defined",
     "output_type": "error",
     "traceback": [
      "\u001b[1;31m---------------------------------------------------------------------------\u001b[0m",
      "\u001b[1;31mNameError\u001b[0m                                 Traceback (most recent call last)",
      "\u001b[1;32m~\\AppData\\Local\\Temp/ipykernel_5768/3085047857.py\u001b[0m in \u001b[0;36m<module>\u001b[1;34m\u001b[0m\n\u001b[0;32m      5\u001b[0m \u001b[1;33m\u001b[0m\u001b[0m\n\u001b[0;32m      6\u001b[0m \u001b[0mzaza\u001b[0m\u001b[1;33m(\u001b[0m\u001b[1;33m)\u001b[0m\u001b[1;33m\u001b[0m\u001b[1;33m\u001b[0m\u001b[0m\n\u001b[1;32m----> 7\u001b[1;33m \u001b[0mprint\u001b[0m\u001b[1;33m(\u001b[0m\u001b[0ma\u001b[0m\u001b[1;33m)\u001b[0m\u001b[1;33m\u001b[0m\u001b[1;33m\u001b[0m\u001b[0m\n\u001b[0m\u001b[0;32m      8\u001b[0m \u001b[1;33m\u001b[0m\u001b[0m\n\u001b[0;32m      9\u001b[0m \u001b[1;31m# local değişkenimiz a var olduğu için çalıtı ama globalde bir şey yok.\u001b[0m\u001b[1;33m\u001b[0m\u001b[1;33m\u001b[0m\u001b[0m\n",
      "\u001b[1;31mNameError\u001b[0m: name 'a' is not defined"
     ]
    }
   ],
   "source": [
    "\n",
    "              # global değişken tanımlamayalım\n",
    "def zaza():\n",
    "    a=5       # yerel değişken tanımlayalım\n",
    "    print(a)\n",
    "     \n",
    "zaza()\n",
    "print(a)\n",
    "\n",
    "# local değişkenimiz a var olduğu için çalıtı ama globalde bir şey yok."
   ]
  },
  {
   "cell_type": "code",
   "execution_count": 44,
   "id": "8ea76974",
   "metadata": {},
   "outputs": [
    {
     "name": "stdout",
     "output_type": "stream",
     "text": [
      "54\n",
      "54\n"
     ]
    }
   ],
   "source": [
    "#globalı çalıştıralım\n",
    "a=54\n",
    "def zaza():\n",
    "    print(a) #local\n",
    "zaza()\n",
    "print(a) #global\n",
    "\n",
    "# yerel de ekstra bir değişken tanımlamadığımız için globalde ki değeri kullandı."
   ]
  },
  {
   "cell_type": "code",
   "execution_count": 45,
   "id": "151b5140",
   "metadata": {},
   "outputs": [
    {
     "name": "stdout",
     "output_type": "stream",
     "text": [
      "56\n",
      "45\n"
     ]
    }
   ],
   "source": [
    "#hem yerele hem de globale değer atayalım.\n",
    "a=45\n",
    "def zaza():\n",
    "    a=56 #local bir kere çalışır sonra olay yine globale döner\n",
    "    print(a)\n",
    "zaza()\n",
    "print(a)"
   ]
  },
  {
   "cell_type": "code",
   "execution_count": 46,
   "id": "824f9ef8",
   "metadata": {},
   "outputs": [
    {
     "ename": "NameError",
     "evalue": "name 'p' is not defined",
     "output_type": "error",
     "traceback": [
      "\u001b[1;31m---------------------------------------------------------------------------\u001b[0m",
      "\u001b[1;31mNameError\u001b[0m                                 Traceback (most recent call last)",
      "\u001b[1;32m~\\AppData\\Local\\Temp/ipykernel_11396/3067880899.py\u001b[0m in \u001b[0;36m<module>\u001b[1;34m\u001b[0m\n\u001b[0;32m      2\u001b[0m \u001b[1;32mdef\u001b[0m \u001b[0malfa\u001b[0m\u001b[1;33m(\u001b[0m\u001b[1;33m)\u001b[0m\u001b[1;33m:\u001b[0m\u001b[1;33m\u001b[0m\u001b[1;33m\u001b[0m\u001b[0m\n\u001b[0;32m      3\u001b[0m     \u001b[0mprint\u001b[0m\u001b[1;33m(\u001b[0m\u001b[0mp\u001b[0m\u001b[1;33m)\u001b[0m\u001b[1;33m\u001b[0m\u001b[1;33m\u001b[0m\u001b[0m\n\u001b[1;32m----> 4\u001b[1;33m \u001b[0malfa\u001b[0m\u001b[1;33m(\u001b[0m\u001b[1;33m)\u001b[0m\u001b[1;33m\u001b[0m\u001b[1;33m\u001b[0m\u001b[0m\n\u001b[0m\u001b[0;32m      5\u001b[0m \u001b[0mj\u001b[0m\u001b[1;33m=\u001b[0m\u001b[1;36m4\u001b[0m\u001b[1;33m\u001b[0m\u001b[1;33m\u001b[0m\u001b[0m\n",
      "\u001b[1;32m~\\AppData\\Local\\Temp/ipykernel_11396/3067880899.py\u001b[0m in \u001b[0;36malfa\u001b[1;34m()\u001b[0m\n\u001b[0;32m      1\u001b[0m \u001b[1;31m#fonksiyondan sonra tanımlanan değişkenler fonksiyonu etkilemez\u001b[0m\u001b[1;33m\u001b[0m\u001b[1;33m\u001b[0m\u001b[0m\n\u001b[0;32m      2\u001b[0m \u001b[1;32mdef\u001b[0m \u001b[0malfa\u001b[0m\u001b[1;33m(\u001b[0m\u001b[1;33m)\u001b[0m\u001b[1;33m:\u001b[0m\u001b[1;33m\u001b[0m\u001b[1;33m\u001b[0m\u001b[0m\n\u001b[1;32m----> 3\u001b[1;33m     \u001b[0mprint\u001b[0m\u001b[1;33m(\u001b[0m\u001b[0mp\u001b[0m\u001b[1;33m)\u001b[0m\u001b[1;33m\u001b[0m\u001b[1;33m\u001b[0m\u001b[0m\n\u001b[0m\u001b[0;32m      4\u001b[0m \u001b[0malfa\u001b[0m\u001b[1;33m(\u001b[0m\u001b[1;33m)\u001b[0m\u001b[1;33m\u001b[0m\u001b[1;33m\u001b[0m\u001b[0m\n\u001b[0;32m      5\u001b[0m \u001b[0mj\u001b[0m\u001b[1;33m=\u001b[0m\u001b[1;36m4\u001b[0m\u001b[1;33m\u001b[0m\u001b[1;33m\u001b[0m\u001b[0m\n",
      "\u001b[1;31mNameError\u001b[0m: name 'p' is not defined"
     ]
    }
   ],
   "source": [
    "#fonksiyondan sonra tanımlanan değişkenler fonksiyonu etkilemez\n",
    "def alfa():\n",
    "    print(p)\n",
    "alfa()\n",
    "j=4"
   ]
  },
  {
   "cell_type": "markdown",
   "id": "9eaccdbd",
   "metadata": {},
   "source": [
    "<h2>Lambda İfadeleri</h2>\n",
    "<p> <b>Lambda ifadeleri (expression)</b> fonksiyonlarımızı oluşturmak için python da bulunan pratik bir yöntemdir ve gerektiği yerlerde bu ifadeleri kullanabilliriz. Bu ifade şekli basit fonksiyonlar da kullanılabilir.</p>"
   ]
  },
  {
   "cell_type": "code",
   "execution_count": 47,
   "id": "45cfcdee",
   "metadata": {},
   "outputs": [
    {
     "name": "stdout",
     "output_type": "stream",
     "text": [
      "[6, 7, 8, 11, 12]\n"
     ]
    }
   ],
   "source": [
    "#daha önce öğrendiğimiz list comprehension yöntemini kullanalım.\n",
    "liste=[1,2,3,6,7]\n",
    "liste1=list()\n",
    "for i in liste:\n",
    "    liste1.append(i+5)\n",
    "print(liste1)"
   ]
  },
  {
   "cell_type": "code",
   "execution_count": 48,
   "id": "e03f8f09",
   "metadata": {
    "scrolled": true
   },
   "outputs": [
    {
     "name": "stdout",
     "output_type": "stream",
     "text": [
      "[0, 2, 4, 6, 8, 10, 12, 14, 16, 18, 20, 22, 24, 26, 28]\n"
     ]
    }
   ],
   "source": [
    "# range fonksiyonu kullanarak ve farklı bir yazım yapalım\n",
    "L=range(15)\n",
    "L1=[i*2 for i in L]\n",
    "print(L1)"
   ]
  },
  {
   "cell_type": "markdown",
   "id": "e18d370c",
   "metadata": {},
   "source": [
    "<p> şimdi de <b> lambda ifadesini</b> kullanarak birşeyler yazalım</p>\n",
    "<p><b>etiket = lambda parametre1,parametre2,... : işlem </b></p>"
   ]
  },
  {
   "cell_type": "code",
   "execution_count": 49,
   "id": "e99933f9",
   "metadata": {},
   "outputs": [
    {
     "name": "stdout",
     "output_type": "stream",
     "text": [
      "(6, 7, 6, 7, 6, 7, 6, 7, 6, 7)\n"
     ]
    }
   ],
   "source": [
    "# x,y 5 defa yazdıralım\n",
    "carp = lambda x,y : (x,y)*5\n",
    "print(carp(6,7))"
   ]
  },
  {
   "cell_type": "code",
   "execution_count": 50,
   "id": "36a531ae",
   "metadata": {},
   "outputs": [
    {
     "name": "stdout",
     "output_type": "stream",
     "text": [
      "45\n"
     ]
    }
   ],
   "source": [
    "# x,y değerlerini çarpalım.\n",
    "carpım=lambda x,y: x*y\n",
    "print(carpım(9,5))"
   ]
  },
  {
   "cell_type": "code",
   "execution_count": 51,
   "id": "d819d054",
   "metadata": {},
   "outputs": [
    {
     "name": "stdout",
     "output_type": "stream",
     "text": [
      "590\n"
     ]
    }
   ],
   "source": [
    "# x ve 546 değerlerini toplayalım\n",
    "toplam=lambda x:x+546\n",
    "print(toplam(44))"
   ]
  },
  {
   "cell_type": "code",
   "execution_count": 52,
   "id": "6b6878a5",
   "metadata": {},
   "outputs": [
    {
     "name": "stdout",
     "output_type": "stream",
     "text": [
      "(8, 9, 5, 8, 9, 5, 8, 9, 5)\n"
     ]
    }
   ],
   "source": [
    "# esnek sayı kullanalım\n",
    "toplam=lambda *x:x*3\n",
    "print(toplam(8,9,5))"
   ]
  },
  {
   "cell_type": "code",
   "execution_count": 53,
   "id": "20f5b318",
   "metadata": {},
   "outputs": [
    {
     "name": "stdout",
     "output_type": "stream",
     "text": [
      "16.666666666666668\n"
     ]
    }
   ],
   "source": [
    "#matematiksel bir işlemi gerçekleştiren basit fir fonksiyon yazalım\n",
    "işlem=lambda x,y,z:x**y/z\n",
    "print(işlem(10,2,6))"
   ]
  },
  {
   "cell_type": "code",
   "execution_count": 54,
   "id": "e678385a",
   "metadata": {},
   "outputs": [
    {
     "name": "stdout",
     "output_type": "stream",
     "text": [
      "uğululpot emritşileg mılızay\n"
     ]
    }
   ],
   "source": [
    "# strink bir ifade ile işlem gerçekleştirelim.\n",
    "terscevir=lambda s:s[::-1]\n",
    "print(terscevir(\"yazılım geliştirme topluluğu\"))"
   ]
  },
  {
   "cell_type": "code",
   "execution_count": 55,
   "id": "a23ede06",
   "metadata": {},
   "outputs": [
    {
     "name": "stdout",
     "output_type": "stream",
     "text": [
      "False\n",
      "True\n"
     ]
    }
   ],
   "source": [
    "#çift sayı bildiren fonksiyon\n",
    "cift_sayı=lambda a: a%2==0\n",
    "print(cift_sayı(65))\n",
    "print(cift_sayı(24))"
   ]
  },
  {
   "cell_type": "code",
   "execution_count": 19,
   "id": "ee7f947e",
   "metadata": {},
   "outputs": [
    {
     "name": "stdout",
     "output_type": "stream",
     "text": [
      "lütfen bir sayı giriniz: 45\n",
      "45 asal değildir\n",
      "lütfen bir sayı giriniz: 7\n",
      "7 asal sayıdır.\n",
      "lütfen bir sayı giriniz: 17\n",
      "17 asal sayıdır.\n",
      "lütfen bir sayı giriniz: 91\n",
      "91 asal değildir\n",
      "lütfen bir sayı giriniz: 93\n",
      "93 asal değildir\n",
      "lütfen bir sayı giriniz: 97\n",
      "97 asal sayıdır.\n",
      "lütfen bir sayı giriniz: ç\n"
     ]
    }
   ],
   "source": [
    "# bir sayının asal olup olmadığını bulan bir fonksiyon yapalım\n",
    "# asal sayı = eğer sayı sadece kendisine ve bir'e bölünüyorsa o sayı asal sayıdır.\n",
    "# en küçük asal sayı = 2\n",
    "\n",
    "def asal_sayı(x):\n",
    "    if x<2:\n",
    "        return False\n",
    "    elif x==2:\n",
    "        return True\n",
    "    else:\n",
    "        for i in range(2,x):\n",
    "            if x%i==0:\n",
    "                return False\n",
    "        return True\n",
    "while True:\n",
    "    x=input(\"lütfen bir sayı giriniz: \")\n",
    "    if x==\"ç\":\n",
    "        break\n",
    "    else:\n",
    "        x=int(x)\n",
    "        if(asal_sayı(x)):\n",
    "            print(x,\"asal sayıdır.\")\n",
    "        else:\n",
    "            print(x,\"asal değildir\")"
   ]
  },
  {
   "cell_type": "code",
   "execution_count": null,
   "id": "bb62ab15",
   "metadata": {},
   "outputs": [],
   "source": []
  },
  {
   "cell_type": "code",
   "execution_count": null,
   "id": "631dff9c",
   "metadata": {},
   "outputs": [],
   "source": []
  },
  {
   "cell_type": "code",
   "execution_count": null,
   "id": "a9657742",
   "metadata": {},
   "outputs": [],
   "source": []
  }
 ],
 "metadata": {
  "kernelspec": {
   "display_name": "Python 3 (ipykernel)",
   "language": "python",
   "name": "python3"
  },
  "language_info": {
   "codemirror_mode": {
    "name": "ipython",
    "version": 3
   },
   "file_extension": ".py",
   "mimetype": "text/x-python",
   "name": "python",
   "nbconvert_exporter": "python",
   "pygments_lexer": "ipython3",
   "version": "3.9.7"
  }
 },
 "nbformat": 4,
 "nbformat_minor": 5
}
