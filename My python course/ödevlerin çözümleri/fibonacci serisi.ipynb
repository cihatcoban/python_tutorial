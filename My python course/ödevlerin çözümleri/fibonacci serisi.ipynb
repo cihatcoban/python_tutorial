{
 "cells": [
  {
   "cell_type": "code",
   "execution_count": 4,
   "id": "24a7a802",
   "metadata": {},
   "outputs": [
    {
     "name": "stdout",
     "output_type": "stream",
     "text": [
      "***********************FİBONACCİ SERİSİ***********************\n",
      "**********çıkmak için q basın********** \n",
      "lütfen bir sayı giriniz: q\n",
      "program sonlanıyor....\n"
     ]
    }
   ],
   "source": [
    "print(\"\"\"***********************FİBONACCİ SERİSİ***********************\n",
    "**********çıkmak için q basın********** \"\"\")\n",
    "a=1\n",
    "b=1\n",
    "fibonacci = [a,b]\n",
    "while True:\n",
    "    x=input(\"lütfen bir sayı giriniz: \")\n",
    "    if x==\"q\":\n",
    "        print(\"program sonlanıyor....\")\n",
    "        break\n",
    "    else:\n",
    "        x=int(x)\n",
    "        for i in range(x+1):\n",
    "            a,b=b,a+b\n",
    "            fibonacci.append(b)\n",
    "        print(\"fibonacci serisi: \",fibonacci)"
   ]
  },
  {
   "cell_type": "code",
   "execution_count": 1,
   "id": "d3bbb111",
   "metadata": {},
   "outputs": [
    {
     "name": "stdout",
     "output_type": "stream",
     "text": [
      "***********************FİBONACCİ SERİSİ***********************\n",
      "**********çıkmak için q basın********** \n",
      "fibonacci serisi:  [1, 1, 2]\n",
      "fibonacci serisi:  [1, 1, 2, 3]\n",
      "fibonacci serisi:  [1, 1, 2, 3, 5]\n",
      "fibonacci serisi:  [1, 1, 2, 3, 5, 8]\n",
      "fibonacci serisi:  [1, 1, 2, 3, 5, 8, 13]\n",
      "fibonacci serisi:  [1, 1, 2, 3, 5, 8, 13, 21]\n",
      "fibonacci serisi:  [1, 1, 2, 3, 5, 8, 13, 21, 34]\n",
      "fibonacci serisi:  [1, 1, 2, 3, 5, 8, 13, 21, 34, 55]\n",
      "fibonacci serisi:  [1, 1, 2, 3, 5, 8, 13, 21, 34, 55, 89]\n",
      "fibonacci serisi:  [1, 1, 2, 3, 5, 8, 13, 21, 34, 55, 89, 144]\n",
      "fibonacci serisi:  [1, 1, 2, 3, 5, 8, 13, 21, 34, 55, 89, 144, 233]\n",
      "fibonacci serisi:  [1, 1, 2, 3, 5, 8, 13, 21, 34, 55, 89, 144, 233, 377]\n",
      "fibonacci serisi:  [1, 1, 2, 3, 5, 8, 13, 21, 34, 55, 89, 144, 233, 377, 610]\n",
      "fibonacci serisi:  [1, 1, 2, 3, 5, 8, 13, 21, 34, 55, 89, 144, 233, 377, 610, 987]\n",
      "fibonacci serisi:  [1, 1, 2, 3, 5, 8, 13, 21, 34, 55, 89, 144, 233, 377, 610, 987, 1597]\n",
      "fibonacci serisi:  [1, 1, 2, 3, 5, 8, 13, 21, 34, 55, 89, 144, 233, 377, 610, 987, 1597, 2584]\n",
      "fibonacci serisi:  [1, 1, 2, 3, 5, 8, 13, 21, 34, 55, 89, 144, 233, 377, 610, 987, 1597, 2584, 4181]\n",
      "fibonacci serisi:  [1, 1, 2, 3, 5, 8, 13, 21, 34, 55, 89, 144, 233, 377, 610, 987, 1597, 2584, 4181, 6765]\n"
     ]
    }
   ],
   "source": [
    "print(\"\"\"***********************FİBONACCİ SERİSİ***********************\n",
    "**********çıkmak için q basın********** \"\"\")\n",
    "a=1\n",
    "b=1\n",
    "fibonacci = [a,b]\n",
    "for i in range(18):\n",
    "    a,b=b,a+b\n",
    "    fibonacci.append(b)\n",
    "    print(\"fibonacci serisi: \",fibonacci)\n",
    "            \n",
    "            \n",
    "            \n",
    "\n",
    "    "
   ]
  },
  {
   "cell_type": "code",
   "execution_count": null,
   "id": "91f16411",
   "metadata": {},
   "outputs": [],
   "source": []
  }
 ],
 "metadata": {
  "kernelspec": {
   "display_name": "Python 3 (ipykernel)",
   "language": "python",
   "name": "python3"
  },
  "language_info": {
   "codemirror_mode": {
    "name": "ipython",
    "version": 3
   },
   "file_extension": ".py",
   "mimetype": "text/x-python",
   "name": "python",
   "nbconvert_exporter": "python",
   "pygments_lexer": "ipython3",
   "version": "3.9.7"
  }
 },
 "nbformat": 4,
 "nbformat_minor": 5
}
