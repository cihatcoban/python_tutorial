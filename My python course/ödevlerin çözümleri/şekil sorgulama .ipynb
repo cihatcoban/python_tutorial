{
 "cells": [
  {
   "cell_type": "code",
   "execution_count": 3,
   "id": "97d3e0bb",
   "metadata": {},
   "outputs": [
    {
     "name": "stdout",
     "output_type": "stream",
     "text": [
      "***************************\n",
      "      şekil sorgulama ekranı\n",
      "      **********\n",
      "      dörtgen\n",
      "      üçgen\n",
      "      ***************************\n",
      "lütfen sorgulatmak istediğiniz şekli yazınızdörtgen\n",
      "lütfen kenarları sırasıyla giriniz\n",
      "1.kenar: 4\n",
      "2.kenar: 6\n",
      "3.kenar: 8\n",
      "4.kenar: 2\n",
      "dörtgen\n",
      "geçersiz şekil\n"
     ]
    }
   ],
   "source": [
    "print(\"\"\"***************************\n",
    "      şekil sorgulama ekranı\n",
    "      **********\n",
    "      dörtgen\n",
    "      üçgen\n",
    "      ***************************\"\"\")\n",
    "şekil=input(\"lütfen sorgulatmak istediğiniz şekli yazınız\")\n",
    "if şekil==\"dörtgen\":\n",
    "    print(\"lütfen kenarları sırasıyla giriniz\")\n",
    "    a=float(input(\"1.kenar: \"))\n",
    "    b=float(input(\"2.kenar: \"))\n",
    "    c=float(input(\"3.kenar: \"))\n",
    "    d=float(input(\"4.kenar: \"))\n",
    "    if a==b and a==c and a==d:\n",
    "        print(\"kare\")\n",
    "    elif a==c and b==d:\n",
    "        print(\"dikdörtgen\")\n",
    "    else:\n",
    "        print(\"dörtgen\")\n",
    "if şekil==\"üçgen\":\n",
    "    print(\"lütfen kenarları sırasıyla giriniz\")\n",
    "    a=float(input(\"1.kenar: \"))\n",
    "    b=float(input(\"2.kenar: \"))\n",
    "    c=float(input(\"3.kenar: \"))\n",
    "    if(abs(a+b)>c and abs(a+c)>b and abs(b+c)>a):\n",
    "        if a==b and a==c:\n",
    "            print(\"eşkenar üçgen\")\n",
    "        elif ((a==b and a!=c)or (a!=b and a==c)or(a!=b and b==c)):\n",
    "            print(\"ikiz kenar üçgen\")\n",
    "        else:\n",
    "                print(\"çeşitkenar üçgen\")\n",
    "    else:\n",
    "            print(\"bir şekil ifade etmiyor\")\n",
    "else:\n",
    "    print(\"geçersiz şekil\")\n",
    "        \n",
    "   \n",
    "    \n",
    "\n",
    "\n",
    "\n",
    "\n",
    "\n",
    "\n"
   ]
  }
 ],
 "metadata": {
  "kernelspec": {
   "display_name": "Python 3 (ipykernel)",
   "language": "python",
   "name": "python3"
  },
  "language_info": {
   "codemirror_mode": {
    "name": "ipython",
    "version": 3
   },
   "file_extension": ".py",
   "mimetype": "text/x-python",
   "name": "python",
   "nbconvert_exporter": "python",
   "pygments_lexer": "ipython3",
   "version": "3.9.7"
  }
 },
 "nbformat": 4,
 "nbformat_minor": 5
}
