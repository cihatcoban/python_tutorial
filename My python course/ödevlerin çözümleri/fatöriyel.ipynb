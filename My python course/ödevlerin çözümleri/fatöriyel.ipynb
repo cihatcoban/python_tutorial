{
 "cells": [
  {
   "cell_type": "code",
   "execution_count": 1,
   "id": "afa0f811",
   "metadata": {},
   "outputs": [],
   "source": [
    "#fonksiyon yardımıyla çözelim\n",
    "def faktoriyel(sayı):\n",
    "    faktoriyel=1\n",
    "    if(sayı==0 or sayı==1):\n",
    "        print(\"faktöriyel: \",faktoriyel)\n",
    "    else:\n",
    "        while(sayı>=1):\n",
    "            faktoriyel*=sayı\n",
    "            sayı-=1\n",
    "        print(\"faktoriyel: \",faktoriyel)\n"
   ]
  },
  {
   "cell_type": "code",
   "execution_count": 2,
   "id": "7458724f",
   "metadata": {},
   "outputs": [
    {
     "name": "stdout",
     "output_type": "stream",
     "text": [
      "faktoriyel:  5040\n"
     ]
    }
   ],
   "source": [
    "faktoriyel(7)"
   ]
  },
  {
   "cell_type": "code",
   "execution_count": 1,
   "id": "70436952",
   "metadata": {},
   "outputs": [
    {
     "name": "stdout",
     "output_type": "stream",
     "text": [
      "\n",
      "*************************\n",
      "FAKTÖRİYEL BULMA \n",
      "*************************\n",
      "ÇIKMAK İÇİN Ç BASIN\n",
      "\n",
      "lütfen bir sayı giriniz: 5\n",
      "faktöriyel 120\n",
      "lütfen bir sayı giriniz: 7\n",
      "faktöriyel 5040\n",
      "lütfen bir sayı giriniz: 3\n",
      "faktöriyel 6\n",
      "lütfen bir sayı giriniz: ç\n",
      "oyun bitti.....\n"
     ]
    }
   ],
   "source": [
    "#while döngüsü yardımıyla çözelim\n",
    "\n",
    "print(\"\"\"\n",
    "*************************\n",
    "FAKTÖRİYEL BULMA \n",
    "*************************\n",
    "ÇIKMAK İÇİN Ç BASIN\n",
    "\"\"\")\n",
    "while True:\n",
    "    a=int(input(\"lütfen bir sayı giriniz: \"))\n",
    "    if a==\"ç\":\n",
    "        print(\"oyun bitti.....\")\n",
    "        break\n",
    "    else:\n",
    "        a=int(a)\n",
    "        b=1\n",
    "        for i in range(1,a+1):\n",
    "            b*=i\n",
    "        print(\"faktöriyel\",b)\n",
    "            \n",
    "        "
   ]
  },
  {
   "cell_type": "code",
   "execution_count": null,
   "id": "41306765",
   "metadata": {},
   "outputs": [],
   "source": []
  }
 ],
 "metadata": {
  "kernelspec": {
   "display_name": "Python 3 (ipykernel)",
   "language": "python",
   "name": "python3"
  },
  "language_info": {
   "codemirror_mode": {
    "name": "ipython",
    "version": 3
   },
   "file_extension": ".py",
   "mimetype": "text/x-python",
   "name": "python",
   "nbconvert_exporter": "python",
   "pygments_lexer": "ipython3",
   "version": "3.9.7"
  }
 },
 "nbformat": 4,
 "nbformat_minor": 5
}
