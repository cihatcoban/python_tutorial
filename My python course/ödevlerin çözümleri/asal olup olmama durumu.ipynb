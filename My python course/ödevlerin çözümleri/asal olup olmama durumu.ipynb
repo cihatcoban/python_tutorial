{
 "cells": [
  {
   "cell_type": "code",
   "execution_count": null,
   "id": "4493aad5",
   "metadata": {},
   "outputs": [],
   "source": []
  },
  {
   "cell_type": "code",
   "execution_count": 2,
   "id": "a0cd4d35",
   "metadata": {},
   "outputs": [
    {
     "name": "stdout",
     "output_type": "stream",
     "text": [
      "lütfen bir pozitif tamsayı giriniz 7\n",
      "7 asaldır\n",
      "lütfen bir pozitif tamsayı giriniz 5\n",
      "5 asaldır\n",
      "lütfen bir pozitif tamsayı giriniz 2\n",
      "2 asaldır\n",
      "lütfen bir pozitif tamsayı giriniz 1\n",
      "1 asal değildir.\n",
      "lütfen bir pozitif tamsayı giriniz 0\n",
      "0 asal değildir.\n",
      "lütfen bir pozitif tamsayı giriniz -8\n",
      "-8 asal değildir.\n",
      "lütfen bir pozitif tamsayı giriniz 98\n",
      "98 asal değildir.\n",
      "lütfen bir pozitif tamsayı giriniz 97\n",
      "97 asaldır\n",
      "lütfen bir pozitif tamsayı giriniz q\n"
     ]
    }
   ],
   "source": [
    "# Asal sayılar sadece 1'e ve kendisine tam bölünebilen sayılardır\n",
    "def asal(i):\n",
    "    if (i<=1):\n",
    "        return False\n",
    "    elif (i==2):\n",
    "        return True\n",
    "    else:\n",
    "        for j in range(2,i):\n",
    "             if(i%j==0):\n",
    "                    return False\n",
    "        return True\n",
    "while True:\n",
    "    i=input(\"lütfen bir pozitif tamsayı giriniz \")\n",
    "    if(i==\"q\"):\n",
    "        break\n",
    "    else:\n",
    "        i=int(i)\n",
    "        if(asal(i)):\n",
    "            print(i,\"asaldır\")\n",
    "        else:\n",
    "            print(i,\"asal değildir.\")"
   ]
  }
 ],
 "metadata": {
  "kernelspec": {
   "display_name": "Python 3 (ipykernel)",
   "language": "python",
   "name": "python3"
  },
  "language_info": {
   "codemirror_mode": {
    "name": "ipython",
    "version": 3
   },
   "file_extension": ".py",
   "mimetype": "text/x-python",
   "name": "python",
   "nbconvert_exporter": "python",
   "pygments_lexer": "ipython3",
   "version": "3.9.7"
  }
 },
 "nbformat": 4,
 "nbformat_minor": 5
}
