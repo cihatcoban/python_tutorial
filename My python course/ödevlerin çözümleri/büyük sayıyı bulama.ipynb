{
 "cells": [
  {
   "cell_type": "code",
   "execution_count": 1,
   "id": "5058064a",
   "metadata": {},
   "outputs": [
    {
     "name": "stdout",
     "output_type": "stream",
     "text": [
      "a: 5\n",
      "b: 78\n",
      "c: 14\n",
      "en büyük sayı 78.0\n"
     ]
    }
   ],
   "source": [
    "a=float(input(\"a: \"))\n",
    "b=float(input(\"b: \"))\n",
    "c=float(input(\"c: \"))\n",
    "if a>=b and a>=c:\n",
    "    print(\"en büyük sayı\",a)\n",
    "elif b>=c and b>=a:\n",
    "    print(\"en büyük sayı\",b)\n",
    "    \n",
    "elif c>=a and c>=b:\n",
    "    print(\"en büyük sayı\",c)\n",
    "else:\n",
    "    print(\"geçersiz işlem\")\n",
    "\n",
    "    \n",
    "    "
   ]
  }
 ],
 "metadata": {
  "kernelspec": {
   "display_name": "Python 3 (ipykernel)",
   "language": "python",
   "name": "python3"
  },
  "language_info": {
   "codemirror_mode": {
    "name": "ipython",
    "version": 3
   },
   "file_extension": ".py",
   "mimetype": "text/x-python",
   "name": "python",
   "nbconvert_exporter": "python",
   "pygments_lexer": "ipython3",
   "version": "3.9.7"
  }
 },
 "nbformat": 4,
 "nbformat_minor": 5
}
