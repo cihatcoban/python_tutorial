{
 "cells": [
  {
   "cell_type": "code",
   "execution_count": 1,
   "id": "0ac25bf1",
   "metadata": {},
   "outputs": [],
   "source": [
    "# Q4\n",
    "\n",
    "import math\n",
    "def func(x):\n",
    "    return x * math.cos(x)\n",
    "\n",
    "def simpsons(lowerLimit, upperLimit, n):\n",
    "  \n",
    "    h = (upperLimit - lowerLimit) / n\n",
    "    x = []\n",
    "    f_of_x = []\n",
    "\n",
    "    i = 0\n",
    "    while i <= n:\n",
    "        x.append(lowerLimit + i * h)\n",
    "        f_of_x.append(func(x[i]))\n",
    "        i =++ 1\n",
    "\n",
    "    result = 0\n",
    "    i = 0\n",
    "    while i <= n:\n",
    "        if i == 0 or i == n:\n",
    "            result += f_of_x[i]\n",
    "        elif i % 2 != 0:\n",
    "            result += 4 * f_of_x[i]\n",
    "        else:\n",
    "            result += 2 * f_of_x[i]\n",
    "        i =++ 1\n",
    "    result = result * (h / 3)\n",
    "    return result\n",
    "lowerLimit = 0\n",
    "upperLimit = 3.14159"
   ]
  },
  {
   "cell_type": "code",
   "execution_count": null,
   "id": "6bddc38f",
   "metadata": {},
   "outputs": [],
   "source": [
    "def func(x):\n",
    "    return x**2\n",
    "def simpsons(lowerLimit,upperLimit,n):\n",
    "    h=(upperLimit - lowerLimit) /n\n",
    "    x=[]\n",
    "    w=[]\n",
    "    \n",
    "    i=0\n",
    "    while i <= n:\n",
    "        x.append(lowerLimit + i*h)\n",
    "        w.append(func(x[i]))\n",
    "        i +=1\n",
    "        \n",
    "    result = 0\n",
    "    i = 0\n",
    "    \n",
    "    while i<= n:\n",
    "        if (i==0 or i==n):\n",
    "            result +=w[i]\n",
    "        elif(i%2 != 0):\n",
    "            result+=4*w[i]\n",
    "        else:\n",
    "            result +=2*w[i]\n",
    "        i+=1\n",
    "    result =result*(w[i])\n",
    "    "
   ]
  },
  {
   "cell_type": "code",
   "execution_count": null,
   "id": "8648362f",
   "metadata": {},
   "outputs": [],
   "source": []
  }
 ],
 "metadata": {
  "kernelspec": {
   "display_name": "Python 3 (ipykernel)",
   "language": "python",
   "name": "python3"
  },
  "language_info": {
   "codemirror_mode": {
    "name": "ipython",
    "version": 3
   },
   "file_extension": ".py",
   "mimetype": "text/x-python",
   "name": "python",
   "nbconvert_exporter": "python",
   "pygments_lexer": "ipython3",
   "version": "3.9.7"
  }
 },
 "nbformat": 4,
 "nbformat_minor": 5
}
