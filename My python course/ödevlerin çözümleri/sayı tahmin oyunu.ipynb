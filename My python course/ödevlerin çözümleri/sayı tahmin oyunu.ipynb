{
 "cells": [
  {
   "cell_type": "code",
   "execution_count": 11,
   "id": "3ef03ee3",
   "metadata": {},
   "outputs": [
    {
     "name": "stdout",
     "output_type": "stream",
     "text": [
      "\n",
      "******************************\n",
      "sayı tahmin oyunu\n",
      "1 ile 1000 arasında\n",
      "******************************\n",
      "\n",
      "tahmininiz: 500\n",
      "karşılaştırılıyor\n",
      "daha küçük\n",
      "tahmininiz: 250\n",
      "karşılaştırılıyor...\n",
      "daha büyük\n",
      "tahmininiz: 375\n",
      "karşılaştırılıyor...\n",
      "daha büyük\n",
      "tahmininiz: 438\n",
      "karşılaştırılıyor...\n",
      "daha büyük\n",
      "tahmininiz: 469\n",
      "karşılaştırılıyor...\n",
      "daha büyük\n",
      "tahmininiz: 484\n",
      "karşılaştırılıyor...\n",
      "daha büyük\n",
      "tahmininiz: 492\n",
      "karşılaştırılıyor\n",
      "daha küçük\n",
      "tahmininiz: 488\n",
      "karşılaştırılıyor...\n",
      "daha büyük\n",
      "tahmininiz: 490\n",
      "karşılaştırılıyor\n",
      "daha küçük\n",
      "tahmininiz: 489\n",
      "karşılaştırılıyor\n",
      "tebrikler 489\n"
     ]
    }
   ],
   "source": [
    "import random\n",
    "import time\n",
    "\n",
    "print(\"\"\"\n",
    "******************************\n",
    "sayı tahmin oyunu\n",
    "1 ile 1000 arasında\n",
    "******************************\n",
    "\"\"\")\n",
    "rastgele_sayı=random.randint(1,1000)\n",
    "tahmin_hakkı=10\n",
    "while True:\n",
    "    tahmin=int(input(\"tahmininiz: \"))\n",
    "    \n",
    "    if(tahmin<rastgele_sayı):\n",
    "        print(\"karşılaştırılıyor...\")\n",
    "        time.sleep(1)\n",
    "        \n",
    "        print(\"daha büyük\")\n",
    "        \n",
    "        tahmin_hakkı-=1\n",
    "    elif(tahmin>rastgele_sayı):\n",
    "        print(\"karşılaştırılıyor\")\n",
    "        time.sleep(1)\n",
    "        \n",
    "        print(\"daha küçük\")\n",
    "        tahmin_hakkı-=1\n",
    "    else:\n",
    "        print(\"karşılaştırılıyor\")\n",
    "        time.sleep(1)\n",
    "        print(\"tebrikler\",rastgele_sayı)\n",
    "        break\n",
    "    if(tahmin_hakkı==0):\n",
    "        print(\"tahmin hakkınız bitti :(\")\n",
    "        print(\"cevap:\",rastgele_sayı)\n",
    "        break\n",
    "        "
   ]
  },
  {
   "cell_type": "code",
   "execution_count": null,
   "id": "88daac91",
   "metadata": {},
   "outputs": [],
   "source": []
  }
 ],
 "metadata": {
  "kernelspec": {
   "display_name": "Python 3 (ipykernel)",
   "language": "python",
   "name": "python3"
  },
  "language_info": {
   "codemirror_mode": {
    "name": "ipython",
    "version": 3
   },
   "file_extension": ".py",
   "mimetype": "text/x-python",
   "name": "python",
   "nbconvert_exporter": "python",
   "pygments_lexer": "ipython3",
   "version": "3.9.7"
  }
 },
 "nbformat": 4,
 "nbformat_minor": 5
}
