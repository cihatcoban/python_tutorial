{
 "cells": [
  {
   "cell_type": "code",
   "execution_count": 3,
   "id": "2f24c40e",
   "metadata": {},
   "outputs": [
    {
     "name": "stdout",
     "output_type": "stream",
     "text": [
      "\n",
      "*******************************\n",
      "HESAP MAKİNESİ\n",
      "*******************\n",
      "1.TOPLAMA İŞLEMİ\n",
      "2.ÇIKARMA İŞLEMİ\n",
      "3.ÇARPMA İŞLEMİ\n",
      "4.BÖLME İŞLEMİ\n",
      "5.ÜSTEL İFADELER\n",
      "********************************\n",
      "\n",
      "lütfen 1. sayıyı giriniz: 44\n",
      "lütfen 2. sayıyı giriniz: 4\n",
      "lütfen bir işlem seçiniz4\n",
      "44.0/4.0=11.0\n"
     ]
    }
   ],
   "source": [
    "print(\"\"\"\n",
    "*******************************\n",
    "HESAP MAKİNESİ\n",
    "*******************\n",
    "1.TOPLAMA İŞLEMİ\n",
    "2.ÇIKARMA İŞLEMİ\n",
    "3.ÇARPMA İŞLEMİ\n",
    "4.BÖLME İŞLEMİ\n",
    "5.ÜSTEL İFADELER\n",
    "********************************\n",
    "\"\"\")\n",
    "a=float(input(\"lütfen 1. sayıyı giriniz: \"))\n",
    "b=float(input(\"lütfen 2. sayıyı giriniz: \"))\n",
    "\n",
    "işlem=input(\"lütfen bir işlem seçiniz\")\n",
    "if işlem==\"1\":\n",
    "    print(\"{}+{}={}\".format(a,b,a+b))\n",
    "elif işlem==\"2\":\n",
    "    print(\"{}-{}={}\".format(a,b,a-b))\n",
    "elif işlem==\"3\":\n",
    "    print(\"{}*{}={}\".format(a,b,a*b))\n",
    "elif işlem==\"4\":\n",
    "    print(\"{}/{}={}\".format(a,b,a/b))\n",
    "elif işlem==\"5\":\n",
    "    print(\"{}^{}={}\".format(a,b,a**b))\n",
    "else:\n",
    "    print(\"geçersiz bir işlem yaptınız\")"
   ]
  }
 ],
 "metadata": {
  "kernelspec": {
   "display_name": "Python 3 (ipykernel)",
   "language": "python",
   "name": "python3"
  },
  "language_info": {
   "codemirror_mode": {
    "name": "ipython",
    "version": 3
   },
   "file_extension": ".py",
   "mimetype": "text/x-python",
   "name": "python",
   "nbconvert_exporter": "python",
   "pygments_lexer": "ipython3",
   "version": "3.9.7"
  }
 },
 "nbformat": 4,
 "nbformat_minor": 5
}
