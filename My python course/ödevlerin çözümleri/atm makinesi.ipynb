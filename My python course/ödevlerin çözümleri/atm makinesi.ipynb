{
 "cells": [
  {
   "cell_type": "code",
   "execution_count": null,
   "id": "bcecec18",
   "metadata": {},
   "outputs": [
    {
     "name": "stdout",
     "output_type": "stream",
     "text": [
      "\n",
      "*****************************\n",
      "          ATM \n",
      "*****************************\n",
      "İşlemler\n",
      "*********\n",
      "1.Para yatırma\n",
      "2.Para çekme\n",
      "3.Fatura ödeme\n",
      " a=\"Elektrik Faturası\"\n",
      " b=\"Su Faturası\"\n",
      " c=\"Doğal Gaz Faturası\"\n",
      " d=\"GSM & TV Faturası\"\n",
      "4.Bakiye sorgulama\n",
      "5.Para tranferi\n",
      " x=\"Hesaplarım Arası\"\n",
      " y=\"EFT\"\n",
      "6.Çıkış\n",
      "*****************************\n",
      "\n"
     ]
    },
    {
     "name": "stdin",
     "output_type": "stream",
     "text": [
      "Lütfen yapmak istediğiniz işlem numarasını giriniz:  1\n"
     ]
    },
    {
     "name": "stdout",
     "output_type": "stream",
     "text": [
      "Lütfen parayı ekranda görüldüğü gibi yerleştiriniz\n"
     ]
    },
    {
     "name": "stdin",
     "output_type": "stream",
     "text": [
      "Eklemek istediğiniz tutar:  1500\n"
     ]
    },
    {
     "name": "stdout",
     "output_type": "stream",
     "text": [
      "Eklenen Miktar: 1500 Güncel bakiye :11500 \n"
     ]
    },
    {
     "name": "stdin",
     "output_type": "stream",
     "text": [
      "Lütfen yapmak istediğiniz işlem numarasını giriniz:  2\n",
      "Lütfen çekmek istediğiniz tutarı giriniz:  12500\n"
     ]
    },
    {
     "name": "stdout",
     "output_type": "stream",
     "text": [
      "Çekilen Miktar: 12500  Kalan Bakiye: -1000 \n",
      "Lütfen Bakiyenizi Aşmayacak Şekilde Tuşlama Yapınız!\n"
     ]
    }
   ],
   "source": [
    "print(\"\"\"\n",
    "*****************************\n",
    "          ATM \n",
    "*****************************\n",
    "İşlemler\n",
    "*********\n",
    "1.Para yatırma\n",
    "2.Para çekme\n",
    "3.Fatura ödeme\n",
    " a=\"Elektrik Faturası\"\n",
    " b=\"Su Faturası\"\n",
    " c=\"Doğal Gaz Faturası\"\n",
    " d=\"GSM & TV Faturası\"\n",
    "4.Bakiye sorgulama\n",
    "5.Para tranferi\n",
    " x=\"Hesaplarım Arası\"\n",
    " y=\"EFT\"\n",
    "6.Çıkış\n",
    "*****************************\n",
    "\"\"\")\n",
    "bakiye=10000\n",
    "while True:\n",
    "    işlem=input(\"Lütfen yapmak istediğiniz işlem numarasını giriniz: \")\n",
    "    if işlem==\"6\":\n",
    "        print(\"Yine Bekleriz...\")\n",
    "        break\n",
    "    elif işlem==\"1\":\n",
    "        print(\"Lütfen parayı ekranda görüldüğü gibi yerleştiriniz\")\n",
    "        ekle=int(input(\"Eklemek istediğiniz tutar: \"))\n",
    "        bakiye+=ekle\n",
    "        print(\"Eklenen Miktar: {} Güncel bakiye :{} \".format(ekle,bakiye))\n",
    "        if ekle<0:\n",
    "                print(\"Lütfen Geçerli Bir İşlem Yapınız\")\n",
    "    elif işlem ==\"2\":\n",
    "        çekme=int(input(\"Lütfen çekmek istediğiniz tutarı giriniz: \"))\n",
    "        bakiye-=çekme\n",
    "        print(\"Çekilen Miktar: {}  Kalan Bakiye: {} \".format(çekme,bakiye))\n",
    "        if bakiye<0:\n",
    "                print(\"Lütfen Bakiyenizi Aşmayacak Şekilde Tuşlama Yapınız!\")\n",
    "        elif çekme<0:\n",
    "                print(\"Lütfen Geçerli Bir İşlem Yapınız\")\n",
    "    elif işlem==\"3\":\n",
    "        a=\"Elektrik Faturası\"\n",
    "        b=\"Su Faturası\"\n",
    "        c=\"Doğal Gaz Faturası\"\n",
    "        d=\"GSM & TV Faturası\"\n",
    "        fatura=input(\"Lütfen ödemek istediğiniz bir faturayı seçiniz: \")\n",
    "        ödeme=int(input(\"Ödeme tutarını giriniz: \"))\n",
    "        bakiye-=ödeme\n",
    "        print(\"Ödenen Miktar: {}  Kalan Bakiye: {}\".format(ödeme,bakiye))\n",
    "        if bakiye<0:\n",
    "                print(\"Lütfen Bakiyenizi Aşmayacak Şekilde Tuşlama Yapınız!\")\n",
    "        elif ödeme<0:\n",
    "                print(\"Lütfen Geçerli Bir İşlem Yapınız\")\n",
    "    elif işlem==\"4\":\n",
    "        print(\"Güncel Bakiyeniz: \",bakiye)\n",
    "    elif işlem==\"5\":\n",
    "        x=\"Hesaplarım Arası\"\n",
    "        y=\"EFT\"\n",
    "        seçenek=input(\"Yapacağınız işlemi seçiniz: \")\n",
    "        if seçenek==\"Hesaplarım Arası\":\n",
    "            virman=int(input(\"Göndereceğiniz tutarı giriniz: \"))\n",
    "            print(\"Gönderilen Bakiye: {}  Bu Hesapta Kalan Bakiye: {} = Toplam Bakiye: {}\".format(virman,(bakiye-virman),bakiye))\n",
    "            if virman>bakiye:\n",
    "                print(\"Lütfen Bakiyenizi Aşmayacak Şekilde Tuşlama Yapınız!\")\n",
    "            elif virman<0:\n",
    "                print(\"Lütfen Geçerli Bir İşlem Yapınız\")\n",
    "        elif seçenek==\"EFT\":\n",
    "            q=input(\"IBAN: \")\n",
    "            w=input(\"Kart Sahibi: \")\n",
    "            s=int(input(\"Göndereceğiniz Tutar: \"))\n",
    "            bakiye-=s\n",
    "            print(\"Dekont\\n IBN: {} Kart Sahibi: {} Gönderilen Tutar: {}\".format(q,w,s))\n",
    "            print(\"Güncel Bakiye: \",bakiye)\n",
    "            if bakiye<0:\n",
    "                print(\"Lütfen Bakiyenizi Aşmayacak Şekilde Tuşlama Yapınız!\")\n",
    "            elif s<0:\n",
    "                print(\"Lütfen Geçerli Bir İşlem Yapınız\")\n",
    "        else:\n",
    "            print(\"Hatalı Bir Tuşlama Yaptınız!\")\n",
    "    else:\n",
    "        print(\"Hatalı Bir Tuşlama Yaptınız!\")\n",
    "        \n",
    "        \n",
    "        \n",
    "        \n",
    "    \n"
   ]
  },
  {
   "cell_type": "code",
   "execution_count": null,
   "id": "a48db4f9",
   "metadata": {},
   "outputs": [],
   "source": []
  }
 ],
 "metadata": {
  "kernelspec": {
   "display_name": "Python 3 (ipykernel)",
   "language": "python",
   "name": "python3"
  },
  "language_info": {
   "codemirror_mode": {
    "name": "ipython",
    "version": 3
   },
   "file_extension": ".py",
   "mimetype": "text/x-python",
   "name": "python",
   "nbconvert_exporter": "python",
   "pygments_lexer": "ipython3",
   "version": "3.9.7"
  }
 },
 "nbformat": 4,
 "nbformat_minor": 5
}
