{
 "cells": [
  {
   "cell_type": "code",
   "execution_count": 2,
   "id": "55dae18f",
   "metadata": {},
   "outputs": [
    {
     "name": "stdout",
     "output_type": "stream",
     "text": [
      "\n",
      "**************************************\n",
      "\n",
      "gelişmiş giriş\n",
      "\n",
      "\n",
      "**************************************\n",
      "\n",
      "\n",
      "\n",
      "user: ahmet\n",
      "pasword: hanmkmd\n",
      "try again user and pasword: \n",
      "user: hjdkxmö\n",
      "pasword: gkjdxmö\n",
      "try again user and pasword: \n",
      "user: gghkad\n",
      "pasword: gnkjshu\n",
      "try again user and pasword: \n",
      "please try again last 30 minute\n"
     ]
    }
   ],
   "source": [
    "print(\"\"\"\n",
    "**************************************\n",
    "\n",
    "gelişmiş giriş\n",
    "\n",
    "\n",
    "**************************************\n",
    "\n",
    "\n",
    "\"\"\")\n",
    "user=\"cihat\"\n",
    "pasword=\"çoban\"\n",
    "i=3\n",
    "while True:\n",
    "    user=input(\"user: \")\n",
    "    pasword=input(\"pasword: \")\n",
    "    if (user==\"cihat\"and pasword!=\"çoban\"):\n",
    "        print(\"try again pasword: \")\n",
    "        i-=1\n",
    "    elif (user!=\"cihat\"and pasword==\"çoban\"):\n",
    "        print(\"try again user: \")\n",
    "        i-=1\n",
    "    elif (user!=\"cihat\"and pasword!=\"çoban\"):\n",
    "        print(\"try again user and pasword: \")\n",
    "        i-=1\n",
    "    else:\n",
    "        print(\"you are well come\")\n",
    "        break\n",
    "    if i==0:\n",
    "        print(\"please try again last 30 minute\")\n",
    "        break\n",
    "        \n",
    "    \n",
    "        \n",
    "        "
   ]
  },
  {
   "cell_type": "code",
   "execution_count": null,
   "id": "ea0458f3",
   "metadata": {},
   "outputs": [],
   "source": []
  }
 ],
 "metadata": {
  "kernelspec": {
   "display_name": "Python 3 (ipykernel)",
   "language": "python",
   "name": "python3"
  },
  "language_info": {
   "codemirror_mode": {
    "name": "ipython",
    "version": 3
   },
   "file_extension": ".py",
   "mimetype": "text/x-python",
   "name": "python",
   "nbconvert_exporter": "python",
   "pygments_lexer": "ipython3",
   "version": "3.9.7"
  }
 },
 "nbformat": 4,
 "nbformat_minor": 5
}
