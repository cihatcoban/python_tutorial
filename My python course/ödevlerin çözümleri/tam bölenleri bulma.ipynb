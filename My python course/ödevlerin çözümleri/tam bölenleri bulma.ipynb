{
 "cells": [
  {
   "cell_type": "code",
   "execution_count": 2,
   "id": "33e60491",
   "metadata": {},
   "outputs": [
    {
     "name": "stdout",
     "output_type": "stream",
     "text": [
      "sayı: 28\n",
      "tam bölenler:  [2, 4, 7, 14, 28]\n",
      "sayı: 17\n",
      "tam bölenler:  [17]\n",
      "sayı: 98\n",
      "tam bölenler:  [2, 7, 14, 49, 98]\n",
      "sayı: 48\n",
      "tam bölenler:  [2, 3, 4, 6, 8, 12, 16, 24, 48]\n",
      "sayı: 100\n",
      "tam bölenler:  [2, 4, 5, 10, 20, 25, 50, 100]\n",
      "sayı: 144\n",
      "tam bölenler:  [2, 3, 4, 6, 8, 9, 12, 16, 18, 24, 36, 48, 72, 144]\n",
      "sayı: 512\n",
      "tam bölenler:  [2, 4, 8, 16, 32, 64, 128, 256, 512]\n",
      "sayı: 720\n",
      "tam bölenler:  [2, 3, 4, 5, 6, 8, 9, 10, 12, 15, 16, 18, 20, 24, 30, 36, 40, 45, 48, 60, 72, 80, 90, 120, 144, 180, 240, 360, 720]\n",
      "sayı: k\n",
      "program sonlandırıldı\n"
     ]
    }
   ],
   "source": [
    "#tam bölenleri bulma\n",
    "def tam_bolenlerinini_bulma(x):\n",
    "    tam_bolenler=[]\n",
    "    for i in range(2,x+1):\n",
    "        if(x%i==0):\n",
    "            tam_bolenler.append(i)\n",
    "    return tam_bolenler\n",
    "while True:\n",
    "    x=input(\"sayı: \")\n",
    "    if(x==\"k\"):\n",
    "        print(\"program sonlandırıldı\")\n",
    "        break\n",
    "    else:\n",
    "        x=int(x)\n",
    "        print(\"tam bölenler: \",tam_bolenlerinini_bulma(x))\n",
    "        "
   ]
  },
  {
   "cell_type": "code",
   "execution_count": null,
   "id": "f8582b9f-f190-41cc-9dc3-ea3d307349c4",
   "metadata": {},
   "outputs": [],
   "source": []
  }
 ],
 "metadata": {
  "kernelspec": {
   "display_name": "Python 3 (ipykernel)",
   "language": "python",
   "name": "python3"
  },
  "language_info": {
   "codemirror_mode": {
    "name": "ipython",
    "version": 3
   },
   "file_extension": ".py",
   "mimetype": "text/x-python",
   "name": "python",
   "nbconvert_exporter": "python",
   "pygments_lexer": "ipython3",
   "version": "3.9.7"
  }
 },
 "nbformat": 4,
 "nbformat_minor": 5
}
