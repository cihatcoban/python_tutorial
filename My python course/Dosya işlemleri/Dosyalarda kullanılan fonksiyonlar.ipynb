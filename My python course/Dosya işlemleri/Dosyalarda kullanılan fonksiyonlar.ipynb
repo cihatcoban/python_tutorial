{
 "cells": [
  {
   "cell_type": "markdown",
   "id": "69b5bbde",
   "metadata": {},
   "source": [
    "<h1>Dosyaları otomatik kapatma</h1>\n",
    "<p>programcı açtığı dosyayı kapatmayı zaman zaman unutabiliyor . Bundan dolayı 👇 metod ile dosyalarımızı açarsak python işimiz bitince kendisi bizim için kapatacaktır.\n",
    "    \n",
    "                with open(dosya_adı,kipi) as file:\n",
    "                    dosya işlemleri\n",
    "    \n",
    "haydi test edelim. </p>"
   ]
  },
  {
   "cell_type": "code",
   "execution_count": 1,
   "id": "801bc1c9",
   "metadata": {},
   "outputs": [
    {
     "name": "stdout",
     "output_type": "stream",
     "text": [
      "cihat çoban tarafından oluşturulmuştur.\n",
      "\n",
      "Olşturma amacı eğitim içeriği oluşturma ve anlatım kolaylığı sağlamaktır\n",
      "\n",
      "gördüğünüz üzere alt satıra geçtik\n"
     ]
    }
   ],
   "source": [
    "with open(\"ReadMe.txt\",\"r\",encoding=\"utf-8\") as file:\n",
    "    for i in file:\n",
    "        print(i)"
   ]
  },
  {
   "cell_type": "markdown",
   "id": "e7cca312",
   "metadata": {},
   "source": [
    "<h2>dosyaları ileri geri sarmak</h2>\n",
    "<p>Daha öne dosyalarımızın başından başlayıp sonuna kadar gidecek şekilde işlemleri gördük.\n",
    "    peki dosyanın içinde gezinmek istediğimizde ne yapacağız?\n",
    "    Bunun için <b>seek()</b> fonksiyonunu kallanırız.\n",
    "    Daha öncesinde dilerseniz nerdee olduğumuzu söyleyen <b>tell()</b> fonksiyonu görelim."
   ]
  },
  {
   "cell_type": "code",
   "execution_count": 2,
   "id": "7975c00d",
   "metadata": {},
   "outputs": [
    {
     "name": "stdout",
     "output_type": "stream",
     "text": [
      "0\n"
     ]
    }
   ],
   "source": [
    "with open(\"ReadMe.txt\",\"r\",encoding=\"utf-8\") as file:\n",
    "    print(file.tell())"
   ]
  },
  {
   "cell_type": "markdown",
   "id": "f21f16ac",
   "metadata": {},
   "source": [
    "<p> dosyanın 0. byte de olduğumuzu öğrendik peki 50. byte gitmek isteyelim.</p>"
   ]
  },
  {
   "cell_type": "code",
   "execution_count": 3,
   "id": "12667930",
   "metadata": {},
   "outputs": [
    {
     "name": "stdout",
     "output_type": "stream",
     "text": [
      "50\n"
     ]
    }
   ],
   "source": [
    "with open(\"ReadMe.txt\",\"r\",encoding=\"utf-8\") as file:\n",
    "    print(file.seek(50))"
   ]
  },
  {
   "cell_type": "code",
   "execution_count": 6,
   "id": "1298676b",
   "metadata": {},
   "outputs": [
    {
     "name": "stdout",
     "output_type": "stream",
     "text": [
      "ur.\n",
      "Olşturma amacı e\n"
     ]
    }
   ],
   "source": [
    "with open(\"ReadMe.txt\",\"r\",encoding=\"utf-8\") as file:\n",
    "    file.seek(40) #40. byte da geldik\n",
    "    print(file.read(20))# 20 bytelik alan okuduk"
   ]
  },
  {
   "cell_type": "code",
   "execution_count": null,
   "id": "59a31ce3",
   "metadata": {},
   "outputs": [],
   "source": []
  },
  {
   "cell_type": "code",
   "execution_count": null,
   "id": "7542e8a8",
   "metadata": {},
   "outputs": [],
   "source": []
  }
 ],
 "metadata": {
  "kernelspec": {
   "display_name": "Python 3 (ipykernel)",
   "language": "python",
   "name": "python3"
  },
  "language_info": {
   "codemirror_mode": {
    "name": "ipython",
    "version": 3
   },
   "file_extension": ".py",
   "mimetype": "text/x-python",
   "name": "python",
   "nbconvert_exporter": "python",
   "pygments_lexer": "ipython3",
   "version": "3.9.7"
  }
 },
 "nbformat": 4,
 "nbformat_minor": 5
}
