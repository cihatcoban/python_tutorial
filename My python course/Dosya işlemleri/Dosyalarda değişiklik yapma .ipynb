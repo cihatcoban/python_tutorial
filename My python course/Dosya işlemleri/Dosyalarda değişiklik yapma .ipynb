{
 "cells": [
  {
   "cell_type": "markdown",
   "id": "17b1d0bd",
   "metadata": {},
   "source": [
    "<h1>seek() ve write()</h1>\n",
    "<p>Eğer bir dosyanın belli bir yerine seek() fonk. ile gidip , write() fonk. kullanırsak ,yazdığımız değerler öncesinde bulunan değerlerin üzerine yazılacaktır. Bunun için dosyaları hem okuma hemde yazma işlemlerine izin veren <b>\"r+\"</b> kipini kullanacağız.</p>  "
   ]
  },
  {
   "cell_type": "code",
   "execution_count": 11,
   "id": "2f309286",
   "metadata": {},
   "outputs": [
    {
     "name": "stdout",
     "output_type": "stream",
     "text": [
      "cihat çoban beyefendi n oluşturulmuştur.\n",
      "Olşturma amacı eğitim içeriği oluşturma ve anlatım kolaylığı sağlamaktır\n",
      "gördüğünüz üzere alt satıra geçtik\n"
     ]
    }
   ],
   "source": [
    "with open(\"ReadMe.txt\",\"r+\",encoding=\"utf-8\") as file:\n",
    "    print(file.read())"
   ]
  },
  {
   "cell_type": "code",
   "execution_count": 12,
   "id": "71530276",
   "metadata": {},
   "outputs": [],
   "source": [
    "with open(\"ReadMe.txt\",\"r+\",encoding=\"utf-8\") as file:\n",
    "    file.seek(12)#11.byte\n",
    "    file.write(\" beyefendi \")"
   ]
  },
  {
   "cell_type": "code",
   "execution_count": 13,
   "id": "920ca167",
   "metadata": {},
   "outputs": [
    {
     "name": "stdout",
     "output_type": "stream",
     "text": [
      "cihat çoban beyefendi n oluşturulmuştur.\n",
      "Olşturma amacı eğitim içeriği oluşturma ve anlatım kolaylığı sağlamaktır\n",
      "gördüğünüz üzere alt satıra geçtik\n"
     ]
    }
   ],
   "source": [
    "with open(\"ReadMe.txt\",\"r+\",encoding=\"utf-8\") as file:\n",
    "    print(file.read())"
   ]
  },
  {
   "cell_type": "markdown",
   "id": "3f2c1f99",
   "metadata": {},
   "source": [
    "<h1>Dosyanın sonunda değişiklik yapmak</h1>\n",
    "<p>Dosyanın sonunda değişiklik yapmak için ,dosyamızı <b>\"a\"</b> kipiyle açalım ve sadece dosyanın sonuna <b>write()</b> ile ekleme yapalım.</p>"
   ]
  },
  {
   "cell_type": "code",
   "execution_count": 14,
   "id": "22fbe1fc",
   "metadata": {},
   "outputs": [],
   "source": [
    "with open(\"ReadMe.txt\",\"a\",encoding=\"utf-8\") as file:\n",
    "    file.write(\"Barış Alper Yılmaz\\n\")#append metoduyla imleci dosyanın sonuna götürüp ekledik"
   ]
  },
  {
   "cell_type": "code",
   "execution_count": 17,
   "id": "ba975cc0",
   "metadata": {},
   "outputs": [
    {
     "name": "stdout",
     "output_type": "stream",
     "text": [
      "Fernando Muslera\n",
      "Sacha Boey\n",
      "Victor Nelsson\n",
      "Abdülkerim Bardakci\n",
      "Sam Adekugbe\n",
      "Lucas Torreira\n",
      "Sérgio Oliveira\n",
      "Nicolò Zaniolo\n",
      "Dries Mertens\n",
      "Kerem Aktürkoglu\n",
      "Mauro Icardi\n",
      "Barış Alper Yılmaz\n",
      "\n"
     ]
    }
   ],
   "source": [
    "with open(\"ReadMe.txt\",\"r\",encoding=\"utf-8\") as file:\n",
    "    print(file.read())"
   ]
  },
  {
   "cell_type": "markdown",
   "id": "2996b4e6",
   "metadata": {},
   "source": [
    "<h1> Dosyanın Başında Değişiklik yapmak </h1>\n",
    "<p>\"ReaMe.txt\" dosyamızın başına bir satır eklemek için ne yapabiliriz?\n",
    "Bunun için dosyamızı bütünüyle string haline alıp daha sonra satırımızı string ifadenin başına getirmemiz gerekiyor.\n",
    "Daha sonra dosyanın başına <b>seek()</b> fonksiyonuyla giderek ve <b> write()</b> fonksiyonu yardımıyla ekleme yapabiliriz.</p>"
   ]
  },
  {
   "cell_type": "code",
   "execution_count": 18,
   "id": "36a24e4f",
   "metadata": {},
   "outputs": [
    {
     "name": "stdout",
     "output_type": "stream",
     "text": [
      "Fernando Muslera\n",
      "Sacha Boey\n",
      "Victor Nelsson\n",
      "Abdülkerim Bardakci\n",
      "Sam Adekugbe\n",
      "Lucas Torreira\n",
      "Sérgio Oliveira\n",
      "Nicolò Zaniolo\n",
      "Dries Mertens\n",
      "Kerem Aktürkoglu\n",
      "Mauro Icardi\n",
      "Barış Alper Yılmaz\n",
      "\n"
     ]
    }
   ],
   "source": [
    "with open(\"ReadMe.txt\",\"r+\",encoding=\"utf-8\") as file:\n",
    "    oku=file.read()\n",
    "    print(oku)"
   ]
  },
  {
   "cell_type": "code",
   "execution_count": 23,
   "id": "957529dc",
   "metadata": {
    "scrolled": true
   },
   "outputs": [],
   "source": [
    "with open(\"ReadMe.txt\",\"r+\",encoding=\"utf-8\") as file:\n",
    "    oku=file.read()\n",
    "    oku=\"GS kadrosu:\\n\" + oku\n",
    "    file.seek(0)\n",
    "    file.write(oku)"
   ]
  },
  {
   "cell_type": "code",
   "execution_count": 27,
   "id": "b8943a01",
   "metadata": {},
   "outputs": [
    {
     "name": "stdout",
     "output_type": "stream",
     "text": [
      "GS kadrosu:\n",
      "Fernando Muslera\n",
      "Sacha Boey\n",
      "Victor Nelsson\n",
      "Abdülkerim Bardakci\n",
      "Sam Adekugbe\n",
      "Lucas Torreira\n",
      "Sérgio Oliveira\n",
      "Nicolò Zaniolo\n",
      "Dries Mertens\n",
      "Kerem Aktürkoglu\n",
      "Mauro Icardi\n",
      "Barış Alper Yılmaz\n",
      "\n"
     ]
    }
   ],
   "source": [
    "with open(\"ReadMe.txt\",\"r+\",encoding=\"utf-8\") as file:\n",
    "    print(file.read())"
   ]
  },
  {
   "cell_type": "markdown",
   "id": "a324df28",
   "metadata": {},
   "source": [
    "<h1> Dosyanın Ortasında Değişiklik yapmak</h1>\n",
    "<p>Dosyanın ortasında herhangi bir değişiklik yapmamızı sağlayan <b>readlines</b> fonksiyonunu kullanacağız.\n",
    "Daha sonra bu listenin bir yerine eleman ekleyerek bu listeyi <b>for</b> döngüsüyle dosyaya yazacağız.</p>"
   ]
  },
  {
   "cell_type": "code",
   "execution_count": 29,
   "id": "c2d3bef5",
   "metadata": {},
   "outputs": [
    {
     "name": "stdout",
     "output_type": "stream",
     "text": [
      "['GS kadrosu:\\n', 'Fernando Muslera\\n', 'Sacha Boey\\n', 'Victor Nelsson\\n', 'Abdülkerim Bardakci\\n', 'Sam Adekugbe\\n', 'Lucas Torreira\\n', 'Sérgio Oliveira\\n', 'Nicolò Zaniolo\\n', 'Dries Mertens\\n', 'Kerem Aktürkoglu\\n', 'Mauro Icardi\\n', 'Barış Alper Yılmaz\\n']\n"
     ]
    }
   ],
   "source": [
    "with open(\"ReadMe.txt\",\"r+\",encoding=\"utf-8\") as file:\n",
    "    print(file.readlines())"
   ]
  },
  {
   "cell_type": "code",
   "execution_count": 33,
   "id": "002ff803",
   "metadata": {},
   "outputs": [],
   "source": [
    "with open(\"ReadMe.txt\",\"r+\",encoding=\"utf-8\") as file:\n",
    "    liste=file.readlines()\n",
    "    liste.insert(6,\"Berkan kutlu\\n\")\n",
    "    file.seek(0)\n",
    "    for i in liste:\n",
    "        file.write(i)\n",
    "        "
   ]
  },
  {
   "cell_type": "code",
   "execution_count": 35,
   "id": "2f54e709",
   "metadata": {},
   "outputs": [
    {
     "name": "stdout",
     "output_type": "stream",
     "text": [
      "GS kadrosu:\n",
      "Fernando Muslera\n",
      "Sacha Boey\n",
      "Victor Nelsson\n",
      "Abdülkerim Bardakci\n",
      "Sam Adekugbe\n",
      "Berkan kutlu\n",
      "Lucas Torreira\n",
      "Sérgio Oliveira\n",
      "Nicolò Zaniolo\n",
      "Dries Mertens\n",
      "Kerem Aktürkoglu\n",
      "Mauro Icardi\n",
      "Barış Alper Yılmaz\n",
      "\n"
     ]
    }
   ],
   "source": [
    "with open(\"ReadMe.txt\",\"r+\",encoding=\"utf-8\") as file:\n",
    "    print(file.read())"
   ]
  },
  {
   "cell_type": "code",
   "execution_count": 36,
   "id": "512db906",
   "metadata": {},
   "outputs": [],
   "source": [
    "with open(\"ReadMe.txt\",\"r+\",encoding=\"utf-8\") as file:\n",
    "    liste=file.readlines()\n",
    "    liste.insert(9,\"Yunus Akgün\\n\")\n",
    "    file.seek(0)\n",
    "    file.writelines(liste)"
   ]
  },
  {
   "cell_type": "code",
   "execution_count": 37,
   "id": "9b81b922",
   "metadata": {},
   "outputs": [
    {
     "name": "stdout",
     "output_type": "stream",
     "text": [
      "GS kadrosu:\n",
      "Fernando Muslera\n",
      "Sacha Boey\n",
      "Victor Nelsson\n",
      "Abdülkerim Bardakci\n",
      "Sam Adekugbe\n",
      "Berkan kutlu\n",
      "Lucas Torreira\n",
      "Sérgio Oliveira\n",
      "Yunus Akgün\n",
      "Nicolò Zaniolo\n",
      "Dries Mertens\n",
      "Kerem Aktürkoglu\n",
      "Mauro Icardi\n",
      "Barış Alper Yılmaz\n",
      "\n"
     ]
    }
   ],
   "source": [
    "with open(\"ReadMe.txt\",\"r+\",encoding=\"utf-8\") as file:\n",
    "    print(file.read())"
   ]
  },
  {
   "cell_type": "code",
   "execution_count": null,
   "id": "9fb56ee7",
   "metadata": {},
   "outputs": [],
   "source": []
  }
 ],
 "metadata": {
  "kernelspec": {
   "display_name": "Python 3 (ipykernel)",
   "language": "python",
   "name": "python3"
  },
  "language_info": {
   "codemirror_mode": {
    "name": "ipython",
    "version": 3
   },
   "file_extension": ".py",
   "mimetype": "text/x-python",
   "name": "python",
   "nbconvert_exporter": "python",
   "pygments_lexer": "ipython3",
   "version": "3.9.7"
  }
 },
 "nbformat": 4,
 "nbformat_minor": 5
}
