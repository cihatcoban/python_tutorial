{
 "cells": [
  {
   "cell_type": "markdown",
   "id": "1c9d82c8",
   "metadata": {},
   "source": [
    "<h1>Dosya Okuma İşlemleri</h1>\n",
    "<p>Dosyaları okumak ve verileri almak için <b>\"r\"</b> kipiyle açmamız gerekir.Eğer böyle bir dosya yoksa <b>>\"FileNotFoundError\"</b> hatası dönecektir.</p>"
   ]
  },
  {
   "cell_type": "code",
   "execution_count": 1,
   "id": "7de36953",
   "metadata": {},
   "outputs": [],
   "source": [
    "# var olan bir dosyayı okuyalım\n",
    "file=open(\"ReadMe.txt\",\"r\")"
   ]
  },
  {
   "cell_type": "code",
   "execution_count": 2,
   "id": "5ba9ceec",
   "metadata": {},
   "outputs": [],
   "source": [
    "file.close()"
   ]
  },
  {
   "cell_type": "code",
   "execution_count": 3,
   "id": "5047e834",
   "metadata": {},
   "outputs": [
    {
     "ename": "FileNotFoundError",
     "evalue": "[Errno 2] No such file or directory: 'asd.txt'",
     "output_type": "error",
     "traceback": [
      "\u001b[1;31m---------------------------------------------------------------------------\u001b[0m",
      "\u001b[1;31mFileNotFoundError\u001b[0m                         Traceback (most recent call last)",
      "\u001b[1;32m~\\AppData\\Local\\Temp/ipykernel_648/4151989689.py\u001b[0m in \u001b[0;36m<module>\u001b[1;34m\u001b[0m\n\u001b[0;32m      1\u001b[0m \u001b[1;31m#var olmayan bir dosyayı okumak isteyelim\u001b[0m\u001b[1;33m\u001b[0m\u001b[1;33m\u001b[0m\u001b[0m\n\u001b[1;32m----> 2\u001b[1;33m \u001b[0mfile\u001b[0m\u001b[1;33m=\u001b[0m\u001b[0mopen\u001b[0m\u001b[1;33m(\u001b[0m\u001b[1;34m\"asd.txt\"\u001b[0m\u001b[1;33m,\u001b[0m\u001b[1;34m\"r\"\u001b[0m\u001b[1;33m)\u001b[0m\u001b[1;33m\u001b[0m\u001b[1;33m\u001b[0m\u001b[0m\n\u001b[0m",
      "\u001b[1;31mFileNotFoundError\u001b[0m: [Errno 2] No such file or directory: 'asd.txt'"
     ]
    }
   ],
   "source": [
    "#var olmayan bir dosyayı okumak isteyelim\n",
    "file=open(\"asd.txt\",\"r\")"
   ]
  },
  {
   "cell_type": "code",
   "execution_count": 4,
   "id": "ddecb16d",
   "metadata": {},
   "outputs": [
    {
     "name": "stdout",
     "output_type": "stream",
     "text": [
      "dosya bulunamadı.....\n"
     ]
    }
   ],
   "source": [
    "# şimdi de aldığımız hatanın ne anlama geldiğini kullanıcıya da gösterelim.\n",
    "try:\n",
    "    file=open(\"asd.txt\",\"r\")\n",
    "except FileNotFoundError:\n",
    "    print(\"dosya bulunamadı.....\")"
   ]
  },
  {
   "cell_type": "markdown",
   "id": "449ef4a7",
   "metadata": {},
   "source": [
    "<p> Peki dosyaların içini nasıl okuyacağız. Bunun değişik yöntemleri bulunuyor. Haydi hep birlikte öğrenelim</p>"
   ]
  },
  {
   "cell_type": "markdown",
   "id": "99143063",
   "metadata": {},
   "source": [
    "<h2> for döngüsü ile okuma</h2>\n",
    "<p>bu kullanım dosyadaki her satırı tek tek okuyocaktır</p>"
   ]
  },
  {
   "cell_type": "code",
   "execution_count": 7,
   "id": "d8b3acce",
   "metadata": {
    "scrolled": true
   },
   "outputs": [
    {
     "name": "stdout",
     "output_type": "stream",
     "text": [
      "cihat çoban tarafından oluşturulmuştur.\n",
      "\n",
      "Olşturma amacı eğitim içeriği oluşturma ve anlatım kolaylığı sağlamaktır\n",
      "\n",
      "gördüğünüz üzere alt satıra geçtik\n"
     ]
    }
   ],
   "source": [
    "file=open(\"ReadMe.txt\",\"r\",encoding=\"utf-8\") # dosya açma kipi ve türkçe karakterler için utf-8 \n",
    "\n",
    "for i in file: # tıpkı daha önce grdüğümüz listeler gibi her satırda geziniyoruz\n",
    "    print(i) # her satırı ekrana bastırıyoruz\n",
    "file.close()"
   ]
  },
  {
   "cell_type": "code",
   "execution_count": 8,
   "id": "d0d1c6ab",
   "metadata": {},
   "outputs": [
    {
     "name": "stdout",
     "output_type": "stream",
     "text": [
      "cihat çoban tarafından oluşturulmuştur.\n",
      "Olşturma amacı eğitim içeriği oluşturma ve anlatım kolaylığı sağlamaktır\n",
      "gördüğünüz üzere alt satıra geçtik"
     ]
    }
   ],
   "source": [
    "# gördüğünüz üzere dosya açarken bir satırı da boş yazdırdı bunu nasıl engeleyeceğimize bakalım\n",
    "file=open(\"ReadMe.txt\",\"r\",encoding=\"utf-8\") \n",
    "\n",
    "for i in file:\n",
    "    print(i,end=\"\") # \\n yerine hiç birşey koymadan devam et\n",
    "file.close()"
   ]
  },
  {
   "cell_type": "markdown",
   "id": "346a9745",
   "metadata": {},
   "source": [
    "<h2>read fonksiyonu</h2>\n",
    "<p> read fonksiyonu eğer içine bir değer vermezsek tüm dosyamızı okuyocaktır</p>"
   ]
  },
  {
   "cell_type": "code",
   "execution_count": 9,
   "id": "1b1d50d7",
   "metadata": {},
   "outputs": [
    {
     "name": "stdout",
     "output_type": "stream",
     "text": [
      "Dosya içeriği:\n",
      "cihat çoban tarafından oluşturulmuştur.\n",
      "Olşturma amacı eğitim içeriği oluşturma ve anlatım kolaylığı sağlamaktır\n",
      "gördüğünüz üzere alt satıra geçtik\n"
     ]
    }
   ],
   "source": [
    "file=open(\"ReadMe.txt\",\"r\",encoding=\"utf-8\")\n",
    "oku=file.read()\n",
    "print(\"Dosya içeriği:\\n\",oku,sep=\"\")\n",
    "file.close()"
   ]
  },
  {
   "cell_type": "markdown",
   "id": "a400b8dd",
   "metadata": {},
   "source": [
    "<h2>readline() fonksiyonu</h2>\n",
    "<p>readline() fonksiyonu her çağrıldığında sadece bir satırı okur. Her seferinde imleç bir satır atlayarak devam eder.</p>"
   ]
  },
  {
   "cell_type": "code",
   "execution_count": 10,
   "id": "cb987585",
   "metadata": {},
   "outputs": [],
   "source": [
    "file=open(\"ReadMe.txt\",\"r\",encoding=\"utf-8\")"
   ]
  },
  {
   "cell_type": "code",
   "execution_count": 11,
   "id": "a9cfec00",
   "metadata": {},
   "outputs": [
    {
     "name": "stdout",
     "output_type": "stream",
     "text": [
      "cihat çoban tarafından oluşturulmuştur.\n",
      "\n"
     ]
    }
   ],
   "source": [
    "print(file.readline())"
   ]
  },
  {
   "cell_type": "code",
   "execution_count": 12,
   "id": "069143a1",
   "metadata": {},
   "outputs": [
    {
     "name": "stdout",
     "output_type": "stream",
     "text": [
      "Olşturma amacı eğitim içeriği oluşturma ve anlatım kolaylığı sağlamaktır\n",
      "\n"
     ]
    }
   ],
   "source": [
    "print(file.readline())"
   ]
  },
  {
   "cell_type": "code",
   "execution_count": 14,
   "id": "a32d25a4",
   "metadata": {
    "scrolled": true
   },
   "outputs": [
    {
     "name": "stdout",
     "output_type": "stream",
     "text": [
      "gördüğünüz üzere alt satıra geçtik\n"
     ]
    }
   ],
   "source": [
    "print(file.readline())"
   ]
  },
  {
   "cell_type": "code",
   "execution_count": 15,
   "id": "1ab357aa",
   "metadata": {},
   "outputs": [],
   "source": [
    "file.close()"
   ]
  },
  {
   "cell_type": "markdown",
   "id": "92b9ff1c",
   "metadata": {},
   "source": [
    " <h2> readlines() fonksiyonu </h2>\n",
    " <p> readlines() fonksiyonu dosyanın tüm satırlarını liste şeklinde döner</p>"
   ]
  },
  {
   "cell_type": "code",
   "execution_count": 16,
   "id": "fd94a621",
   "metadata": {},
   "outputs": [],
   "source": [
    "file=open(\"ReadMe.txt\",\"r\",encoding=\"utf-8\")"
   ]
  },
  {
   "cell_type": "code",
   "execution_count": 17,
   "id": "9869a30b",
   "metadata": {},
   "outputs": [
    {
     "name": "stdout",
     "output_type": "stream",
     "text": [
      "['cihat çoban tarafından oluşturulmuştur.\\n', 'Olşturma amacı eğitim içeriği oluşturma ve anlatım kolaylığı sağlamaktır\\n', 'gördüğünüz üzere alt satıra geçtik']\n"
     ]
    }
   ],
   "source": [
    "print(file.readlines())"
   ]
  },
  {
   "cell_type": "code",
   "execution_count": null,
   "id": "7cf77dd7",
   "metadata": {},
   "outputs": [],
   "source": []
  },
  {
   "cell_type": "code",
   "execution_count": null,
   "id": "c98689a6",
   "metadata": {},
   "outputs": [],
   "source": []
  }
 ],
 "metadata": {
  "kernelspec": {
   "display_name": "Python 3 (ipykernel)",
   "language": "python",
   "name": "python3"
  },
  "language_info": {
   "codemirror_mode": {
    "name": "ipython",
    "version": 3
   },
   "file_extension": ".py",
   "mimetype": "text/x-python",
   "name": "python",
   "nbconvert_exporter": "python",
   "pygments_lexer": "ipython3",
   "version": "3.9.7"
  }
 },
 "nbformat": 4,
 "nbformat_minor": 5
}
