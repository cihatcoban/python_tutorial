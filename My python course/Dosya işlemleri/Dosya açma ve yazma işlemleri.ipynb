{
 "cells": [
  {
   "cell_type": "markdown",
   "id": "d9c44485",
   "metadata": {},
   "source": [
    "<h1> Dosya Açma </h1>\n",
    "<p> Bir dosya açmak için <b>open()</b> fonksiyonunu kullanırız. Yapısı şu şekildedir;\n",
    "    \n",
    "                        open(dosya_adı,dosya_erişme kipi)\n",
    "    \n",
    " Dosya adını istediğimiz isimde verebiliriz.Dosya erişme kipi ise bizim dosya üzerindeki işlemlerimizi belirler.\n",
    "    Haydi başlayalım...</p>\n",
    "    \n",
    "   <h2>\"W\" Dosya kipi</h2>\n",
    "   \n",
    "   <p>Dosyalarımızı açmak ve dosyalarımıza yazmak için <b>\"write\" anlamına gelen \"w\" kipini kullanırız</b>.\"w\" kipi eğer oluşturmak istediğimiz dizinde öyle bir dosya yoksa dosya oluşturuyor, eğer öyle bir dosya varsa silip tekrar oluşturuyor.yani ,eğer açmak istediğimiz dosyadan zaten varsa ve dosyanın içi doluysa \"w\" kipi dosyadaki bilgileri yinede silip tekrar oluşturacaktır.</p>"
   ]
  },
  {
   "cell_type": "code",
   "execution_count": 1,
   "id": "2e12e565",
   "metadata": {},
   "outputs": [
    {
     "data": {
      "text/plain": [
       "<_io.TextIOWrapper name='ReadMe.txt' mode='w' encoding='cp1254'>"
      ]
     },
     "execution_count": 1,
     "metadata": {},
     "output_type": "execute_result"
    }
   ],
   "source": [
    "open(\"ReadMe.txt\",\"w\")"
   ]
  },
  {
   "cell_type": "code",
   "execution_count": 2,
   "id": "91d78081",
   "metadata": {},
   "outputs": [],
   "source": [
    "#bulunduğumuz konumda bir tane txt dosyası oluşturduk.\n",
    "file=open(\"ReadMe.txt\",\"w\")"
   ]
  },
  {
   "cell_type": "code",
   "execution_count": 3,
   "id": "90931dc5",
   "metadata": {},
   "outputs": [],
   "source": [
    "# dosyayı işimiz bittince kapatık\n",
    "file.close()"
   ]
  },
  {
   "cell_type": "code",
   "execution_count": 4,
   "id": "cd2c9500",
   "metadata": {},
   "outputs": [],
   "source": [
    "#masa üstünde Bilgi adında bir dosya açtık\n",
    "file=open(\"C:/Users/cihat/Desktop/Bilgi.txt\",\"w\")"
   ]
  },
  {
   "cell_type": "code",
   "execution_count": 5,
   "id": "fd084628",
   "metadata": {},
   "outputs": [],
   "source": [
    "file.close()"
   ]
  },
  {
   "cell_type": "code",
   "execution_count": 6,
   "id": "f6a9d28e",
   "metadata": {},
   "outputs": [],
   "source": [
    "#  dosyamızın içine türkçe karekterleri algılaması için utf-8 encode ettik\n",
    "file=open(\"ReadMe.txt\",\"w\",encoding=\"utf-8\")"
   ]
  },
  {
   "cell_type": "code",
   "execution_count": 7,
   "id": "b92c9ba3",
   "metadata": {},
   "outputs": [
    {
     "data": {
      "text/plain": [
       "39"
      ]
     },
     "execution_count": 7,
     "metadata": {},
     "output_type": "execute_result"
    }
   ],
   "source": [
    "# dosyamızın içine birşeyler yazalım\n",
    "file.write(\"cihat çoban tarafından oluşturulmuştur.\")"
   ]
  },
  {
   "cell_type": "code",
   "execution_count": 8,
   "id": "7a8ae499",
   "metadata": {},
   "outputs": [],
   "source": [
    "file.close()"
   ]
  },
  {
   "cell_type": "markdown",
   "id": "9ea729b9",
   "metadata": {},
   "source": [
    "<h2>\"a\" Dosya kipi</h2>\n",
    "<p>\n",
    "    <b>append</b> (ekleme) kelimesi kısaltması olan <b>\"a\"</b> kipiyle bir dosyayı açtığımızda , dosya eğer yoksa oluşturur. Eğer varsa da tekrar oluşturmaz ve işlemleri dosyanın arkasına yazmaya başlar.\n",
    "</p>"
   ]
  },
  {
   "cell_type": "code",
   "execution_count": 9,
   "id": "8f795a9c",
   "metadata": {},
   "outputs": [],
   "source": [
    "# var olan dosyamızı tekrar açalım\n",
    "file=open(\"ReadMe.txt\",\"a\",encoding=\"utf-8\")"
   ]
  },
  {
   "cell_type": "code",
   "execution_count": 10,
   "id": "050977df",
   "metadata": {},
   "outputs": [
    {
     "data": {
      "text/plain": [
       "72"
      ]
     },
     "execution_count": 10,
     "metadata": {},
     "output_type": "execute_result"
    }
   ],
   "source": [
    "# içine ekleme yapalım\n",
    "file.write(\"olşturma amacı eğitim içeriği oluşturma ve anlatım kolaylığı sağlamaktır\")"
   ]
  },
  {
   "cell_type": "code",
   "execution_count": 11,
   "id": "29267f9f",
   "metadata": {},
   "outputs": [],
   "source": [
    "file.close()"
   ]
  },
  {
   "cell_type": "code",
   "execution_count": 12,
   "id": "abefccb7",
   "metadata": {},
   "outputs": [],
   "source": [
    "# peki bu yazdıklarımızı alt satıra nasıl geçireceğiz.\n",
    "# bunu için de \\n burda da işimize yarar.\n",
    "file=open(\"ReadMe.txt\",\"a\",encoding=\"utf-8\")"
   ]
  },
  {
   "cell_type": "code",
   "execution_count": 13,
   "id": "1690a086",
   "metadata": {},
   "outputs": [
    {
     "data": {
      "text/plain": [
       "36"
      ]
     },
     "execution_count": 13,
     "metadata": {},
     "output_type": "execute_result"
    }
   ],
   "source": [
    "file.write(\"\\n gördüğünüz üzere alt satıra geçtik\")"
   ]
  },
  {
   "cell_type": "code",
   "execution_count": 14,
   "id": "47043547",
   "metadata": {},
   "outputs": [],
   "source": [
    "file.close()"
   ]
  },
  {
   "cell_type": "code",
   "execution_count": null,
   "id": "5359219a",
   "metadata": {},
   "outputs": [],
   "source": []
  },
  {
   "cell_type": "code",
   "execution_count": null,
   "id": "bb559684",
   "metadata": {},
   "outputs": [],
   "source": []
  },
  {
   "cell_type": "code",
   "execution_count": null,
   "id": "9d47663d",
   "metadata": {},
   "outputs": [],
   "source": []
  }
 ],
 "metadata": {
  "kernelspec": {
   "display_name": "Python 3 (ipykernel)",
   "language": "python",
   "name": "python3"
  },
  "language_info": {
   "codemirror_mode": {
    "name": "ipython",
    "version": 3
   },
   "file_extension": ".py",
   "mimetype": "text/x-python",
   "name": "python",
   "nbconvert_exporter": "python",
   "pygments_lexer": "ipython3",
   "version": "3.9.7"
  }
 },
 "nbformat": 4,
 "nbformat_minor": 5
}
